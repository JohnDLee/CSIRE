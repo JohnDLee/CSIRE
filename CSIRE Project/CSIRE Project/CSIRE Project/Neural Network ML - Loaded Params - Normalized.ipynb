{
 "cells": [
  {
   "cell_type": "markdown",
   "metadata": {},
   "source": [
    "    Beginning the Regression Preparation"
   ]
  },
  {
   "cell_type": "code",
   "execution_count": 1,
   "metadata": {},
   "outputs": [],
   "source": [
    "\n",
    "import pandas as pd"
   ]
  },
  {
   "cell_type": "markdown",
   "metadata": {},
   "source": [
    "Building a Neural Network Model"
   ]
  },
  {
   "cell_type": "code",
   "execution_count": 2,
   "metadata": {},
   "outputs": [],
   "source": [
    "import numpy as np  \n",
    "import matplotlib.pyplot as plt  \n",
    "import seaborn as seabornInstance \n",
    "from sklearn.model_selection import train_test_split, cross_val_score\n",
    "from sklearn.neural_network import MLPRegressor as MLPR\n",
    "from sklearn import metrics\n",
    "from sklearn.decomposition import PCA\n",
    "from sklearn.model_selection import GridSearchCV as GSCV\n",
    "from sklearn.externals.joblib import dump,load\n",
    "from sklearn.preprocessing import StandardScaler\n",
    "%matplotlib inline"
   ]
  },
  {
   "cell_type": "markdown",
   "metadata": {},
   "source": [
    "Load ML dataset"
   ]
  },
  {
   "cell_type": "code",
   "execution_count": 3,
   "metadata": {},
   "outputs": [],
   "source": [
    "ML_dataset = pd.read_csv(\"data\\ML_dataset.csv\")"
   ]
  },
  {
   "cell_type": "code",
   "execution_count": 4,
   "metadata": {
    "scrolled": true
   },
   "outputs": [
    {
     "data": {
      "text/html": [
       "<div>\n",
       "<style scoped>\n",
       "    .dataframe tbody tr th:only-of-type {\n",
       "        vertical-align: middle;\n",
       "    }\n",
       "\n",
       "    .dataframe tbody tr th {\n",
       "        vertical-align: top;\n",
       "    }\n",
       "\n",
       "    .dataframe thead th {\n",
       "        text-align: right;\n",
       "    }\n",
       "</style>\n",
       "<table border=\"1\" class=\"dataframe\">\n",
       "  <thead>\n",
       "    <tr style=\"text-align: right;\">\n",
       "      <th></th>\n",
       "      <th>specialty_description</th>\n",
       "      <th>nppes_provider_city</th>\n",
       "      <th>total_claim_count</th>\n",
       "      <th>total_drug_cost</th>\n",
       "      <th>total_day_supply</th>\n",
       "      <th>total_30_day_fill_count</th>\n",
       "      <th>bene_count</th>\n",
       "      <th>brand_percent_spending</th>\n",
       "    </tr>\n",
       "  </thead>\n",
       "  <tbody>\n",
       "    <tr>\n",
       "      <th>0</th>\n",
       "      <td>39</td>\n",
       "      <td>9174</td>\n",
       "      <td>1946</td>\n",
       "      <td>140189.01</td>\n",
       "      <td>58605</td>\n",
       "      <td>2054.8</td>\n",
       "      <td>276</td>\n",
       "      <td>0.756466</td>\n",
       "    </tr>\n",
       "    <tr>\n",
       "      <th>1</th>\n",
       "      <td>108</td>\n",
       "      <td>9331</td>\n",
       "      <td>90</td>\n",
       "      <td>7561.21</td>\n",
       "      <td>2681</td>\n",
       "      <td>110.0</td>\n",
       "      <td>11</td>\n",
       "      <td>0.869739</td>\n",
       "    </tr>\n",
       "    <tr>\n",
       "      <th>2</th>\n",
       "      <td>32</td>\n",
       "      <td>8930</td>\n",
       "      <td>200</td>\n",
       "      <td>14549.85</td>\n",
       "      <td>7587</td>\n",
       "      <td>307.2</td>\n",
       "      <td>65</td>\n",
       "      <td>0.535970</td>\n",
       "    </tr>\n",
       "    <tr>\n",
       "      <th>3</th>\n",
       "      <td>70</td>\n",
       "      <td>3003</td>\n",
       "      <td>4981</td>\n",
       "      <td>258258.70</td>\n",
       "      <td>337309</td>\n",
       "      <td>11494.1</td>\n",
       "      <td>459</td>\n",
       "      <td>0.567573</td>\n",
       "    </tr>\n",
       "    <tr>\n",
       "      <th>4</th>\n",
       "      <td>88</td>\n",
       "      <td>7343</td>\n",
       "      <td>7165</td>\n",
       "      <td>379661.02</td>\n",
       "      <td>333309</td>\n",
       "      <td>11406.5</td>\n",
       "      <td>461</td>\n",
       "      <td>0.724479</td>\n",
       "    </tr>\n",
       "    <tr>\n",
       "      <th>5</th>\n",
       "      <td>108</td>\n",
       "      <td>8444</td>\n",
       "      <td>102</td>\n",
       "      <td>22124.43</td>\n",
       "      <td>4710</td>\n",
       "      <td>160.0</td>\n",
       "      <td>13</td>\n",
       "      <td>0.902614</td>\n",
       "    </tr>\n",
       "    <tr>\n",
       "      <th>6</th>\n",
       "      <td>70</td>\n",
       "      <td>8309</td>\n",
       "      <td>7054</td>\n",
       "      <td>428096.87</td>\n",
       "      <td>344274</td>\n",
       "      <td>11939.0</td>\n",
       "      <td>420</td>\n",
       "      <td>0.690766</td>\n",
       "    </tr>\n",
       "    <tr>\n",
       "      <th>7</th>\n",
       "      <td>88</td>\n",
       "      <td>8894</td>\n",
       "      <td>2573</td>\n",
       "      <td>266098.57</td>\n",
       "      <td>115667</td>\n",
       "      <td>3897.8</td>\n",
       "      <td>318</td>\n",
       "      <td>0.834835</td>\n",
       "    </tr>\n",
       "    <tr>\n",
       "      <th>8</th>\n",
       "      <td>91</td>\n",
       "      <td>9415</td>\n",
       "      <td>563</td>\n",
       "      <td>31341.84</td>\n",
       "      <td>14043</td>\n",
       "      <td>608.1</td>\n",
       "      <td>151</td>\n",
       "      <td>0.290058</td>\n",
       "    </tr>\n",
       "    <tr>\n",
       "      <th>9</th>\n",
       "      <td>70</td>\n",
       "      <td>9353</td>\n",
       "      <td>116</td>\n",
       "      <td>2605.35</td>\n",
       "      <td>9055</td>\n",
       "      <td>307.0</td>\n",
       "      <td>29</td>\n",
       "      <td>0.367052</td>\n",
       "    </tr>\n",
       "  </tbody>\n",
       "</table>\n",
       "</div>"
      ],
      "text/plain": [
       "   specialty_description  nppes_provider_city  total_claim_count  \\\n",
       "0                     39                 9174               1946   \n",
       "1                    108                 9331                 90   \n",
       "2                     32                 8930                200   \n",
       "3                     70                 3003               4981   \n",
       "4                     88                 7343               7165   \n",
       "5                    108                 8444                102   \n",
       "6                     70                 8309               7054   \n",
       "7                     88                 8894               2573   \n",
       "8                     91                 9415                563   \n",
       "9                     70                 9353                116   \n",
       "\n",
       "   total_drug_cost  total_day_supply  total_30_day_fill_count  bene_count  \\\n",
       "0        140189.01             58605                   2054.8         276   \n",
       "1          7561.21              2681                    110.0          11   \n",
       "2         14549.85              7587                    307.2          65   \n",
       "3        258258.70            337309                  11494.1         459   \n",
       "4        379661.02            333309                  11406.5         461   \n",
       "5         22124.43              4710                    160.0          13   \n",
       "6        428096.87            344274                  11939.0         420   \n",
       "7        266098.57            115667                   3897.8         318   \n",
       "8         31341.84             14043                    608.1         151   \n",
       "9          2605.35              9055                    307.0          29   \n",
       "\n",
       "   brand_percent_spending  \n",
       "0                0.756466  \n",
       "1                0.869739  \n",
       "2                0.535970  \n",
       "3                0.567573  \n",
       "4                0.724479  \n",
       "5                0.902614  \n",
       "6                0.690766  \n",
       "7                0.834835  \n",
       "8                0.290058  \n",
       "9                0.367052  "
      ]
     },
     "execution_count": 4,
     "metadata": {},
     "output_type": "execute_result"
    }
   ],
   "source": [
    "ML_dataset.head(10)"
   ]
  },
  {
   "cell_type": "markdown",
   "metadata": {},
   "source": [
    "Begin Model Building and Fitting\n",
    "\n",
    "Input and Output"
   ]
  },
  {
   "cell_type": "code",
   "execution_count": 5,
   "metadata": {
    "scrolled": false
   },
   "outputs": [
    {
     "name": "stdout",
     "output_type": "stream",
     "text": [
      "['specialty_description', 'nppes_provider_city', 'total_claim_count', 'total_drug_cost', 'total_day_supply', 'total_30_day_fill_count', 'bene_count']\n"
     ]
    }
   ],
   "source": [
    "Labels = ML_dataset.drop(\"brand_percent_spending\", axis=1).columns.tolist() #columns of drugs\n",
    "print(Labels)"
   ]
  },
  {
   "cell_type": "code",
   "execution_count": 6,
   "metadata": {
    "scrolled": true
   },
   "outputs": [],
   "source": [
    "X = ML_dataset[Labels] #input\n",
    "y = ML_dataset[\"brand_percent_spending\"] #labels\n"
   ]
  },
  {
   "cell_type": "markdown",
   "metadata": {},
   "source": [
    "PCA feature selection w/ Scaling"
   ]
  },
  {
   "cell_type": "code",
   "execution_count": 7,
   "metadata": {},
   "outputs": [
    {
     "name": "stderr",
     "output_type": "stream",
     "text": [
      "C:\\Users\\John Lee\\Anaconda3\\lib\\site-packages\\sklearn\\preprocessing\\data.py:645: DataConversionWarning: Data with input dtype int64, float64 were all converted to float64 by StandardScaler.\n",
      "  return self.partial_fit(X, y)\n",
      "C:\\Users\\John Lee\\Anaconda3\\lib\\site-packages\\sklearn\\base.py:464: DataConversionWarning: Data with input dtype int64, float64 were all converted to float64 by StandardScaler.\n",
      "  return self.fit(X, **fit_params).transform(X)\n"
     ]
    }
   ],
   "source": [
    "X = StandardScaler().fit_transform(X)#NN performs better with normalized data"
   ]
  },
  {
   "cell_type": "code",
   "execution_count": 8,
   "metadata": {
    "scrolled": true
   },
   "outputs": [],
   "source": [
    "PCA = PCA(n_components = 'mle')\n",
    "X = PCA.fit_transform(X)\n"
   ]
  },
  {
   "cell_type": "code",
   "execution_count": 9,
   "metadata": {
    "scrolled": false
   },
   "outputs": [
    {
     "name": "stdout",
     "output_type": "stream",
     "text": [
      "[0.56906204 0.15995163 0.13578093 0.07378827 0.05048682 0.01045913]\n"
     ]
    }
   ],
   "source": [
    "print(PCA.explained_variance_ratio_)  "
   ]
  },
  {
   "cell_type": "markdown",
   "metadata": {},
   "source": [
    "Split Data Into Test and Train"
   ]
  },
  {
   "cell_type": "code",
   "execution_count": 10,
   "metadata": {
    "scrolled": true
   },
   "outputs": [],
   "source": [
    "X_train, X_test, y_train, y_test = train_test_split(X, y, test_size=0.25)\n",
    "#Split into Test and Train"
   ]
  },
  {
   "cell_type": "markdown",
   "metadata": {},
   "source": [
    "Fit Data into Neural Network with Loaded Parameters"
   ]
  },
  {
   "cell_type": "code",
   "execution_count": 11,
   "metadata": {
    "scrolled": true
   },
   "outputs": [
    {
     "name": "stdout",
     "output_type": "stream",
     "text": [
      "MLPRegressor(activation='relu', alpha=0.0001, batch_size='auto', beta_1=0.9,\n",
      "       beta_2=0.999, early_stopping=True, epsilon=1e-08,\n",
      "       hidden_layer_sizes=30, learning_rate='invscaling',\n",
      "       learning_rate_init=0.001, max_iter=1000, momentum=0.9,\n",
      "       n_iter_no_change=10, nesterovs_momentum=True, power_t=0.5,\n",
      "       random_state=None, shuffle=True, solver='lbfgs', tol=0.0001,\n",
      "       validation_fraction=0.1, verbose=True, warm_start=False)\n"
     ]
    }
   ],
   "source": [
    "best_model =load(\"Model_Weights\\\\NNet\\\\NNet_best_model\")\n",
    "print(best_model)"
   ]
  },
  {
   "cell_type": "code",
   "execution_count": 12,
   "metadata": {
    "scrolled": true
   },
   "outputs": [
    {
     "data": {
      "text/plain": [
       "MLPRegressor(activation='relu', alpha=0.0001, batch_size='auto', beta_1=0.9,\n",
       "       beta_2=0.999, early_stopping=True, epsilon=1e-08,\n",
       "       hidden_layer_sizes=30, learning_rate='invscaling',\n",
       "       learning_rate_init=0.001, max_iter=1000, momentum=0.9,\n",
       "       n_iter_no_change=10, nesterovs_momentum=True, power_t=0.5,\n",
       "       random_state=None, shuffle=True, solver='lbfgs', tol=0.0001,\n",
       "       validation_fraction=0.1, verbose=True, warm_start=False)"
      ]
     },
     "execution_count": 12,
     "metadata": {},
     "output_type": "execute_result"
    }
   ],
   "source": [
    "MLPR = best_model\n",
    "MLPR.fit(X_train, y_train)"
   ]
  },
  {
   "cell_type": "markdown",
   "metadata": {},
   "source": [
    "Predictions"
   ]
  },
  {
   "cell_type": "code",
   "execution_count": 13,
   "metadata": {},
   "outputs": [],
   "source": [
    "y_pred = MLPR.predict(X_test)"
   ]
  },
  {
   "cell_type": "code",
   "execution_count": 14,
   "metadata": {},
   "outputs": [
    {
     "data": {
      "text/html": [
       "<div>\n",
       "<style scoped>\n",
       "    .dataframe tbody tr th:only-of-type {\n",
       "        vertical-align: middle;\n",
       "    }\n",
       "\n",
       "    .dataframe tbody tr th {\n",
       "        vertical-align: top;\n",
       "    }\n",
       "\n",
       "    .dataframe thead th {\n",
       "        text-align: right;\n",
       "    }\n",
       "</style>\n",
       "<table border=\"1\" class=\"dataframe\">\n",
       "  <thead>\n",
       "    <tr style=\"text-align: right;\">\n",
       "      <th></th>\n",
       "      <th>Actual</th>\n",
       "      <th>Predicted</th>\n",
       "    </tr>\n",
       "  </thead>\n",
       "  <tbody>\n",
       "    <tr>\n",
       "      <th>321233</th>\n",
       "      <td>0.551067</td>\n",
       "      <td>0.680307</td>\n",
       "    </tr>\n",
       "    <tr>\n",
       "      <th>318593</th>\n",
       "      <td>0.748372</td>\n",
       "      <td>0.674664</td>\n",
       "    </tr>\n",
       "    <tr>\n",
       "      <th>535255</th>\n",
       "      <td>0.713459</td>\n",
       "      <td>0.677019</td>\n",
       "    </tr>\n",
       "    <tr>\n",
       "      <th>91670</th>\n",
       "      <td>0.709970</td>\n",
       "      <td>0.705050</td>\n",
       "    </tr>\n",
       "    <tr>\n",
       "      <th>180508</th>\n",
       "      <td>0.752367</td>\n",
       "      <td>0.670670</td>\n",
       "    </tr>\n",
       "    <tr>\n",
       "      <th>38768</th>\n",
       "      <td>0.886798</td>\n",
       "      <td>0.975651</td>\n",
       "    </tr>\n",
       "    <tr>\n",
       "      <th>69203</th>\n",
       "      <td>0.364909</td>\n",
       "      <td>0.854263</td>\n",
       "    </tr>\n",
       "    <tr>\n",
       "      <th>145261</th>\n",
       "      <td>0.742159</td>\n",
       "      <td>0.660911</td>\n",
       "    </tr>\n",
       "    <tr>\n",
       "      <th>472493</th>\n",
       "      <td>0.996143</td>\n",
       "      <td>0.991191</td>\n",
       "    </tr>\n",
       "    <tr>\n",
       "      <th>118122</th>\n",
       "      <td>0.765874</td>\n",
       "      <td>0.745122</td>\n",
       "    </tr>\n",
       "    <tr>\n",
       "      <th>202588</th>\n",
       "      <td>0.883717</td>\n",
       "      <td>0.902412</td>\n",
       "    </tr>\n",
       "    <tr>\n",
       "      <th>343421</th>\n",
       "      <td>0.661526</td>\n",
       "      <td>0.669083</td>\n",
       "    </tr>\n",
       "    <tr>\n",
       "      <th>502707</th>\n",
       "      <td>0.529092</td>\n",
       "      <td>0.742758</td>\n",
       "    </tr>\n",
       "    <tr>\n",
       "      <th>544613</th>\n",
       "      <td>0.338626</td>\n",
       "      <td>0.330413</td>\n",
       "    </tr>\n",
       "    <tr>\n",
       "      <th>492117</th>\n",
       "      <td>0.671021</td>\n",
       "      <td>0.657475</td>\n",
       "    </tr>\n",
       "    <tr>\n",
       "      <th>534876</th>\n",
       "      <td>0.811772</td>\n",
       "      <td>0.899410</td>\n",
       "    </tr>\n",
       "    <tr>\n",
       "      <th>443958</th>\n",
       "      <td>0.895416</td>\n",
       "      <td>0.906884</td>\n",
       "    </tr>\n",
       "    <tr>\n",
       "      <th>362712</th>\n",
       "      <td>0.750010</td>\n",
       "      <td>0.590193</td>\n",
       "    </tr>\n",
       "    <tr>\n",
       "      <th>21656</th>\n",
       "      <td>0.756709</td>\n",
       "      <td>0.715573</td>\n",
       "    </tr>\n",
       "    <tr>\n",
       "      <th>78528</th>\n",
       "      <td>0.575527</td>\n",
       "      <td>0.544005</td>\n",
       "    </tr>\n",
       "    <tr>\n",
       "      <th>100889</th>\n",
       "      <td>0.141529</td>\n",
       "      <td>0.429168</td>\n",
       "    </tr>\n",
       "    <tr>\n",
       "      <th>528941</th>\n",
       "      <td>0.488374</td>\n",
       "      <td>0.490361</td>\n",
       "    </tr>\n",
       "    <tr>\n",
       "      <th>167556</th>\n",
       "      <td>0.892111</td>\n",
       "      <td>0.836141</td>\n",
       "    </tr>\n",
       "    <tr>\n",
       "      <th>541712</th>\n",
       "      <td>0.609189</td>\n",
       "      <td>0.709543</td>\n",
       "    </tr>\n",
       "    <tr>\n",
       "      <th>427262</th>\n",
       "      <td>0.761669</td>\n",
       "      <td>0.744770</td>\n",
       "    </tr>\n",
       "  </tbody>\n",
       "</table>\n",
       "</div>"
      ],
      "text/plain": [
       "          Actual  Predicted\n",
       "321233  0.551067   0.680307\n",
       "318593  0.748372   0.674664\n",
       "535255  0.713459   0.677019\n",
       "91670   0.709970   0.705050\n",
       "180508  0.752367   0.670670\n",
       "38768   0.886798   0.975651\n",
       "69203   0.364909   0.854263\n",
       "145261  0.742159   0.660911\n",
       "472493  0.996143   0.991191\n",
       "118122  0.765874   0.745122\n",
       "202588  0.883717   0.902412\n",
       "343421  0.661526   0.669083\n",
       "502707  0.529092   0.742758\n",
       "544613  0.338626   0.330413\n",
       "492117  0.671021   0.657475\n",
       "534876  0.811772   0.899410\n",
       "443958  0.895416   0.906884\n",
       "362712  0.750010   0.590193\n",
       "21656   0.756709   0.715573\n",
       "78528   0.575527   0.544005\n",
       "100889  0.141529   0.429168\n",
       "528941  0.488374   0.490361\n",
       "167556  0.892111   0.836141\n",
       "541712  0.609189   0.709543\n",
       "427262  0.761669   0.744770"
      ]
     },
     "execution_count": 14,
     "metadata": {},
     "output_type": "execute_result"
    }
   ],
   "source": [
    "comparison_df = pd.DataFrame({'Actual': y_test, 'Predicted': y_pred})\n",
    "comparison_df.head(25)\n"
   ]
  },
  {
   "cell_type": "code",
   "execution_count": 26,
   "metadata": {},
   "outputs": [
    {
     "data": {
      "image/png": "[encoded data removed]",
      "text/plain": [
       "<Figure size 720x576 with 1 Axes>"
      ]
     },
     "metadata": {
      "needs_background": "light"
     },
     "output_type": "display_data"
    }
   ],
   "source": [
    "comparison_df.iloc[0:25].plot(kind='bar',figsize=(10,8))\n",
    "plt.grid(which='major', linestyle='-', linewidth='0.5', color='green')\n",
    "plt.grid(which='minor', linestyle=':', linewidth='0.5', color='black')\n"
   ]
  },
  {
   "cell_type": "code",
   "execution_count": 23,
   "metadata": {
    "scrolled": true
   },
   "outputs": [
    {
     "data": {
      "text/plain": [
       "Text(0.5, 1.0, 'Neural Network Model')"
      ]
     },
     "execution_count": 23,
     "metadata": {},
     "output_type": "execute_result"
    },
    {
     "data": {
      "image/png": "[encoded data removed]",
      "text/plain": [
       "<Figure size 432x288 with 1 Axes>"
      ]
     },
     "metadata": {
      "needs_background": "light"
     },
     "output_type": "display_data"
    }
   ],
   "source": [
    "plt.scatter(comparison_df.iloc[0:1000][\"Actual\"], comparison_df.iloc[0:1000][\"Predicted\"], alpha = .25)\n",
    "plt.xlabel(\"Actual Values\", fontsize = 16) #scatter plot of specialty combined data\n",
    "plt.ylabel(\"Predicted Values\",  fontsize = 16)\n",
    "plt.title(\"Neural Network Model\")"
   ]
  },
  {
   "cell_type": "markdown",
   "metadata": {},
   "source": [
    "Statistics"
   ]
  },
  {
   "cell_type": "code",
   "execution_count": 17,
   "metadata": {
    "scrolled": false
   },
   "outputs": [
    {
     "name": "stdout",
     "output_type": "stream",
     "text": [
      "r Squared: 0.6227138246797814\n"
     ]
    }
   ],
   "source": [
    "print(\"r Squared:\", metrics.r2_score(y_test, y_pred))\n",
    "rsq = metrics.r2_score(y_test, y_pred)"
   ]
  },
  {
   "cell_type": "code",
   "execution_count": 18,
   "metadata": {
    "scrolled": true
   },
   "outputs": [
    {
     "name": "stdout",
     "output_type": "stream",
     "text": [
      "Mean Absolute Error: 0.08787576780520029\n",
      "Mean Squared Error: 0.015452070565363778\n"
     ]
    }
   ],
   "source": [
    "print('Mean Absolute Error:', metrics.mean_absolute_error(y_test, y_pred))\n",
    "mae = metrics.mean_absolute_error(y_test, y_pred)\n",
    "print('Mean Squared Error:', metrics.mean_squared_error(y_test, y_pred))\n",
    "mse = metrics.mean_squared_error(y_test, y_pred)"
   ]
  },
  {
   "cell_type": "code",
   "execution_count": 19,
   "metadata": {},
   "outputs": [],
   "source": [
    "metrics_df = pd.read_csv(\"data\\metrics_df.csv\")\n",
    "metrics_df = metrics_df.append({\"Input\": Labels, \"R Squared\": rsq, \"Mean Absolute Error\": mae, \"Mean Squared Error\": mse, \"Model\": \"Neural Network\"}, ignore_index=True)"
   ]
  },
  {
   "cell_type": "code",
   "execution_count": 20,
   "metadata": {},
   "outputs": [
    {
     "data": {
      "text/html": [
       "<div>\n",
       "<style scoped>\n",
       "    .dataframe tbody tr th:only-of-type {\n",
       "        vertical-align: middle;\n",
       "    }\n",
       "\n",
       "    .dataframe tbody tr th {\n",
       "        vertical-align: top;\n",
       "    }\n",
       "\n",
       "    .dataframe thead th {\n",
       "        text-align: right;\n",
       "    }\n",
       "</style>\n",
       "<table border=\"1\" class=\"dataframe\">\n",
       "  <thead>\n",
       "    <tr style=\"text-align: right;\">\n",
       "      <th></th>\n",
       "      <th>Input</th>\n",
       "      <th>R Squared</th>\n",
       "      <th>Mean Absolute Error</th>\n",
       "      <th>Mean Squared Error</th>\n",
       "      <th>Model</th>\n",
       "    </tr>\n",
       "  </thead>\n",
       "  <tbody>\n",
       "    <tr>\n",
       "      <th>46</th>\n",
       "      <td>['specialty_description', 'nppes_provider_city...</td>\n",
       "      <td>0.621503</td>\n",
       "      <td>0.087354</td>\n",
       "      <td>0.015451</td>\n",
       "      <td>Neural Network</td>\n",
       "    </tr>\n",
       "    <tr>\n",
       "      <th>47</th>\n",
       "      <td>['specialty_description', 'nppes_provider_city...</td>\n",
       "      <td>0.683437</td>\n",
       "      <td>0.078626</td>\n",
       "      <td>0.012899</td>\n",
       "      <td>Random Forest</td>\n",
       "    </tr>\n",
       "    <tr>\n",
       "      <th>48</th>\n",
       "      <td>['specialty_description', 'nppes_provider_city...</td>\n",
       "      <td>0.626525</td>\n",
       "      <td>0.087325</td>\n",
       "      <td>0.015342</td>\n",
       "      <td>Neural Network</td>\n",
       "    </tr>\n",
       "    <tr>\n",
       "      <th>49</th>\n",
       "      <td>['specialty_description', 'nppes_provider_city...</td>\n",
       "      <td>0.683719</td>\n",
       "      <td>0.078586</td>\n",
       "      <td>0.012941</td>\n",
       "      <td>Random Forest</td>\n",
       "    </tr>\n",
       "    <tr>\n",
       "      <th>50</th>\n",
       "      <td>[specialty_description, nppes_provider_city, t...</td>\n",
       "      <td>0.622714</td>\n",
       "      <td>0.087876</td>\n",
       "      <td>0.015452</td>\n",
       "      <td>Neural Network</td>\n",
       "    </tr>\n",
       "  </tbody>\n",
       "</table>\n",
       "</div>"
      ],
      "text/plain": [
       "                                                Input  R Squared  \\\n",
       "46  ['specialty_description', 'nppes_provider_city...   0.621503   \n",
       "47  ['specialty_description', 'nppes_provider_city...   0.683437   \n",
       "48  ['specialty_description', 'nppes_provider_city...   0.626525   \n",
       "49  ['specialty_description', 'nppes_provider_city...   0.683719   \n",
       "50  [specialty_description, nppes_provider_city, t...   0.622714   \n",
       "\n",
       "    Mean Absolute Error  Mean Squared Error           Model  \n",
       "46             0.087354            0.015451  Neural Network  \n",
       "47             0.078626            0.012899   Random Forest  \n",
       "48             0.087325            0.015342  Neural Network  \n",
       "49             0.078586            0.012941   Random Forest  \n",
       "50             0.087876            0.015452  Neural Network  "
      ]
     },
     "execution_count": 20,
     "metadata": {},
     "output_type": "execute_result"
    }
   ],
   "source": [
    "metrics_df.tail()"
   ]
  },
  {
   "cell_type": "code",
   "execution_count": 21,
   "metadata": {},
   "outputs": [],
   "source": [
    "metrics_df.to_csv(\"data\\metrics_df.csv\", index = False)"
   ]
  },
  {
   "cell_type": "markdown",
   "metadata": {},
   "source": [
    "Save the Trained Model"
   ]
  },
  {
   "cell_type": "code",
   "execution_count": 22,
   "metadata": {},
   "outputs": [
    {
     "data": {
      "text/plain": [
       "['Model_Weights\\\\NNet\\\\NNet_trainedLoaded']"
      ]
     },
     "execution_count": 22,
     "metadata": {},
     "output_type": "execute_result"
    }
   ],
   "source": [
    "dump(MLPR, \"Model_Weights\\\\NNet\\\\NNet_trainedLoaded\") "
   ]
  },
  {
   "cell_type": "code",
   "execution_count": null,
   "metadata": {},
   "outputs": [],
   "source": []
  }
 ],
 "metadata": {
  "kernelspec": {
   "display_name": "Python 3",
   "language": "python",
   "name": "python3"
  },
  "language_info": {
   "codemirror_mode": {
    "name": "ipython",
    "version": 3
   },
   "file_extension": ".py",
   "mimetype": "text/x-python",
   "name": "python",
   "nbconvert_exporter": "python",
   "pygments_lexer": "ipython3",
   "version": "3.7.3"
  }
 },
 "nbformat": 4,
 "nbformat_minor": 2
}
