{
 "cells": [
  {
   "cell_type": "markdown",
   "metadata": {},
   "source": [
    "Building K Nearest Regression Model"
   ]
  },
  {
   "cell_type": "code",
   "execution_count": 1,
   "metadata": {},
   "outputs": [],
   "source": [
    "import pandas as pd  \n",
    "import numpy as np  \n",
    "import matplotlib.pyplot as plt \n",
    "import seaborn as seabornInstance \n",
    "from sklearn.model_selection import train_test_split  \n",
    "from sklearn.neighbors import KNeighborsRegressor as KNR\n",
    "from sklearn import metrics\n",
    "from sklearn.decomposition import PCA\n",
    "from sklearn.externals.joblib import dump,load\n",
    "from sklearn.preprocessing import StandardScaler\n",
    "from sklearn.model_selection import GridSearchCV as GSCV\n",
    "\n",
    "%matplotlib inline"
   ]
  },
  {
   "cell_type": "markdown",
   "metadata": {},
   "source": [
    "Load Dataset"
   ]
  },
  {
   "cell_type": "code",
   "execution_count": 2,
   "metadata": {},
   "outputs": [],
   "source": [
    "ML_dataset = pd.read_csv(\"data\\ML_dataset.csv\")"
   ]
  },
  {
   "cell_type": "markdown",
   "metadata": {},
   "source": [
    "Begin Model Building and Fitting\n",
    "\n",
    "Input and Output"
   ]
  },
  {
   "cell_type": "code",
   "execution_count": 3,
   "metadata": {},
   "outputs": [
    {
     "name": "stdout",
     "output_type": "stream",
     "text": [
      "['specialty_description', 'nppes_provider_city', 'total_claim_count', 'total_drug_cost', 'total_day_supply', 'total_30_day_fill_count', 'bene_count']\n"
     ]
    }
   ],
   "source": [
    "Labels = ML_dataset.drop(\"brand_percent_spending\", axis=1).columns.tolist() #columns of drugs\n",
    "print(Labels)"
   ]
  },
  {
   "cell_type": "code",
   "execution_count": 4,
   "metadata": {},
   "outputs": [],
   "source": [
    "X = ML_dataset[Labels]\n",
    "y = ML_dataset[\"brand_percent_spending\"]\n",
    "# Seperate into attributes and Labels"
   ]
  },
  {
   "cell_type": "markdown",
   "metadata": {},
   "source": [
    "PCA feature Selection with Scaling"
   ]
  },
  {
   "cell_type": "code",
   "execution_count": 5,
   "metadata": {},
   "outputs": [
    {
     "name": "stderr",
     "output_type": "stream",
     "text": [
      "C:\\Users\\John Lee\\Anaconda3\\lib\\site-packages\\sklearn\\preprocessing\\data.py:645: DataConversionWarning: Data with input dtype int64, float64 were all converted to float64 by StandardScaler.\n",
      "  return self.partial_fit(X, y)\n",
      "C:\\Users\\John Lee\\Anaconda3\\lib\\site-packages\\sklearn\\base.py:464: DataConversionWarning: Data with input dtype int64, float64 were all converted to float64 by StandardScaler.\n",
      "  return self.fit(X, **fit_params).transform(X)\n"
     ]
    }
   ],
   "source": [
    "X = StandardScaler().fit_transform(X)"
   ]
  },
  {
   "cell_type": "code",
   "execution_count": 6,
   "metadata": {},
   "outputs": [],
   "source": [
    "PCA = PCA(n_components = 'mle')\n",
    "X=PCA.fit_transform(X)"
   ]
  },
  {
   "cell_type": "code",
   "execution_count": 7,
   "metadata": {},
   "outputs": [
    {
     "name": "stdout",
     "output_type": "stream",
     "text": [
      "[0.56906204 0.15995163 0.13578093 0.07378827 0.05048682 0.01045913]\n"
     ]
    }
   ],
   "source": [
    "print(PCA.explained_variance_ratio_) "
   ]
  },
  {
   "cell_type": "markdown",
   "metadata": {},
   "source": [
    "Split Data into test and train"
   ]
  },
  {
   "cell_type": "code",
   "execution_count": 8,
   "metadata": {},
   "outputs": [],
   "source": [
    "X_train, X_test, y_train, y_test = train_test_split(X, y, test_size=0.25)\n",
    "#Split into Test and Train"
   ]
  },
  {
   "cell_type": "markdown",
   "metadata": {},
   "source": [
    "Fit Data into K Nearest with GridSearch Cross Validation"
   ]
  },
  {
   "cell_type": "code",
   "execution_count": 9,
   "metadata": {},
   "outputs": [],
   "source": [
    "KNR = KNR(algorithm = \"kd_tree\")"
   ]
  },
  {
   "cell_type": "code",
   "execution_count": 10,
   "metadata": {},
   "outputs": [
    {
     "name": "stdout",
     "output_type": "stream",
     "text": [
      "Fitting 3 folds for each of 6 candidates, totalling 18 fits"
     ]
    },
    {
     "name": "stderr",
     "output_type": "stream",
     "text": [
      "C:\\Users\\John Lee\\Anaconda3\\lib\\site-packages\\sklearn\\model_selection\\_split.py:2053: FutureWarning: You should specify a value for 'cv' instead of relying on the default value. The default value will change from 3 to 5 in version 0.22.\n",
      "  warnings.warn(CV_WARNING, FutureWarning)\n",
      "[Parallel(n_jobs=-2)]: Using backend LokyBackend with 7 concurrent workers.\n"
     ]
    },
    {
     "name": "stdout",
     "output_type": "stream",
     "text": [
      "\n"
     ]
    },
    {
     "name": "stderr",
     "output_type": "stream",
     "text": [
      "[Parallel(n_jobs=-2)]: Done  18 out of  18 | elapsed:  2.4min finished\n"
     ]
    },
    {
     "name": "stdout",
     "output_type": "stream",
     "text": [
      "{'n_neighbors': 20, 'weights': 'distance'}\n"
     ]
    }
   ],
   "source": [
    "parameters = {'n_neighbors': [10, 20, 30], \n",
    "              'weights': ['uniform','distance'],\n",
    "             }\n",
    "\n",
    "scorer = metrics.make_scorer(metrics.r2_score)\n",
    "GSCV = GSCV(KNR, param_grid =parameters, scoring = scorer, n_jobs = -2, verbose = 1)\n",
    "GSCV = GSCV.fit(X_train, y_train)\n",
    "dump(GSCV.best_estimator_, \"Model_Weights\\KNear\\KNear_best_model\") #save model params\n",
    "print(GSCV.best_params_)"
   ]
  },
  {
   "cell_type": "code",
   "execution_count": 11,
   "metadata": {
    "scrolled": false
   },
   "outputs": [
    {
     "data": {
      "text/plain": [
       "KNeighborsRegressor(algorithm='kd_tree', leaf_size=30, metric='minkowski',\n",
       "          metric_params=None, n_jobs=None, n_neighbors=20, p=2,\n",
       "          weights='distance')"
      ]
     },
     "execution_count": 11,
     "metadata": {},
     "output_type": "execute_result"
    }
   ],
   "source": [
    "KNR = GSCV.best_estimator_\n",
    "KNR.fit(X_train, y_train)"
   ]
  },
  {
   "cell_type": "markdown",
   "metadata": {},
   "source": [
    "Observe CV Results"
   ]
  },
  {
   "cell_type": "code",
   "execution_count": 12,
   "metadata": {},
   "outputs": [
    {
     "name": "stderr",
     "output_type": "stream",
     "text": [
      "C:\\Users\\John Lee\\Anaconda3\\lib\\site-packages\\sklearn\\utils\\deprecation.py:125: FutureWarning: You are accessing a training score ('split0_train_score'), which will not be available by default any more in 0.21. If you need training scores, please set return_train_score=True\n",
      "  warnings.warn(*warn_args, **warn_kwargs)\n",
      "C:\\Users\\John Lee\\Anaconda3\\lib\\site-packages\\sklearn\\utils\\deprecation.py:125: FutureWarning: You are accessing a training score ('split1_train_score'), which will not be available by default any more in 0.21. If you need training scores, please set return_train_score=True\n",
      "  warnings.warn(*warn_args, **warn_kwargs)\n",
      "C:\\Users\\John Lee\\Anaconda3\\lib\\site-packages\\sklearn\\utils\\deprecation.py:125: FutureWarning: You are accessing a training score ('split2_train_score'), which will not be available by default any more in 0.21. If you need training scores, please set return_train_score=True\n",
      "  warnings.warn(*warn_args, **warn_kwargs)\n",
      "C:\\Users\\John Lee\\Anaconda3\\lib\\site-packages\\sklearn\\utils\\deprecation.py:125: FutureWarning: You are accessing a training score ('mean_train_score'), which will not be available by default any more in 0.21. If you need training scores, please set return_train_score=True\n",
      "  warnings.warn(*warn_args, **warn_kwargs)\n",
      "C:\\Users\\John Lee\\Anaconda3\\lib\\site-packages\\sklearn\\utils\\deprecation.py:125: FutureWarning: You are accessing a training score ('std_train_score'), which will not be available by default any more in 0.21. If you need training scores, please set return_train_score=True\n",
      "  warnings.warn(*warn_args, **warn_kwargs)\n"
     ]
    },
    {
     "data": {
      "text/html": [
       "<div>\n",
       "<style scoped>\n",
       "    .dataframe tbody tr th:only-of-type {\n",
       "        vertical-align: middle;\n",
       "    }\n",
       "\n",
       "    .dataframe tbody tr th {\n",
       "        vertical-align: top;\n",
       "    }\n",
       "\n",
       "    .dataframe thead th {\n",
       "        text-align: right;\n",
       "    }\n",
       "</style>\n",
       "<table border=\"1\" class=\"dataframe\">\n",
       "  <thead>\n",
       "    <tr style=\"text-align: right;\">\n",
       "      <th></th>\n",
       "      <th>mean_fit_time</th>\n",
       "      <th>std_fit_time</th>\n",
       "      <th>mean_score_time</th>\n",
       "      <th>std_score_time</th>\n",
       "      <th>param_n_neighbors</th>\n",
       "      <th>param_weights</th>\n",
       "      <th>params</th>\n",
       "      <th>split0_test_score</th>\n",
       "      <th>split1_test_score</th>\n",
       "      <th>split2_test_score</th>\n",
       "      <th>mean_test_score</th>\n",
       "      <th>std_test_score</th>\n",
       "      <th>rank_test_score</th>\n",
       "      <th>split0_train_score</th>\n",
       "      <th>split1_train_score</th>\n",
       "      <th>split2_train_score</th>\n",
       "      <th>mean_train_score</th>\n",
       "      <th>std_train_score</th>\n",
       "    </tr>\n",
       "  </thead>\n",
       "  <tbody>\n",
       "    <tr>\n",
       "      <th>3</th>\n",
       "      <td>0.889011</td>\n",
       "      <td>0.090224</td>\n",
       "      <td>16.766856</td>\n",
       "      <td>0.409552</td>\n",
       "      <td>20</td>\n",
       "      <td>distance</td>\n",
       "      <td>{'n_neighbors': 20, 'weights': 'distance'}</td>\n",
       "      <td>0.539258</td>\n",
       "      <td>0.540394</td>\n",
       "      <td>0.543460</td>\n",
       "      <td>0.541038</td>\n",
       "      <td>0.001775</td>\n",
       "      <td>1</td>\n",
       "      <td>1.000000</td>\n",
       "      <td>1.000000</td>\n",
       "      <td>1.000000</td>\n",
       "      <td>1.000000</td>\n",
       "      <td>0.000000</td>\n",
       "    </tr>\n",
       "    <tr>\n",
       "      <th>5</th>\n",
       "      <td>0.907705</td>\n",
       "      <td>0.126444</td>\n",
       "      <td>17.290989</td>\n",
       "      <td>0.962103</td>\n",
       "      <td>30</td>\n",
       "      <td>distance</td>\n",
       "      <td>{'n_neighbors': 30, 'weights': 'distance'}</td>\n",
       "      <td>0.536351</td>\n",
       "      <td>0.538165</td>\n",
       "      <td>0.541036</td>\n",
       "      <td>0.538517</td>\n",
       "      <td>0.001929</td>\n",
       "      <td>2</td>\n",
       "      <td>1.000000</td>\n",
       "      <td>1.000000</td>\n",
       "      <td>1.000000</td>\n",
       "      <td>1.000000</td>\n",
       "      <td>0.000000</td>\n",
       "    </tr>\n",
       "    <tr>\n",
       "      <th>1</th>\n",
       "      <td>1.184565</td>\n",
       "      <td>0.153843</td>\n",
       "      <td>13.217942</td>\n",
       "      <td>0.238116</td>\n",
       "      <td>10</td>\n",
       "      <td>distance</td>\n",
       "      <td>{'n_neighbors': 10, 'weights': 'distance'}</td>\n",
       "      <td>0.533566</td>\n",
       "      <td>0.533754</td>\n",
       "      <td>0.537097</td>\n",
       "      <td>0.534805</td>\n",
       "      <td>0.001622</td>\n",
       "      <td>3</td>\n",
       "      <td>1.000000</td>\n",
       "      <td>1.000000</td>\n",
       "      <td>1.000000</td>\n",
       "      <td>1.000000</td>\n",
       "      <td>0.000000</td>\n",
       "    </tr>\n",
       "    <tr>\n",
       "      <th>2</th>\n",
       "      <td>1.061164</td>\n",
       "      <td>0.162274</td>\n",
       "      <td>16.727958</td>\n",
       "      <td>0.649437</td>\n",
       "      <td>20</td>\n",
       "      <td>uniform</td>\n",
       "      <td>{'n_neighbors': 20, 'weights': 'uniform'}</td>\n",
       "      <td>0.531705</td>\n",
       "      <td>0.533228</td>\n",
       "      <td>0.535961</td>\n",
       "      <td>0.533631</td>\n",
       "      <td>0.001761</td>\n",
       "      <td>4</td>\n",
       "      <td>0.580597</td>\n",
       "      <td>0.579913</td>\n",
       "      <td>0.578324</td>\n",
       "      <td>0.579611</td>\n",
       "      <td>0.000952</td>\n",
       "    </tr>\n",
       "    <tr>\n",
       "      <th>4</th>\n",
       "      <td>0.966748</td>\n",
       "      <td>0.189521</td>\n",
       "      <td>19.569516</td>\n",
       "      <td>1.036510</td>\n",
       "      <td>30</td>\n",
       "      <td>uniform</td>\n",
       "      <td>{'n_neighbors': 30, 'weights': 'uniform'}</td>\n",
       "      <td>0.527537</td>\n",
       "      <td>0.529763</td>\n",
       "      <td>0.532430</td>\n",
       "      <td>0.529910</td>\n",
       "      <td>0.002000</td>\n",
       "      <td>5</td>\n",
       "      <td>0.562614</td>\n",
       "      <td>0.561827</td>\n",
       "      <td>0.560335</td>\n",
       "      <td>0.561592</td>\n",
       "      <td>0.000945</td>\n",
       "    </tr>\n",
       "  </tbody>\n",
       "</table>\n",
       "</div>"
      ],
      "text/plain": [
       "   mean_fit_time  std_fit_time  mean_score_time  std_score_time  \\\n",
       "3       0.889011      0.090224        16.766856        0.409552   \n",
       "5       0.907705      0.126444        17.290989        0.962103   \n",
       "1       1.184565      0.153843        13.217942        0.238116   \n",
       "2       1.061164      0.162274        16.727958        0.649437   \n",
       "4       0.966748      0.189521        19.569516        1.036510   \n",
       "\n",
       "  param_n_neighbors param_weights                                      params  \\\n",
       "3                20      distance  {'n_neighbors': 20, 'weights': 'distance'}   \n",
       "5                30      distance  {'n_neighbors': 30, 'weights': 'distance'}   \n",
       "1                10      distance  {'n_neighbors': 10, 'weights': 'distance'}   \n",
       "2                20       uniform   {'n_neighbors': 20, 'weights': 'uniform'}   \n",
       "4                30       uniform   {'n_neighbors': 30, 'weights': 'uniform'}   \n",
       "\n",
       "   split0_test_score  split1_test_score  split2_test_score  mean_test_score  \\\n",
       "3           0.539258           0.540394           0.543460         0.541038   \n",
       "5           0.536351           0.538165           0.541036         0.538517   \n",
       "1           0.533566           0.533754           0.537097         0.534805   \n",
       "2           0.531705           0.533228           0.535961         0.533631   \n",
       "4           0.527537           0.529763           0.532430         0.529910   \n",
       "\n",
       "   std_test_score  rank_test_score  split0_train_score  split1_train_score  \\\n",
       "3        0.001775                1            1.000000            1.000000   \n",
       "5        0.001929                2            1.000000            1.000000   \n",
       "1        0.001622                3            1.000000            1.000000   \n",
       "2        0.001761                4            0.580597            0.579913   \n",
       "4        0.002000                5            0.562614            0.561827   \n",
       "\n",
       "   split2_train_score  mean_train_score  std_train_score  \n",
       "3            1.000000          1.000000         0.000000  \n",
       "5            1.000000          1.000000         0.000000  \n",
       "1            1.000000          1.000000         0.000000  \n",
       "2            0.578324          0.579611         0.000952  \n",
       "4            0.560335          0.561592         0.000945  "
      ]
     },
     "execution_count": 12,
     "metadata": {},
     "output_type": "execute_result"
    }
   ],
   "source": [
    "CV = pd.DataFrame(GSCV.cv_results_)\n",
    "CV.sort_values(\"rank_test_score\", inplace = True)\n",
    "CV.head()"
   ]
  },
  {
   "cell_type": "markdown",
   "metadata": {},
   "source": [
    "Predictions"
   ]
  },
  {
   "cell_type": "code",
   "execution_count": 13,
   "metadata": {},
   "outputs": [],
   "source": [
    "#predictions\n",
    "y_pred =KNR.predict(X_test)"
   ]
  },
  {
   "cell_type": "code",
   "execution_count": 14,
   "metadata": {
    "scrolled": false
   },
   "outputs": [
    {
     "data": {
      "text/html": [
       "<div>\n",
       "<style scoped>\n",
       "    .dataframe tbody tr th:only-of-type {\n",
       "        vertical-align: middle;\n",
       "    }\n",
       "\n",
       "    .dataframe tbody tr th {\n",
       "        vertical-align: top;\n",
       "    }\n",
       "\n",
       "    .dataframe thead th {\n",
       "        text-align: right;\n",
       "    }\n",
       "</style>\n",
       "<table border=\"1\" class=\"dataframe\">\n",
       "  <thead>\n",
       "    <tr style=\"text-align: right;\">\n",
       "      <th></th>\n",
       "      <th>Actual</th>\n",
       "      <th>Predicted</th>\n",
       "    </tr>\n",
       "  </thead>\n",
       "  <tbody>\n",
       "    <tr>\n",
       "      <th>122206</th>\n",
       "      <td>0.605058</td>\n",
       "      <td>0.727757</td>\n",
       "    </tr>\n",
       "    <tr>\n",
       "      <th>159688</th>\n",
       "      <td>0.658229</td>\n",
       "      <td>0.634063</td>\n",
       "    </tr>\n",
       "    <tr>\n",
       "      <th>43739</th>\n",
       "      <td>0.736268</td>\n",
       "      <td>0.644573</td>\n",
       "    </tr>\n",
       "    <tr>\n",
       "      <th>331059</th>\n",
       "      <td>0.501611</td>\n",
       "      <td>0.363821</td>\n",
       "    </tr>\n",
       "    <tr>\n",
       "      <th>311080</th>\n",
       "      <td>0.269496</td>\n",
       "      <td>0.490982</td>\n",
       "    </tr>\n",
       "    <tr>\n",
       "      <th>437800</th>\n",
       "      <td>0.440781</td>\n",
       "      <td>0.337874</td>\n",
       "    </tr>\n",
       "    <tr>\n",
       "      <th>43707</th>\n",
       "      <td>0.863699</td>\n",
       "      <td>0.765729</td>\n",
       "    </tr>\n",
       "    <tr>\n",
       "      <th>422344</th>\n",
       "      <td>0.343237</td>\n",
       "      <td>0.418019</td>\n",
       "    </tr>\n",
       "    <tr>\n",
       "      <th>406647</th>\n",
       "      <td>0.700612</td>\n",
       "      <td>0.395671</td>\n",
       "    </tr>\n",
       "    <tr>\n",
       "      <th>340504</th>\n",
       "      <td>0.827114</td>\n",
       "      <td>0.804787</td>\n",
       "    </tr>\n",
       "    <tr>\n",
       "      <th>410712</th>\n",
       "      <td>0.070975</td>\n",
       "      <td>0.518193</td>\n",
       "    </tr>\n",
       "    <tr>\n",
       "      <th>495607</th>\n",
       "      <td>0.772033</td>\n",
       "      <td>0.747161</td>\n",
       "    </tr>\n",
       "    <tr>\n",
       "      <th>237793</th>\n",
       "      <td>0.703614</td>\n",
       "      <td>0.703241</td>\n",
       "    </tr>\n",
       "    <tr>\n",
       "      <th>492238</th>\n",
       "      <td>0.970133</td>\n",
       "      <td>0.926238</td>\n",
       "    </tr>\n",
       "    <tr>\n",
       "      <th>393677</th>\n",
       "      <td>0.824912</td>\n",
       "      <td>0.677488</td>\n",
       "    </tr>\n",
       "    <tr>\n",
       "      <th>202794</th>\n",
       "      <td>0.826298</td>\n",
       "      <td>0.659985</td>\n",
       "    </tr>\n",
       "    <tr>\n",
       "      <th>430701</th>\n",
       "      <td>0.698898</td>\n",
       "      <td>0.610203</td>\n",
       "    </tr>\n",
       "    <tr>\n",
       "      <th>272137</th>\n",
       "      <td>0.777914</td>\n",
       "      <td>0.381735</td>\n",
       "    </tr>\n",
       "    <tr>\n",
       "      <th>364085</th>\n",
       "      <td>0.691232</td>\n",
       "      <td>0.653257</td>\n",
       "    </tr>\n",
       "    <tr>\n",
       "      <th>493406</th>\n",
       "      <td>0.454042</td>\n",
       "      <td>0.567580</td>\n",
       "    </tr>\n",
       "    <tr>\n",
       "      <th>98662</th>\n",
       "      <td>0.919654</td>\n",
       "      <td>0.813598</td>\n",
       "    </tr>\n",
       "    <tr>\n",
       "      <th>166782</th>\n",
       "      <td>0.917848</td>\n",
       "      <td>0.912865</td>\n",
       "    </tr>\n",
       "    <tr>\n",
       "      <th>355052</th>\n",
       "      <td>0.905275</td>\n",
       "      <td>0.895058</td>\n",
       "    </tr>\n",
       "    <tr>\n",
       "      <th>13743</th>\n",
       "      <td>0.686400</td>\n",
       "      <td>0.504868</td>\n",
       "    </tr>\n",
       "    <tr>\n",
       "      <th>533698</th>\n",
       "      <td>0.306560</td>\n",
       "      <td>0.448493</td>\n",
       "    </tr>\n",
       "  </tbody>\n",
       "</table>\n",
       "</div>"
      ],
      "text/plain": [
       "          Actual  Predicted\n",
       "122206  0.605058   0.727757\n",
       "159688  0.658229   0.634063\n",
       "43739   0.736268   0.644573\n",
       "331059  0.501611   0.363821\n",
       "311080  0.269496   0.490982\n",
       "437800  0.440781   0.337874\n",
       "43707   0.863699   0.765729\n",
       "422344  0.343237   0.418019\n",
       "406647  0.700612   0.395671\n",
       "340504  0.827114   0.804787\n",
       "410712  0.070975   0.518193\n",
       "495607  0.772033   0.747161\n",
       "237793  0.703614   0.703241\n",
       "492238  0.970133   0.926238\n",
       "393677  0.824912   0.677488\n",
       "202794  0.826298   0.659985\n",
       "430701  0.698898   0.610203\n",
       "272137  0.777914   0.381735\n",
       "364085  0.691232   0.653257\n",
       "493406  0.454042   0.567580\n",
       "98662   0.919654   0.813598\n",
       "166782  0.917848   0.912865\n",
       "355052  0.905275   0.895058\n",
       "13743   0.686400   0.504868\n",
       "533698  0.306560   0.448493"
      ]
     },
     "execution_count": 14,
     "metadata": {},
     "output_type": "execute_result"
    }
   ],
   "source": [
    "comparison_df = pd.DataFrame({'Actual': y_test, 'Predicted': y_pred})\n",
    "comparison_df.head(25) #Actual Vs Predicted Dataframebb"
   ]
  },
  {
   "cell_type": "code",
   "execution_count": 15,
   "metadata": {},
   "outputs": [
    {
     "data": {
      "image/png": "[encoded data removed]",
      "text/plain": [
       "<Figure size 720x576 with 1 Axes>"
      ]
     },
     "metadata": {
      "needs_background": "light"
     },
     "output_type": "display_data"
    }
   ],
   "source": [
    "comparison_df.iloc[0:25].plot(kind='bar',figsize=(10,8))\n",
    "plt.grid(which='major', linestyle='-', linewidth='0.5', color='green')\n",
    "plt.grid(which='minor', linestyle=':', linewidth='0.5', color='black')\n",
    "plt.show()"
   ]
  },
  {
   "cell_type": "code",
   "execution_count": 16,
   "metadata": {},
   "outputs": [
    {
     "data": {
      "text/plain": [
       "Text(0, 0.5, 'Predicted')"
      ]
     },
     "execution_count": 16,
     "metadata": {},
     "output_type": "execute_result"
    },
    {
     "data": {
      "image/png": "[encoded data removed]",
      "text/plain": [
       "<Figure size 432x288 with 1 Axes>"
      ]
     },
     "metadata": {
      "needs_background": "light"
     },
     "output_type": "display_data"
    }
   ],
   "source": [
    "plt.scatter(comparison_df.iloc[0:1000][\"Actual\"], comparison_df.iloc[0:1000][\"Predicted\"], alpha = .25)\n",
    "plt.xlabel(\"Actual\", fontsize = 16) #scatter plot of specialty combined data\n",
    "plt.ylabel(\"Predicted\",  fontsize = 16)"
   ]
  },
  {
   "cell_type": "markdown",
   "metadata": {},
   "source": [
    "Statistics"
   ]
  },
  {
   "cell_type": "code",
   "execution_count": 17,
   "metadata": {},
   "outputs": [
    {
     "name": "stdout",
     "output_type": "stream",
     "text": [
      "r Squared: 0.5523318163091222\n"
     ]
    }
   ],
   "source": [
    "print(\"r Squared:\", metrics.r2_score(y_test, y_pred))\n",
    "rsq = metrics.r2_score(y_test, y_pred)"
   ]
  },
  {
   "cell_type": "code",
   "execution_count": 18,
   "metadata": {},
   "outputs": [
    {
     "name": "stdout",
     "output_type": "stream",
     "text": [
      "Mean Absolute Error: 0.09400618292685481\n",
      "Mean Squared Error: 0.01818185552771443\n"
     ]
    }
   ],
   "source": [
    "print('Mean Absolute Error:', metrics.mean_absolute_error(y_test, y_pred))\n",
    "mae = metrics.mean_absolute_error(y_test, y_pred)\n",
    "print('Mean Squared Error:', metrics.mean_squared_error(y_test, y_pred))\n",
    "mse = metrics.mean_squared_error(y_test, y_pred)"
   ]
  },
  {
   "cell_type": "code",
   "execution_count": 19,
   "metadata": {},
   "outputs": [],
   "source": [
    "metrics_df = pd.read_csv(\"data\\metrics_df.csv\")\n",
    "metrics_df = metrics_df.append({\"Input\": Labels, \"R Squared\": rsq, \"Mean Absolute Error\": mae, \"Mean Squared Error\": mse, \"Model\": \"K Nearest\"}, ignore_index=True)"
   ]
  },
  {
   "cell_type": "code",
   "execution_count": 20,
   "metadata": {},
   "outputs": [
    {
     "data": {
      "text/html": [
       "<div>\n",
       "<style scoped>\n",
       "    .dataframe tbody tr th:only-of-type {\n",
       "        vertical-align: middle;\n",
       "    }\n",
       "\n",
       "    .dataframe tbody tr th {\n",
       "        vertical-align: top;\n",
       "    }\n",
       "\n",
       "    .dataframe thead th {\n",
       "        text-align: right;\n",
       "    }\n",
       "</style>\n",
       "<table border=\"1\" class=\"dataframe\">\n",
       "  <thead>\n",
       "    <tr style=\"text-align: right;\">\n",
       "      <th></th>\n",
       "      <th>Input</th>\n",
       "      <th>R Squared</th>\n",
       "      <th>Mean Absolute Error</th>\n",
       "      <th>Mean Squared Error</th>\n",
       "      <th>Model</th>\n",
       "    </tr>\n",
       "  </thead>\n",
       "  <tbody>\n",
       "    <tr>\n",
       "      <th>35</th>\n",
       "      <td>['specialty_description', 'nppes_provider_city...</td>\n",
       "      <td>0.582957</td>\n",
       "      <td>0.091493</td>\n",
       "      <td>0.016986</td>\n",
       "      <td>Random Forest</td>\n",
       "    </tr>\n",
       "    <tr>\n",
       "      <th>36</th>\n",
       "      <td>['specialty_description', 'nppes_provider_city...</td>\n",
       "      <td>0.570916</td>\n",
       "      <td>0.095623</td>\n",
       "      <td>0.017558</td>\n",
       "      <td>Neural Network</td>\n",
       "    </tr>\n",
       "    <tr>\n",
       "      <th>37</th>\n",
       "      <td>['specialty_description', 'nppes_provider_city...</td>\n",
       "      <td>0.615159</td>\n",
       "      <td>0.088794</td>\n",
       "      <td>0.015720</td>\n",
       "      <td>Neural Network</td>\n",
       "    </tr>\n",
       "    <tr>\n",
       "      <th>38</th>\n",
       "      <td>['specialty_description', 'nppes_provider_city...</td>\n",
       "      <td>0.549090</td>\n",
       "      <td>0.093914</td>\n",
       "      <td>0.018368</td>\n",
       "      <td>K Nearest</td>\n",
       "    </tr>\n",
       "    <tr>\n",
       "      <th>39</th>\n",
       "      <td>[specialty_description, nppes_provider_city, t...</td>\n",
       "      <td>0.552332</td>\n",
       "      <td>0.094006</td>\n",
       "      <td>0.018182</td>\n",
       "      <td>K Nearest</td>\n",
       "    </tr>\n",
       "  </tbody>\n",
       "</table>\n",
       "</div>"
      ],
      "text/plain": [
       "                                                Input  R Squared  \\\n",
       "35  ['specialty_description', 'nppes_provider_city...   0.582957   \n",
       "36  ['specialty_description', 'nppes_provider_city...   0.570916   \n",
       "37  ['specialty_description', 'nppes_provider_city...   0.615159   \n",
       "38  ['specialty_description', 'nppes_provider_city...   0.549090   \n",
       "39  [specialty_description, nppes_provider_city, t...   0.552332   \n",
       "\n",
       "    Mean Absolute Error  Mean Squared Error           Model  \n",
       "35             0.091493            0.016986   Random Forest  \n",
       "36             0.095623            0.017558  Neural Network  \n",
       "37             0.088794            0.015720  Neural Network  \n",
       "38             0.093914            0.018368       K Nearest  \n",
       "39             0.094006            0.018182       K Nearest  "
      ]
     },
     "execution_count": 20,
     "metadata": {},
     "output_type": "execute_result"
    }
   ],
   "source": [
    "metrics_df.tail()"
   ]
  },
  {
   "cell_type": "code",
   "execution_count": 21,
   "metadata": {},
   "outputs": [],
   "source": [
    "metrics_df.to_csv(\"data\\metrics_df.csv\", index = False)"
   ]
  },
  {
   "cell_type": "markdown",
   "metadata": {},
   "source": [
    "Save Trained Model"
   ]
  },
  {
   "cell_type": "code",
   "execution_count": 22,
   "metadata": {},
   "outputs": [
    {
     "data": {
      "text/plain": [
       "['Model_Weights\\\\KNear\\\\KNear_trainedLoaded']"
      ]
     },
     "execution_count": 22,
     "metadata": {},
     "output_type": "execute_result"
    }
   ],
   "source": [
    "dump(KNR, \"Model_Weights\\KNear\\KNear_trainedModel\") "
   ]
  },
  {
   "cell_type": "code",
   "execution_count": null,
   "metadata": {},
   "outputs": [],
   "source": []
  }
 ],
 "metadata": {
  "kernelspec": {
   "display_name": "Python 3",
   "language": "python",
   "name": "python3"
  },
  "language_info": {
   "codemirror_mode": {
    "name": "ipython",
    "version": 3
   },
   "file_extension": ".py",
   "mimetype": "text/x-python",
   "name": "python",
   "nbconvert_exporter": "python",
   "pygments_lexer": "ipython3",
   "version": "3.7.3"
  }
 },
 "nbformat": 4,
 "nbformat_minor": 2
}
