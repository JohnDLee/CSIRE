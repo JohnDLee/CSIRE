{
 "cells": [
  {
   "cell_type": "markdown",
   "metadata": {},
   "source": [
    "    Beginning the Regression Preparation"
   ]
  },
  {
   "cell_type": "code",
   "execution_count": 6,
   "metadata": {},
   "outputs": [],
   "source": [
    "\n",
    "import pandas as pd"
   ]
  },
  {
   "cell_type": "markdown",
   "metadata": {},
   "source": [
    "Building a Random Forest Model taking in Drug Claim Counts"
   ]
  },
  {
   "cell_type": "code",
   "execution_count": 7,
   "metadata": {},
   "outputs": [],
   "source": [
    "import numpy as np  \n",
    "import matplotlib.pyplot as plt  \n",
    "import seaborn as seabornInstance \n",
    "from sklearn.model_selection import train_test_split \n",
    "from sklearn.ensemble import RandomForestRegressor\n",
    "from sklearn import metrics\n",
    "from sklearn.preprocessing import OneHotEncoder\n",
    "%matplotlib inline"
   ]
  },
  {
   "cell_type": "code",
   "execution_count": 15,
   "metadata": {},
   "outputs": [],
   "source": [
    "ML_df = pd.read_csv(\"data\\ML_df.csv\")\n",
    "specialty_df = pd.read_csv(\"data\\specialty_df.csv\")\n",
    "#extract ML_df"
   ]
  },
  {
   "cell_type": "code",
   "execution_count": 9,
   "metadata": {},
   "outputs": [
    {
     "data": {
      "text/plain": [
       "(113430, 2195)"
      ]
     },
     "execution_count": 9,
     "metadata": {},
     "output_type": "execute_result"
    }
   ],
   "source": [
    "ML_df.shape"
   ]
  },
  {
   "cell_type": "code",
   "execution_count": 10,
   "metadata": {},
   "outputs": [],
   "source": [
    "#ps_dd_df.shape\n"
   ]
  },
  {
   "cell_type": "code",
   "execution_count": 11,
   "metadata": {},
   "outputs": [],
   "source": [
    "#ps_dd_df.isnull().any()"
   ]
  },
  {
   "cell_type": "code",
   "execution_count": 16,
   "metadata": {
    "scrolled": false
   },
   "outputs": [],
   "source": [
    "Labels = ML_df.columns[:specialty_df.columns.shape[0]-12].tolist() + ML_df.columns[specialty_df.columns.shape[0]:].tolist() #columns of drugs"
   ]
  },
  {
   "cell_type": "code",
   "execution_count": 19,
   "metadata": {},
   "outputs": [
    {
     "name": "stdout",
     "output_type": "stream",
     "text": [
      "[[0.00000000e+00 1.00300014e+09 0.00000000e+00 ... 0.00000000e+00\n",
      "  0.00000000e+00 0.00000000e+00]\n",
      " [1.00000000e+00 1.00300028e+09 0.00000000e+00 ... 0.00000000e+00\n",
      "  0.00000000e+00 0.00000000e+00]\n",
      " [2.00000000e+00 1.00300042e+09 0.00000000e+00 ... 0.00000000e+00\n",
      "  0.00000000e+00 0.00000000e+00]\n",
      " ...\n",
      " [1.13427000e+05 1.01396841e+09 0.00000000e+00 ... 0.00000000e+00\n",
      "  0.00000000e+00 0.00000000e+00]\n",
      " [1.13428000e+05 1.01396848e+09 0.00000000e+00 ... 0.00000000e+00\n",
      "  0.00000000e+00 0.00000000e+00]\n",
      " [1.13429000e+05 1.01396854e+09 0.00000000e+00 ... 0.00000000e+00\n",
      "  0.00000000e+00 0.00000000e+00]]\n",
      "113430\n",
      "113430\n",
      "[3.10621009 6.6769009  1.15503209 ... 1.78455293 2.93032883 2.22787557]\n"
     ]
    }
   ],
   "source": [
    "X = ML_df[ML_df.columns[:specialty_df.columns.shape[0]-12].tolist() + ML_df.columns[specialty_df.columns.shape[0]:].tolist()].values\n",
    "y = ML_df[\"generic_brand_ratio_cost\"].values\n",
    "print(X)\n",
    "print(len(X))\n",
    "print(len(y))\n",
    "print(y)"
   ]
  },
  {
   "cell_type": "code",
   "execution_count": 20,
   "metadata": {
    "scrolled": true
   },
   "outputs": [],
   "source": [
    "X_train, X_test, y_train, y_test = train_test_split(X, y, test_size=0.25)\n",
    "#Split into Test and Train"
   ]
  },
  {
   "cell_type": "code",
   "execution_count": 21,
   "metadata": {},
   "outputs": [
    {
     "name": "stderr",
     "output_type": "stream",
     "text": [
      "C:\\Users\\John Lee\\Anaconda3\\lib\\site-packages\\sklearn\\ensemble\\forest.py:246: FutureWarning: The default value of n_estimators will change from 10 in version 0.20 to 100 in 0.22.\n",
      "  \"10 in version 0.20 to 100 in 0.22.\", FutureWarning)\n"
     ]
    },
    {
     "data": {
      "text/plain": [
       "RandomForestRegressor(bootstrap=True, criterion='mse', max_depth=None,\n",
       "           max_features='auto', max_leaf_nodes=None,\n",
       "           min_impurity_decrease=0.0, min_impurity_split=None,\n",
       "           min_samples_leaf=1, min_samples_split=2,\n",
       "           min_weight_fraction_leaf=0.0, n_estimators=10, n_jobs=None,\n",
       "           oob_score=False, random_state=None, verbose=0, warm_start=False)"
      ]
     },
     "execution_count": 21,
     "metadata": {},
     "output_type": "execute_result"
    }
   ],
   "source": [
    "#fit data into random forest regression\n",
    "regressor = RandomForestRegressor( )\n",
    "regressor.fit(X_train, y_train)"
   ]
  },
  {
   "cell_type": "code",
   "execution_count": 22,
   "metadata": {},
   "outputs": [
    {
     "name": "stdout",
     "output_type": "stream",
     "text": [
      "[9.59370478e-04 1.73476176e-02 0.00000000e+00 ... 3.78580848e-07\n",
      " 2.45150211e-06 5.73247608e-06]\n"
     ]
    }
   ],
   "source": [
    "print(regressor.feature_importances_)"
   ]
  },
  {
   "cell_type": "code",
   "execution_count": 23,
   "metadata": {},
   "outputs": [
    {
     "data": {
      "text/html": [
       "<div>\n",
       "<style scoped>\n",
       "    .dataframe tbody tr th:only-of-type {\n",
       "        vertical-align: middle;\n",
       "    }\n",
       "\n",
       "    .dataframe tbody tr th {\n",
       "        vertical-align: top;\n",
       "    }\n",
       "\n",
       "    .dataframe thead th {\n",
       "        text-align: right;\n",
       "    }\n",
       "</style>\n",
       "<table border=\"1\" class=\"dataframe\">\n",
       "  <thead>\n",
       "    <tr style=\"text-align: right;\">\n",
       "      <th></th>\n",
       "      <th>Coefficient</th>\n",
       "    </tr>\n",
       "  </thead>\n",
       "  <tbody>\n",
       "    <tr>\n",
       "      <th>CINRYZE</th>\n",
       "      <td>2.518630e-01</td>\n",
       "    </tr>\n",
       "    <tr>\n",
       "      <th>HARVONI</th>\n",
       "      <td>2.434709e-01</td>\n",
       "    </tr>\n",
       "    <tr>\n",
       "      <th>log_generic_cost</th>\n",
       "      <td>1.315873e-01</td>\n",
       "    </tr>\n",
       "    <tr>\n",
       "      <th>ALECENSA</th>\n",
       "      <td>4.087909e-02</td>\n",
       "    </tr>\n",
       "    <tr>\n",
       "      <th>npi</th>\n",
       "      <td>1.734762e-02</td>\n",
       "    </tr>\n",
       "    <tr>\n",
       "      <th>x0_Pulmonary Disease</th>\n",
       "      <td>1.414977e-02</td>\n",
       "    </tr>\n",
       "    <tr>\n",
       "      <th>ADEMPAS</th>\n",
       "      <td>1.365856e-02</td>\n",
       "    </tr>\n",
       "    <tr>\n",
       "      <th>KALYDECO</th>\n",
       "      <td>1.365040e-02</td>\n",
       "    </tr>\n",
       "    <tr>\n",
       "      <th>ZEPATIER</th>\n",
       "      <td>1.297067e-02</td>\n",
       "    </tr>\n",
       "    <tr>\n",
       "      <th>x0_Hematology-Oncology</th>\n",
       "      <td>1.182565e-02</td>\n",
       "    </tr>\n",
       "    <tr>\n",
       "      <th>FORTEO</th>\n",
       "      <td>1.064213e-02</td>\n",
       "    </tr>\n",
       "    <tr>\n",
       "      <th>TAGRISSO</th>\n",
       "      <td>1.029870e-02</td>\n",
       "    </tr>\n",
       "    <tr>\n",
       "      <th>x0_Pharmacist</th>\n",
       "      <td>8.596992e-03</td>\n",
       "    </tr>\n",
       "    <tr>\n",
       "      <th>OMEPRAZOLE</th>\n",
       "      <td>8.445377e-03</td>\n",
       "    </tr>\n",
       "    <tr>\n",
       "      <th>EXJADE</th>\n",
       "      <td>8.111357e-03</td>\n",
       "    </tr>\n",
       "    <tr>\n",
       "      <th>PREDNISONE</th>\n",
       "      <td>7.393770e-03</td>\n",
       "    </tr>\n",
       "    <tr>\n",
       "      <th>JADENU</th>\n",
       "      <td>6.990685e-03</td>\n",
       "    </tr>\n",
       "    <tr>\n",
       "      <th>REVLIMID</th>\n",
       "      <td>6.160232e-03</td>\n",
       "    </tr>\n",
       "    <tr>\n",
       "      <th>VOTRIENT</th>\n",
       "      <td>5.725751e-03</td>\n",
       "    </tr>\n",
       "    <tr>\n",
       "      <th>ULTRA-FINE NANO PEN NEEDLE</th>\n",
       "      <td>5.468109e-03</td>\n",
       "    </tr>\n",
       "    <tr>\n",
       "      <th>HYDROCODONE-ACETAMINOPHEN</th>\n",
       "      <td>5.454229e-03</td>\n",
       "    </tr>\n",
       "    <tr>\n",
       "      <th>x0_Medical Oncology</th>\n",
       "      <td>5.163712e-03</td>\n",
       "    </tr>\n",
       "    <tr>\n",
       "      <th>NOVOLOG FLEXPEN</th>\n",
       "      <td>4.908346e-03</td>\n",
       "    </tr>\n",
       "    <tr>\n",
       "      <th>PROAIR HFA</th>\n",
       "      <td>4.784511e-03</td>\n",
       "    </tr>\n",
       "    <tr>\n",
       "      <th>RESTASIS</th>\n",
       "      <td>4.756832e-03</td>\n",
       "    </tr>\n",
       "    <tr>\n",
       "      <th>JAKAFI</th>\n",
       "      <td>4.652400e-03</td>\n",
       "    </tr>\n",
       "    <tr>\n",
       "      <th>XALKORI</th>\n",
       "      <td>4.544946e-03</td>\n",
       "    </tr>\n",
       "    <tr>\n",
       "      <th>AVONEX PEN</th>\n",
       "      <td>4.277180e-03</td>\n",
       "    </tr>\n",
       "    <tr>\n",
       "      <th>GAMUNEX-C</th>\n",
       "      <td>4.140231e-03</td>\n",
       "    </tr>\n",
       "    <tr>\n",
       "      <th>TRUVADA</th>\n",
       "      <td>3.887942e-03</td>\n",
       "    </tr>\n",
       "    <tr>\n",
       "      <th>...</th>\n",
       "      <td>...</td>\n",
       "    </tr>\n",
       "    <tr>\n",
       "      <th>REQUIP</th>\n",
       "      <td>1.732609e-12</td>\n",
       "    </tr>\n",
       "    <tr>\n",
       "      <th>BUNAVAIL</th>\n",
       "      <td>1.618462e-12</td>\n",
       "    </tr>\n",
       "    <tr>\n",
       "      <th>PREVIDENT</th>\n",
       "      <td>1.583804e-12</td>\n",
       "    </tr>\n",
       "    <tr>\n",
       "      <th>x0_Prosthetist</th>\n",
       "      <td>1.570387e-12</td>\n",
       "    </tr>\n",
       "    <tr>\n",
       "      <th>LINEZOLID</th>\n",
       "      <td>1.360081e-12</td>\n",
       "    </tr>\n",
       "    <tr>\n",
       "      <th>PRALUENT SYRINGE</th>\n",
       "      <td>7.367012e-13</td>\n",
       "    </tr>\n",
       "    <tr>\n",
       "      <th>DEPO-ESTRADIOL</th>\n",
       "      <td>6.943691e-13</td>\n",
       "    </tr>\n",
       "    <tr>\n",
       "      <th>DEXTROSE 5%-0.45% NACL</th>\n",
       "      <td>6.526167e-13</td>\n",
       "    </tr>\n",
       "    <tr>\n",
       "      <th>MATZIM LA</th>\n",
       "      <td>6.146238e-13</td>\n",
       "    </tr>\n",
       "    <tr>\n",
       "      <th>CLARITHROMYCIN ER</th>\n",
       "      <td>5.875191e-13</td>\n",
       "    </tr>\n",
       "    <tr>\n",
       "      <th>BARACLUDE</th>\n",
       "      <td>5.449534e-13</td>\n",
       "    </tr>\n",
       "    <tr>\n",
       "      <th>SEROQUEL</th>\n",
       "      <td>5.274337e-13</td>\n",
       "    </tr>\n",
       "    <tr>\n",
       "      <th>ESTRADIOL VALERATE</th>\n",
       "      <td>5.221586e-13</td>\n",
       "    </tr>\n",
       "    <tr>\n",
       "      <th>REMERON</th>\n",
       "      <td>5.189999e-13</td>\n",
       "    </tr>\n",
       "    <tr>\n",
       "      <th>NORCO</th>\n",
       "      <td>5.008466e-13</td>\n",
       "    </tr>\n",
       "    <tr>\n",
       "      <th>ATELVIA</th>\n",
       "      <td>4.131586e-13</td>\n",
       "    </tr>\n",
       "    <tr>\n",
       "      <th>SILVADENE</th>\n",
       "      <td>3.838660e-13</td>\n",
       "    </tr>\n",
       "    <tr>\n",
       "      <th>MONO-LINYAH</th>\n",
       "      <td>2.897013e-13</td>\n",
       "    </tr>\n",
       "    <tr>\n",
       "      <th>AMICAR</th>\n",
       "      <td>2.457139e-13</td>\n",
       "    </tr>\n",
       "    <tr>\n",
       "      <th>RELISTOR</th>\n",
       "      <td>1.613551e-13</td>\n",
       "    </tr>\n",
       "    <tr>\n",
       "      <th>EDARBI</th>\n",
       "      <td>8.359821e-14</td>\n",
       "    </tr>\n",
       "    <tr>\n",
       "      <th>KLONOPIN</th>\n",
       "      <td>5.911782e-14</td>\n",
       "    </tr>\n",
       "    <tr>\n",
       "      <th>PREPLUS</th>\n",
       "      <td>5.456714e-14</td>\n",
       "    </tr>\n",
       "    <tr>\n",
       "      <th>DIFLUNISAL</th>\n",
       "      <td>5.265197e-14</td>\n",
       "    </tr>\n",
       "    <tr>\n",
       "      <th>WYMZYA FE</th>\n",
       "      <td>5.130226e-14</td>\n",
       "    </tr>\n",
       "    <tr>\n",
       "      <th>DEPAKOTE</th>\n",
       "      <td>2.923910e-14</td>\n",
       "    </tr>\n",
       "    <tr>\n",
       "      <th>HEALTHY ACCENTS UNIFINE PENTIP</th>\n",
       "      <td>1.576062e-14</td>\n",
       "    </tr>\n",
       "    <tr>\n",
       "      <th>PHENAZOPYRIDINE HCL</th>\n",
       "      <td>1.269984e-14</td>\n",
       "    </tr>\n",
       "    <tr>\n",
       "      <th>ACTOS</th>\n",
       "      <td>5.032377e-15</td>\n",
       "    </tr>\n",
       "    <tr>\n",
       "      <th>ELIXOPHYLLIN</th>\n",
       "      <td>1.096587e-15</td>\n",
       "    </tr>\n",
       "  </tbody>\n",
       "</table>\n",
       "<p>1603 rows × 1 columns</p>\n",
       "</div>"
      ],
      "text/plain": [
       "                                 Coefficient\n",
       "CINRYZE                         2.518630e-01\n",
       "HARVONI                         2.434709e-01\n",
       "log_generic_cost                1.315873e-01\n",
       "ALECENSA                        4.087909e-02\n",
       "npi                             1.734762e-02\n",
       "x0_Pulmonary Disease            1.414977e-02\n",
       "ADEMPAS                         1.365856e-02\n",
       "KALYDECO                        1.365040e-02\n",
       "ZEPATIER                        1.297067e-02\n",
       "x0_Hematology-Oncology          1.182565e-02\n",
       "FORTEO                          1.064213e-02\n",
       "TAGRISSO                        1.029870e-02\n",
       "x0_Pharmacist                   8.596992e-03\n",
       "OMEPRAZOLE                      8.445377e-03\n",
       "EXJADE                          8.111357e-03\n",
       "PREDNISONE                      7.393770e-03\n",
       "JADENU                          6.990685e-03\n",
       "REVLIMID                        6.160232e-03\n",
       "VOTRIENT                        5.725751e-03\n",
       "ULTRA-FINE NANO PEN NEEDLE      5.468109e-03\n",
       "HYDROCODONE-ACETAMINOPHEN       5.454229e-03\n",
       "x0_Medical Oncology             5.163712e-03\n",
       "NOVOLOG FLEXPEN                 4.908346e-03\n",
       "PROAIR HFA                      4.784511e-03\n",
       "RESTASIS                        4.756832e-03\n",
       "JAKAFI                          4.652400e-03\n",
       "XALKORI                         4.544946e-03\n",
       "AVONEX PEN                      4.277180e-03\n",
       "GAMUNEX-C                       4.140231e-03\n",
       "TRUVADA                         3.887942e-03\n",
       "...                                      ...\n",
       "REQUIP                          1.732609e-12\n",
       "BUNAVAIL                        1.618462e-12\n",
       "PREVIDENT                       1.583804e-12\n",
       "x0_Prosthetist                  1.570387e-12\n",
       "LINEZOLID                       1.360081e-12\n",
       "PRALUENT SYRINGE                7.367012e-13\n",
       "DEPO-ESTRADIOL                  6.943691e-13\n",
       "DEXTROSE 5%-0.45% NACL          6.526167e-13\n",
       "MATZIM LA                       6.146238e-13\n",
       "CLARITHROMYCIN ER               5.875191e-13\n",
       "BARACLUDE                       5.449534e-13\n",
       "SEROQUEL                        5.274337e-13\n",
       "ESTRADIOL VALERATE              5.221586e-13\n",
       "REMERON                         5.189999e-13\n",
       "NORCO                           5.008466e-13\n",
       "ATELVIA                         4.131586e-13\n",
       "SILVADENE                       3.838660e-13\n",
       "MONO-LINYAH                     2.897013e-13\n",
       "AMICAR                          2.457139e-13\n",
       "RELISTOR                        1.613551e-13\n",
       "EDARBI                          8.359821e-14\n",
       "KLONOPIN                        5.911782e-14\n",
       "PREPLUS                         5.456714e-14\n",
       "DIFLUNISAL                      5.265197e-14\n",
       "WYMZYA FE                       5.130226e-14\n",
       "DEPAKOTE                        2.923910e-14\n",
       "HEALTHY ACCENTS UNIFINE PENTIP  1.576062e-14\n",
       "PHENAZOPYRIDINE HCL             1.269984e-14\n",
       "ACTOS                           5.032377e-15\n",
       "ELIXOPHYLLIN                    1.096587e-15\n",
       "\n",
       "[1603 rows x 1 columns]"
      ]
     },
     "execution_count": 23,
     "metadata": {},
     "output_type": "execute_result"
    }
   ],
   "source": [
    "coeff_df = pd.DataFrame( regressor.feature_importances_, Labels, columns=['Coefficient'])  \n",
    "coeff_df = coeff_df[coeff_df[\"Coefficient\"] != 0]\n",
    "coeff_df.sort_values(\"Coefficient\" ,ascending = False)"
   ]
  },
  {
   "cell_type": "code",
   "execution_count": 24,
   "metadata": {},
   "outputs": [],
   "source": [
    "y_pred = regressor.predict(X_test)"
   ]
  },
  {
   "cell_type": "code",
   "execution_count": 25,
   "metadata": {},
   "outputs": [
    {
     "data": {
      "text/html": [
       "<div>\n",
       "<style scoped>\n",
       "    .dataframe tbody tr th:only-of-type {\n",
       "        vertical-align: middle;\n",
       "    }\n",
       "\n",
       "    .dataframe tbody tr th {\n",
       "        vertical-align: top;\n",
       "    }\n",
       "\n",
       "    .dataframe thead th {\n",
       "        text-align: right;\n",
       "    }\n",
       "</style>\n",
       "<table border=\"1\" class=\"dataframe\">\n",
       "  <thead>\n",
       "    <tr style=\"text-align: right;\">\n",
       "      <th></th>\n",
       "      <th>Actual</th>\n",
       "      <th>Predicted</th>\n",
       "    </tr>\n",
       "  </thead>\n",
       "  <tbody>\n",
       "    <tr>\n",
       "      <th>0</th>\n",
       "      <td>3.309735</td>\n",
       "      <td>3.777555</td>\n",
       "    </tr>\n",
       "    <tr>\n",
       "      <th>1</th>\n",
       "      <td>3.469858</td>\n",
       "      <td>3.469858</td>\n",
       "    </tr>\n",
       "    <tr>\n",
       "      <th>2</th>\n",
       "      <td>24.756496</td>\n",
       "      <td>24.756496</td>\n",
       "    </tr>\n",
       "    <tr>\n",
       "      <th>3</th>\n",
       "      <td>1.738090</td>\n",
       "      <td>1.944791</td>\n",
       "    </tr>\n",
       "    <tr>\n",
       "      <th>4</th>\n",
       "      <td>0.389519</td>\n",
       "      <td>0.424205</td>\n",
       "    </tr>\n",
       "    <tr>\n",
       "      <th>5</th>\n",
       "      <td>0.683460</td>\n",
       "      <td>1.706874</td>\n",
       "    </tr>\n",
       "    <tr>\n",
       "      <th>6</th>\n",
       "      <td>2.507610</td>\n",
       "      <td>2.417738</td>\n",
       "    </tr>\n",
       "    <tr>\n",
       "      <th>7</th>\n",
       "      <td>7.456926</td>\n",
       "      <td>7.456926</td>\n",
       "    </tr>\n",
       "    <tr>\n",
       "      <th>8</th>\n",
       "      <td>2.618966</td>\n",
       "      <td>2.618966</td>\n",
       "    </tr>\n",
       "    <tr>\n",
       "      <th>9</th>\n",
       "      <td>333.775649</td>\n",
       "      <td>333.775649</td>\n",
       "    </tr>\n",
       "    <tr>\n",
       "      <th>10</th>\n",
       "      <td>2.455221</td>\n",
       "      <td>2.455221</td>\n",
       "    </tr>\n",
       "    <tr>\n",
       "      <th>11</th>\n",
       "      <td>3.624052</td>\n",
       "      <td>3.624052</td>\n",
       "    </tr>\n",
       "    <tr>\n",
       "      <th>12</th>\n",
       "      <td>3.831956</td>\n",
       "      <td>3.788075</td>\n",
       "    </tr>\n",
       "    <tr>\n",
       "      <th>13</th>\n",
       "      <td>3.552027</td>\n",
       "      <td>3.553284</td>\n",
       "    </tr>\n",
       "    <tr>\n",
       "      <th>14</th>\n",
       "      <td>0.425612</td>\n",
       "      <td>0.425612</td>\n",
       "    </tr>\n",
       "    <tr>\n",
       "      <th>15</th>\n",
       "      <td>0.578875</td>\n",
       "      <td>0.934587</td>\n",
       "    </tr>\n",
       "    <tr>\n",
       "      <th>16</th>\n",
       "      <td>2.965653</td>\n",
       "      <td>2.678013</td>\n",
       "    </tr>\n",
       "    <tr>\n",
       "      <th>17</th>\n",
       "      <td>1.773192</td>\n",
       "      <td>1.773192</td>\n",
       "    </tr>\n",
       "    <tr>\n",
       "      <th>18</th>\n",
       "      <td>2.728272</td>\n",
       "      <td>2.747155</td>\n",
       "    </tr>\n",
       "    <tr>\n",
       "      <th>19</th>\n",
       "      <td>2.427634</td>\n",
       "      <td>2.427634</td>\n",
       "    </tr>\n",
       "    <tr>\n",
       "      <th>20</th>\n",
       "      <td>0.494910</td>\n",
       "      <td>0.494910</td>\n",
       "    </tr>\n",
       "    <tr>\n",
       "      <th>21</th>\n",
       "      <td>3.210442</td>\n",
       "      <td>3.333449</td>\n",
       "    </tr>\n",
       "    <tr>\n",
       "      <th>22</th>\n",
       "      <td>2.367602</td>\n",
       "      <td>2.405614</td>\n",
       "    </tr>\n",
       "    <tr>\n",
       "      <th>23</th>\n",
       "      <td>2.776951</td>\n",
       "      <td>2.776951</td>\n",
       "    </tr>\n",
       "    <tr>\n",
       "      <th>24</th>\n",
       "      <td>1.084876</td>\n",
       "      <td>1.084876</td>\n",
       "    </tr>\n",
       "  </tbody>\n",
       "</table>\n",
       "</div>"
      ],
      "text/plain": [
       "        Actual   Predicted\n",
       "0     3.309735    3.777555\n",
       "1     3.469858    3.469858\n",
       "2    24.756496   24.756496\n",
       "3     1.738090    1.944791\n",
       "4     0.389519    0.424205\n",
       "5     0.683460    1.706874\n",
       "6     2.507610    2.417738\n",
       "7     7.456926    7.456926\n",
       "8     2.618966    2.618966\n",
       "9   333.775649  333.775649\n",
       "10    2.455221    2.455221\n",
       "11    3.624052    3.624052\n",
       "12    3.831956    3.788075\n",
       "13    3.552027    3.553284\n",
       "14    0.425612    0.425612\n",
       "15    0.578875    0.934587\n",
       "16    2.965653    2.678013\n",
       "17    1.773192    1.773192\n",
       "18    2.728272    2.747155\n",
       "19    2.427634    2.427634\n",
       "20    0.494910    0.494910\n",
       "21    3.210442    3.333449\n",
       "22    2.367602    2.405614\n",
       "23    2.776951    2.776951\n",
       "24    1.084876    1.084876"
      ]
     },
     "execution_count": 25,
     "metadata": {},
     "output_type": "execute_result"
    }
   ],
   "source": [
    "comparison_df = pd.DataFrame({'Actual': y_test, 'Predicted': y_pred})\n",
    "comparison_df.head(25)\n"
   ]
  },
  {
   "cell_type": "code",
   "execution_count": 26,
   "metadata": {},
   "outputs": [
    {
     "data": {
      "image/png": "[encoded data removed]",
      "text/plain": [
       "<Figure size 720x576 with 1 Axes>"
      ]
     },
     "metadata": {
      "needs_background": "light"
     },
     "output_type": "display_data"
    }
   ],
   "source": [
    "comparison_df.iloc[0:25].plot(kind='bar',figsize=(10,8))\n",
    "plt.grid(which='major', linestyle='-', linewidth='0.5', color='green')\n",
    "plt.grid(which='minor', linestyle=':', linewidth='0.5', color='black')\n",
    "plt.show()"
   ]
  },
  {
   "cell_type": "code",
   "execution_count": 27,
   "metadata": {
    "scrolled": false
   },
   "outputs": [
    {
     "name": "stdout",
     "output_type": "stream",
     "text": [
      "r Squared: 0.9885903676798203\n"
     ]
    }
   ],
   "source": [
    "print(\"r Squared:\", metrics.r2_score(y_test, y_pred))"
   ]
  },
  {
   "cell_type": "markdown",
   "metadata": {},
   "source": [
    "Save the Trained Model"
   ]
  },
  {
   "cell_type": "code",
   "execution_count": 31,
   "metadata": {},
   "outputs": [],
   "source": [
    "from sklearn.externals.joblib import dump,load"
   ]
  },
  {
   "cell_type": "code",
   "execution_count": 32,
   "metadata": {},
   "outputs": [
    {
     "data": {
      "text/plain": [
       "['RFR.joblib']"
      ]
     },
     "execution_count": 32,
     "metadata": {},
     "output_type": "execute_result"
    }
   ],
   "source": [
    "dump(regressor, \"RFR.joblib\") "
   ]
  },
  {
   "cell_type": "code",
   "execution_count": null,
   "metadata": {},
   "outputs": [],
   "source": []
  }
 ],
 "metadata": {
  "kernelspec": {
   "display_name": "Python 3",
   "language": "python",
   "name": "python3"
  },
  "language_info": {
   "codemirror_mode": {
    "name": "ipython",
    "version": 3
   },
   "file_extension": ".py",
   "mimetype": "text/x-python",
   "name": "python",
   "nbconvert_exporter": "python",
   "pygments_lexer": "ipython3",
   "version": "3.7.3"
  }
 },
 "nbformat": 4,
 "nbformat_minor": 2
}
