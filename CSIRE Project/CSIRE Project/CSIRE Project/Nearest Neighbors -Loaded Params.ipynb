{
 "cells": [
  {
   "cell_type": "markdown",
   "metadata": {},
   "source": [
    "Building K Nearest Regression Model"
   ]
  },
  {
   "cell_type": "code",
   "execution_count": 1,
   "metadata": {},
   "outputs": [],
   "source": [
    "import pandas as pd  \n",
    "import numpy as np  \n",
    "import matplotlib.pyplot as plt \n",
    "import seaborn as seabornInstance \n",
    "from sklearn.model_selection import train_test_split  \n",
    "from sklearn.neighbors import KNeighborsRegressor as KNR\n",
    "from sklearn import metrics\n",
    "from sklearn.decomposition import PCA\n",
    "from sklearn.externals.joblib import dump,load\n",
    "from sklearn.preprocessing import StandardScaler\n",
    "from sklearn.model_selection import GridSearchCV as GSCV\n",
    "\n",
    "%matplotlib inline"
   ]
  },
  {
   "cell_type": "markdown",
   "metadata": {},
   "source": [
    "Load Dataset"
   ]
  },
  {
   "cell_type": "code",
   "execution_count": 2,
   "metadata": {},
   "outputs": [],
   "source": [
    "ML_dataset = pd.read_csv(\"data\\ML_dataset.csv\")"
   ]
  },
  {
   "cell_type": "markdown",
   "metadata": {},
   "source": [
    "Begin Model Building and Fitting\n",
    "\n",
    "Input and Output"
   ]
  },
  {
   "cell_type": "code",
   "execution_count": 3,
   "metadata": {},
   "outputs": [
    {
     "name": "stdout",
     "output_type": "stream",
     "text": [
      "['specialty_description', 'nppes_provider_city', 'total_claim_count', 'total_drug_cost', 'total_day_supply', 'total_30_day_fill_count', 'bene_count']\n"
     ]
    }
   ],
   "source": [
    "Labels = ML_dataset.drop(\"brand_percent_spending\", axis=1).columns.tolist() #columns of drugs\n",
    "print(Labels)"
   ]
  },
  {
   "cell_type": "code",
   "execution_count": 4,
   "metadata": {},
   "outputs": [],
   "source": [
    "X = ML_dataset[Labels]\n",
    "y = ML_dataset[\"brand_percent_spending\"]\n",
    "# Seperate into attributes and Labels"
   ]
  },
  {
   "cell_type": "markdown",
   "metadata": {},
   "source": [
    "PCA feature Selection with Scaling"
   ]
  },
  {
   "cell_type": "code",
   "execution_count": 5,
   "metadata": {},
   "outputs": [
    {
     "name": "stderr",
     "output_type": "stream",
     "text": [
      "C:\\Users\\John Lee\\Anaconda3\\lib\\site-packages\\sklearn\\preprocessing\\data.py:645: DataConversionWarning: Data with input dtype int64, float64 were all converted to float64 by StandardScaler.\n",
      "  return self.partial_fit(X, y)\n",
      "C:\\Users\\John Lee\\Anaconda3\\lib\\site-packages\\sklearn\\base.py:464: DataConversionWarning: Data with input dtype int64, float64 were all converted to float64 by StandardScaler.\n",
      "  return self.fit(X, **fit_params).transform(X)\n"
     ]
    }
   ],
   "source": [
    "X = StandardScaler().fit_transform(X)"
   ]
  },
  {
   "cell_type": "code",
   "execution_count": 6,
   "metadata": {},
   "outputs": [],
   "source": [
    "PCA = PCA(n_components = 'mle')\n",
    "X=PCA.fit_transform(X)"
   ]
  },
  {
   "cell_type": "code",
   "execution_count": 7,
   "metadata": {},
   "outputs": [
    {
     "name": "stdout",
     "output_type": "stream",
     "text": [
      "[0.56906204 0.15995163 0.13578093 0.07378827 0.05048682 0.01045913]\n"
     ]
    }
   ],
   "source": [
    "print(PCA.explained_variance_ratio_) "
   ]
  },
  {
   "cell_type": "markdown",
   "metadata": {},
   "source": [
    "Split Data into test and train"
   ]
  },
  {
   "cell_type": "code",
   "execution_count": 8,
   "metadata": {},
   "outputs": [],
   "source": [
    "X_train, X_test, y_train, y_test = train_test_split(X, y, test_size=0.25)\n",
    "#Split into Test and Train"
   ]
  },
  {
   "cell_type": "markdown",
   "metadata": {},
   "source": [
    "Fit Data into K Nearest with GridSearch Cross Validation"
   ]
  },
  {
   "cell_type": "code",
   "execution_count": 9,
   "metadata": {},
   "outputs": [],
   "source": [
    "best_model = load(\"Model_Weights\\KNear\\KNear_best_model\")"
   ]
  },
  {
   "cell_type": "code",
   "execution_count": 10,
   "metadata": {
    "scrolled": false
   },
   "outputs": [
    {
     "data": {
      "text/plain": [
       "KNeighborsRegressor(algorithm='kd_tree', leaf_size=30, metric='minkowski',\n",
       "          metric_params=None, n_jobs=None, n_neighbors=20, p=2,\n",
       "          weights='distance')"
      ]
     },
     "execution_count": 10,
     "metadata": {},
     "output_type": "execute_result"
    }
   ],
   "source": [
    "KNR = best_model\n",
    "KNR.fit(X_train, y_train)"
   ]
  },
  {
   "cell_type": "markdown",
   "metadata": {},
   "source": [
    "Observe CV Results"
   ]
  },
  {
   "cell_type": "markdown",
   "metadata": {},
   "source": [
    "Predictions"
   ]
  },
  {
   "cell_type": "code",
   "execution_count": 11,
   "metadata": {},
   "outputs": [],
   "source": [
    "#predictions\n",
    "y_pred =KNR.predict(X_test)"
   ]
  },
  {
   "cell_type": "code",
   "execution_count": 12,
   "metadata": {
    "scrolled": false
   },
   "outputs": [
    {
     "data": {
      "text/html": [
       "<div>\n",
       "<style scoped>\n",
       "    .dataframe tbody tr th:only-of-type {\n",
       "        vertical-align: middle;\n",
       "    }\n",
       "\n",
       "    .dataframe tbody tr th {\n",
       "        vertical-align: top;\n",
       "    }\n",
       "\n",
       "    .dataframe thead th {\n",
       "        text-align: right;\n",
       "    }\n",
       "</style>\n",
       "<table border=\"1\" class=\"dataframe\">\n",
       "  <thead>\n",
       "    <tr style=\"text-align: right;\">\n",
       "      <th></th>\n",
       "      <th>Actual</th>\n",
       "      <th>Predicted</th>\n",
       "    </tr>\n",
       "  </thead>\n",
       "  <tbody>\n",
       "    <tr>\n",
       "      <th>267629</th>\n",
       "      <td>0.785170</td>\n",
       "      <td>0.777960</td>\n",
       "    </tr>\n",
       "    <tr>\n",
       "      <th>124417</th>\n",
       "      <td>0.678723</td>\n",
       "      <td>0.619790</td>\n",
       "    </tr>\n",
       "    <tr>\n",
       "      <th>358048</th>\n",
       "      <td>0.747042</td>\n",
       "      <td>0.853699</td>\n",
       "    </tr>\n",
       "    <tr>\n",
       "      <th>218984</th>\n",
       "      <td>0.707673</td>\n",
       "      <td>0.702693</td>\n",
       "    </tr>\n",
       "    <tr>\n",
       "      <th>197858</th>\n",
       "      <td>0.479049</td>\n",
       "      <td>0.493049</td>\n",
       "    </tr>\n",
       "    <tr>\n",
       "      <th>456776</th>\n",
       "      <td>0.854644</td>\n",
       "      <td>0.673400</td>\n",
       "    </tr>\n",
       "    <tr>\n",
       "      <th>501805</th>\n",
       "      <td>0.569379</td>\n",
       "      <td>0.525537</td>\n",
       "    </tr>\n",
       "    <tr>\n",
       "      <th>81835</th>\n",
       "      <td>0.774723</td>\n",
       "      <td>0.799636</td>\n",
       "    </tr>\n",
       "    <tr>\n",
       "      <th>501087</th>\n",
       "      <td>0.070524</td>\n",
       "      <td>0.406594</td>\n",
       "    </tr>\n",
       "    <tr>\n",
       "      <th>206751</th>\n",
       "      <td>0.551468</td>\n",
       "      <td>0.569429</td>\n",
       "    </tr>\n",
       "    <tr>\n",
       "      <th>163447</th>\n",
       "      <td>0.705403</td>\n",
       "      <td>0.669219</td>\n",
       "    </tr>\n",
       "    <tr>\n",
       "      <th>278255</th>\n",
       "      <td>0.725376</td>\n",
       "      <td>0.547660</td>\n",
       "    </tr>\n",
       "    <tr>\n",
       "      <th>416549</th>\n",
       "      <td>0.695913</td>\n",
       "      <td>0.730858</td>\n",
       "    </tr>\n",
       "    <tr>\n",
       "      <th>507009</th>\n",
       "      <td>0.861767</td>\n",
       "      <td>0.795451</td>\n",
       "    </tr>\n",
       "    <tr>\n",
       "      <th>438725</th>\n",
       "      <td>0.832265</td>\n",
       "      <td>0.730563</td>\n",
       "    </tr>\n",
       "    <tr>\n",
       "      <th>84874</th>\n",
       "      <td>0.624297</td>\n",
       "      <td>0.682426</td>\n",
       "    </tr>\n",
       "    <tr>\n",
       "      <th>445581</th>\n",
       "      <td>0.519633</td>\n",
       "      <td>0.447618</td>\n",
       "    </tr>\n",
       "    <tr>\n",
       "      <th>8778</th>\n",
       "      <td>0.844271</td>\n",
       "      <td>0.777291</td>\n",
       "    </tr>\n",
       "    <tr>\n",
       "      <th>147440</th>\n",
       "      <td>0.819574</td>\n",
       "      <td>0.768325</td>\n",
       "    </tr>\n",
       "    <tr>\n",
       "      <th>111449</th>\n",
       "      <td>0.744088</td>\n",
       "      <td>0.703645</td>\n",
       "    </tr>\n",
       "    <tr>\n",
       "      <th>17724</th>\n",
       "      <td>0.918898</td>\n",
       "      <td>0.808051</td>\n",
       "    </tr>\n",
       "    <tr>\n",
       "      <th>407105</th>\n",
       "      <td>0.552587</td>\n",
       "      <td>0.394115</td>\n",
       "    </tr>\n",
       "    <tr>\n",
       "      <th>450819</th>\n",
       "      <td>0.825049</td>\n",
       "      <td>0.745470</td>\n",
       "    </tr>\n",
       "    <tr>\n",
       "      <th>350098</th>\n",
       "      <td>0.239290</td>\n",
       "      <td>0.491162</td>\n",
       "    </tr>\n",
       "    <tr>\n",
       "      <th>477600</th>\n",
       "      <td>0.582482</td>\n",
       "      <td>0.695110</td>\n",
       "    </tr>\n",
       "  </tbody>\n",
       "</table>\n",
       "</div>"
      ],
      "text/plain": [
       "          Actual  Predicted\n",
       "267629  0.785170   0.777960\n",
       "124417  0.678723   0.619790\n",
       "358048  0.747042   0.853699\n",
       "218984  0.707673   0.702693\n",
       "197858  0.479049   0.493049\n",
       "456776  0.854644   0.673400\n",
       "501805  0.569379   0.525537\n",
       "81835   0.774723   0.799636\n",
       "501087  0.070524   0.406594\n",
       "206751  0.551468   0.569429\n",
       "163447  0.705403   0.669219\n",
       "278255  0.725376   0.547660\n",
       "416549  0.695913   0.730858\n",
       "507009  0.861767   0.795451\n",
       "438725  0.832265   0.730563\n",
       "84874   0.624297   0.682426\n",
       "445581  0.519633   0.447618\n",
       "8778    0.844271   0.777291\n",
       "147440  0.819574   0.768325\n",
       "111449  0.744088   0.703645\n",
       "17724   0.918898   0.808051\n",
       "407105  0.552587   0.394115\n",
       "450819  0.825049   0.745470\n",
       "350098  0.239290   0.491162\n",
       "477600  0.582482   0.695110"
      ]
     },
     "execution_count": 12,
     "metadata": {},
     "output_type": "execute_result"
    }
   ],
   "source": [
    "comparison_df = pd.DataFrame({'Actual': y_test, 'Predicted': y_pred})\n",
    "comparison_df.head(25) #Actual Vs Predicted Dataframebb"
   ]
  },
  {
   "cell_type": "code",
   "execution_count": 13,
   "metadata": {},
   "outputs": [
    {
     "data": {
      "image/png": "[encoded data removed]",
      "text/plain": [
       "<Figure size 720x576 with 1 Axes>"
      ]
     },
     "metadata": {
      "needs_background": "light"
     },
     "output_type": "display_data"
    }
   ],
   "source": [
    "comparison_df.iloc[0:25].plot(kind='bar',figsize=(10,8))\n",
    "plt.grid(which='major', linestyle='-', linewidth='0.5', color='green')\n",
    "plt.grid(which='minor', linestyle=':', linewidth='0.5', color='black')\n",
    "plt.show()"
   ]
  },
  {
   "cell_type": "code",
   "execution_count": 14,
   "metadata": {},
   "outputs": [
    {
     "data": {
      "text/plain": [
       "Text(0, 0.5, 'Predicted')"
      ]
     },
     "execution_count": 14,
     "metadata": {},
     "output_type": "execute_result"
    },
    {
     "data": {
      "image/png": "[encoded data removed]",
      "text/plain": [
       "<Figure size 432x288 with 1 Axes>"
      ]
     },
     "metadata": {
      "needs_background": "light"
     },
     "output_type": "display_data"
    }
   ],
   "source": [
    "plt.scatter(comparison_df.iloc[0:1000][\"Actual\"], comparison_df.iloc[0:1000][\"Predicted\"], alpha = .25)\n",
    "plt.xlabel(\"Actual\", fontsize = 16) #scatter plot of specialty combined data\n",
    "plt.ylabel(\"Predicted\",  fontsize = 16)"
   ]
  },
  {
   "cell_type": "markdown",
   "metadata": {},
   "source": [
    "Statistics"
   ]
  },
  {
   "cell_type": "code",
   "execution_count": 15,
   "metadata": {},
   "outputs": [
    {
     "name": "stdout",
     "output_type": "stream",
     "text": [
      "r Squared: 0.5518134258890026\n"
     ]
    }
   ],
   "source": [
    "print(\"r Squared:\", metrics.r2_score(y_test, y_pred))\n",
    "rsq = metrics.r2_score(y_test, y_pred)"
   ]
  },
  {
   "cell_type": "code",
   "execution_count": 16,
   "metadata": {},
   "outputs": [
    {
     "name": "stdout",
     "output_type": "stream",
     "text": [
      "Mean Absolute Error: 0.0944475123582436\n",
      "Mean Squared Error: 0.018347031931874383\n"
     ]
    }
   ],
   "source": [
    "print('Mean Absolute Error:', metrics.mean_absolute_error(y_test, y_pred))\n",
    "mae = metrics.mean_absolute_error(y_test, y_pred)\n",
    "print('Mean Squared Error:', metrics.mean_squared_error(y_test, y_pred))\n",
    "mse = metrics.mean_squared_error(y_test, y_pred)"
   ]
  },
  {
   "cell_type": "code",
   "execution_count": 17,
   "metadata": {},
   "outputs": [],
   "source": [
    "metrics_df = pd.read_csv(\"data\\metrics_df.csv\")\n",
    "metrics_df = metrics_df.append({\"Input\": Labels, \"R Squared\": rsq, \"Mean Absolute Error\": mae, \"Mean Squared Error\": mse, \"Model\": \"K Nearest\"}, ignore_index=True)"
   ]
  },
  {
   "cell_type": "code",
   "execution_count": 18,
   "metadata": {},
   "outputs": [
    {
     "data": {
      "text/html": [
       "<div>\n",
       "<style scoped>\n",
       "    .dataframe tbody tr th:only-of-type {\n",
       "        vertical-align: middle;\n",
       "    }\n",
       "\n",
       "    .dataframe tbody tr th {\n",
       "        vertical-align: top;\n",
       "    }\n",
       "\n",
       "    .dataframe thead th {\n",
       "        text-align: right;\n",
       "    }\n",
       "</style>\n",
       "<table border=\"1\" class=\"dataframe\">\n",
       "  <thead>\n",
       "    <tr style=\"text-align: right;\">\n",
       "      <th></th>\n",
       "      <th>Input</th>\n",
       "      <th>R Squared</th>\n",
       "      <th>Mean Absolute Error</th>\n",
       "      <th>Mean Squared Error</th>\n",
       "      <th>Model</th>\n",
       "    </tr>\n",
       "  </thead>\n",
       "  <tbody>\n",
       "    <tr>\n",
       "      <th>36</th>\n",
       "      <td>['specialty_description', 'nppes_provider_city...</td>\n",
       "      <td>0.570916</td>\n",
       "      <td>0.095623</td>\n",
       "      <td>0.017558</td>\n",
       "      <td>Neural Network</td>\n",
       "    </tr>\n",
       "    <tr>\n",
       "      <th>37</th>\n",
       "      <td>['specialty_description', 'nppes_provider_city...</td>\n",
       "      <td>0.615159</td>\n",
       "      <td>0.088794</td>\n",
       "      <td>0.015720</td>\n",
       "      <td>Neural Network</td>\n",
       "    </tr>\n",
       "    <tr>\n",
       "      <th>38</th>\n",
       "      <td>['specialty_description', 'nppes_provider_city...</td>\n",
       "      <td>0.549090</td>\n",
       "      <td>0.093914</td>\n",
       "      <td>0.018368</td>\n",
       "      <td>K Nearest</td>\n",
       "    </tr>\n",
       "    <tr>\n",
       "      <th>39</th>\n",
       "      <td>['specialty_description', 'nppes_provider_city...</td>\n",
       "      <td>0.552332</td>\n",
       "      <td>0.094006</td>\n",
       "      <td>0.018182</td>\n",
       "      <td>K Nearest</td>\n",
       "    </tr>\n",
       "    <tr>\n",
       "      <th>40</th>\n",
       "      <td>[specialty_description, nppes_provider_city, t...</td>\n",
       "      <td>0.551813</td>\n",
       "      <td>0.094448</td>\n",
       "      <td>0.018347</td>\n",
       "      <td>K Nearest</td>\n",
       "    </tr>\n",
       "  </tbody>\n",
       "</table>\n",
       "</div>"
      ],
      "text/plain": [
       "                                                Input  R Squared  \\\n",
       "36  ['specialty_description', 'nppes_provider_city...   0.570916   \n",
       "37  ['specialty_description', 'nppes_provider_city...   0.615159   \n",
       "38  ['specialty_description', 'nppes_provider_city...   0.549090   \n",
       "39  ['specialty_description', 'nppes_provider_city...   0.552332   \n",
       "40  [specialty_description, nppes_provider_city, t...   0.551813   \n",
       "\n",
       "    Mean Absolute Error  Mean Squared Error           Model  \n",
       "36             0.095623            0.017558  Neural Network  \n",
       "37             0.088794            0.015720  Neural Network  \n",
       "38             0.093914            0.018368       K Nearest  \n",
       "39             0.094006            0.018182       K Nearest  \n",
       "40             0.094448            0.018347       K Nearest  "
      ]
     },
     "execution_count": 18,
     "metadata": {},
     "output_type": "execute_result"
    }
   ],
   "source": [
    "metrics_df.tail()"
   ]
  },
  {
   "cell_type": "code",
   "execution_count": 19,
   "metadata": {},
   "outputs": [],
   "source": [
    "metrics_df.to_csv(\"data\\metrics_df.csv\", index = False)"
   ]
  },
  {
   "cell_type": "markdown",
   "metadata": {},
   "source": [
    "Save Trained Model"
   ]
  },
  {
   "cell_type": "code",
   "execution_count": 20,
   "metadata": {},
   "outputs": [
    {
     "data": {
      "text/plain": [
       "['Model_Weights\\\\KNear\\\\KNear_trainedModel']"
      ]
     },
     "execution_count": 20,
     "metadata": {},
     "output_type": "execute_result"
    }
   ],
   "source": [
    "dump(KNR, \"Model_Weights\\KNear\\KNear_trainedModel\") "
   ]
  },
  {
   "cell_type": "code",
   "execution_count": null,
   "metadata": {},
   "outputs": [],
   "source": []
  }
 ],
 "metadata": {
  "kernelspec": {
   "display_name": "Python 3",
   "language": "python",
   "name": "python3"
  },
  "language_info": {
   "codemirror_mode": {
    "name": "ipython",
    "version": 3
   },
   "file_extension": ".py",
   "mimetype": "text/x-python",
   "name": "python",
   "nbconvert_exporter": "python",
   "pygments_lexer": "ipython3",
   "version": "3.7.3"
  }
 },
 "nbformat": 4,
 "nbformat_minor": 2
}
