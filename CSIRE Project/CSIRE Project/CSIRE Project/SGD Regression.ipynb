{
 "cells": [
  {
   "cell_type": "markdown",
   "metadata": {},
   "source": [
    "    Beginning the Regression Preparation"
   ]
  },
  {
   "cell_type": "code",
   "execution_count": 1,
   "metadata": {},
   "outputs": [],
   "source": [
    "\n",
    "import pandas as pd"
   ]
  },
  {
   "cell_type": "markdown",
   "metadata": {},
   "source": [
    "Building a MultiVariate Regression Model taking in Drug Claim Counts"
   ]
  },
  {
   "cell_type": "code",
   "execution_count": 2,
   "metadata": {},
   "outputs": [],
   "source": [
    "import numpy as np  \n",
    "import matplotlib.pyplot as plt  \n",
    "import seaborn as seabornInstance \n",
    "from sklearn.model_selection import train_test_split \n",
    "from sklearn.linear_model import SGDRegressor as SGDR\n",
    "from sklearn import metrics\n",
    "from sklearn.decomposition import PCA\n",
    "from sklearn.preprocessing import StandardScaler\n",
    "%matplotlib inline\n",
    "pd.set_option(\"display.max_columns\", 150) #increase column options"
   ]
  },
  {
   "cell_type": "code",
   "execution_count": 3,
   "metadata": {},
   "outputs": [],
   "source": [
    "ML_dataset = pd.read_csv(\"data\\ML_dataset.csv\")"
   ]
  },
  {
   "cell_type": "code",
   "execution_count": 4,
   "metadata": {
    "scrolled": false
   },
   "outputs": [
    {
     "data": {
      "text/html": [
       "<div>\n",
       "<style scoped>\n",
       "    .dataframe tbody tr th:only-of-type {\n",
       "        vertical-align: middle;\n",
       "    }\n",
       "\n",
       "    .dataframe tbody tr th {\n",
       "        vertical-align: top;\n",
       "    }\n",
       "\n",
       "    .dataframe thead th {\n",
       "        text-align: right;\n",
       "    }\n",
       "</style>\n",
       "<table border=\"1\" class=\"dataframe\">\n",
       "  <thead>\n",
       "    <tr style=\"text-align: right;\">\n",
       "      <th></th>\n",
       "      <th>specialty_description</th>\n",
       "      <th>nppes_provider_city</th>\n",
       "      <th>total_claim_count</th>\n",
       "      <th>total_drug_cost</th>\n",
       "      <th>total_day_supply</th>\n",
       "      <th>total_30_day_fill_count</th>\n",
       "      <th>bene_count</th>\n",
       "      <th>brand_percent_spending</th>\n",
       "    </tr>\n",
       "  </thead>\n",
       "  <tbody>\n",
       "    <tr>\n",
       "      <th>0</th>\n",
       "      <td>39</td>\n",
       "      <td>9174</td>\n",
       "      <td>1946</td>\n",
       "      <td>140189.01</td>\n",
       "      <td>58605</td>\n",
       "      <td>2054.8</td>\n",
       "      <td>276.0</td>\n",
       "      <td>0.756466</td>\n",
       "    </tr>\n",
       "    <tr>\n",
       "      <th>1</th>\n",
       "      <td>108</td>\n",
       "      <td>9331</td>\n",
       "      <td>90</td>\n",
       "      <td>7561.21</td>\n",
       "      <td>2681</td>\n",
       "      <td>110.0</td>\n",
       "      <td>11.0</td>\n",
       "      <td>0.869739</td>\n",
       "    </tr>\n",
       "    <tr>\n",
       "      <th>2</th>\n",
       "      <td>32</td>\n",
       "      <td>8930</td>\n",
       "      <td>200</td>\n",
       "      <td>14549.85</td>\n",
       "      <td>7587</td>\n",
       "      <td>307.2</td>\n",
       "      <td>65.0</td>\n",
       "      <td>0.535970</td>\n",
       "    </tr>\n",
       "    <tr>\n",
       "      <th>3</th>\n",
       "      <td>70</td>\n",
       "      <td>3003</td>\n",
       "      <td>4981</td>\n",
       "      <td>258258.70</td>\n",
       "      <td>337309</td>\n",
       "      <td>11494.1</td>\n",
       "      <td>459.0</td>\n",
       "      <td>0.567573</td>\n",
       "    </tr>\n",
       "    <tr>\n",
       "      <th>4</th>\n",
       "      <td>88</td>\n",
       "      <td>7343</td>\n",
       "      <td>7165</td>\n",
       "      <td>379661.02</td>\n",
       "      <td>333309</td>\n",
       "      <td>11406.5</td>\n",
       "      <td>461.0</td>\n",
       "      <td>0.724479</td>\n",
       "    </tr>\n",
       "  </tbody>\n",
       "</table>\n",
       "</div>"
      ],
      "text/plain": [
       "   specialty_description  nppes_provider_city  total_claim_count  \\\n",
       "0                     39                 9174               1946   \n",
       "1                    108                 9331                 90   \n",
       "2                     32                 8930                200   \n",
       "3                     70                 3003               4981   \n",
       "4                     88                 7343               7165   \n",
       "\n",
       "   total_drug_cost  total_day_supply  total_30_day_fill_count  bene_count  \\\n",
       "0        140189.01             58605                   2054.8       276.0   \n",
       "1          7561.21              2681                    110.0        11.0   \n",
       "2         14549.85              7587                    307.2        65.0   \n",
       "3        258258.70            337309                  11494.1       459.0   \n",
       "4        379661.02            333309                  11406.5       461.0   \n",
       "\n",
       "   brand_percent_spending  \n",
       "0                0.756466  \n",
       "1                0.869739  \n",
       "2                0.535970  \n",
       "3                0.567573  \n",
       "4                0.724479  "
      ]
     },
     "execution_count": 4,
     "metadata": {},
     "output_type": "execute_result"
    }
   ],
   "source": [
    "ML_dataset.head()"
   ]
  },
  {
   "cell_type": "markdown",
   "metadata": {},
   "source": [
    "\n",
    "\n",
    "Begin Model Building and Fitting"
   ]
  },
  {
   "cell_type": "markdown",
   "metadata": {},
   "source": [
    "Input and Output"
   ]
  },
  {
   "cell_type": "code",
   "execution_count": 5,
   "metadata": {},
   "outputs": [
    {
     "name": "stdout",
     "output_type": "stream",
     "text": [
      "['specialty_description', 'nppes_provider_city', 'total_claim_count', 'total_drug_cost', 'total_day_supply', 'total_30_day_fill_count', 'bene_count']\n"
     ]
    }
   ],
   "source": [
    "Labels = ML_dataset.drop(\"brand_percent_spending\", axis=1).columns.tolist() #columns of drugs\n",
    "print(Labels)"
   ]
  },
  {
   "cell_type": "code",
   "execution_count": 6,
   "metadata": {
    "scrolled": true
   },
   "outputs": [],
   "source": [
    "X = ML_dataset[Labels]\n",
    "y = ML_dataset[\"brand_percent_spending\"]\n"
   ]
  },
  {
   "cell_type": "markdown",
   "metadata": {},
   "source": [
    "PCA Feature Selection"
   ]
  },
  {
   "cell_type": "code",
   "execution_count": 7,
   "metadata": {},
   "outputs": [
    {
     "name": "stderr",
     "output_type": "stream",
     "text": [
      "C:\\Users\\John Lee\\Anaconda3\\lib\\site-packages\\sklearn\\preprocessing\\data.py:645: DataConversionWarning: Data with input dtype int64, float64 were all converted to float64 by StandardScaler.\n",
      "  return self.partial_fit(X, y)\n",
      "C:\\Users\\John Lee\\Anaconda3\\lib\\site-packages\\sklearn\\base.py:464: DataConversionWarning: Data with input dtype int64, float64 were all converted to float64 by StandardScaler.\n",
      "  return self.fit(X, **fit_params).transform(X)\n"
     ]
    }
   ],
   "source": [
    "X = StandardScaler().fit_transform(X)"
   ]
  },
  {
   "cell_type": "code",
   "execution_count": 8,
   "metadata": {},
   "outputs": [
    {
     "data": {
      "text/plain": [
       "array([[-0.28899275, -0.78519844,  1.38468074,  0.18266722,  0.50352134,\n",
       "         0.15765195],\n",
       "       [-1.4178003 ,  0.75429729,  0.29012323, -0.22395594, -0.47586673,\n",
       "        -0.01680797],\n",
       "       [-1.2536289 , -1.05672808,  1.35747392,  0.42268504, -0.02429186,\n",
       "        -0.01668494],\n",
       "       ...,\n",
       "       [-1.36959506,  1.67015776, -0.23601103, -0.61449982, -0.49208228,\n",
       "         0.00609373],\n",
       "       [-1.33554674,  0.52908316,  0.44945876, -0.16298418, -0.35669675,\n",
       "        -0.00727799],\n",
       "       [-1.23655152,  0.5861791 ,  0.19267411, -0.27147188, -0.23553832,\n",
       "         0.01997777]])"
      ]
     },
     "execution_count": 8,
     "metadata": {},
     "output_type": "execute_result"
    }
   ],
   "source": [
    "PCA = PCA(n_components = 'mle')\n",
    "PCA.fit_transform(X)"
   ]
  },
  {
   "cell_type": "code",
   "execution_count": 9,
   "metadata": {},
   "outputs": [
    {
     "name": "stdout",
     "output_type": "stream",
     "text": [
      "[3.98344151 1.11966348 0.95046821 0.5165188  0.35340836 0.07321407]\n"
     ]
    }
   ],
   "source": [
    "print(PCA.explained_variance_)  "
   ]
  },
  {
   "cell_type": "markdown",
   "metadata": {},
   "source": [
    "Splitting Data into Test and Train"
   ]
  },
  {
   "cell_type": "code",
   "execution_count": 10,
   "metadata": {
    "scrolled": true
   },
   "outputs": [],
   "source": [
    "X_train, X_test, y_train, y_test = train_test_split(X, y, test_size=0.25)\n",
    "#Split into Test and Train\n"
   ]
  },
  {
   "cell_type": "markdown",
   "metadata": {},
   "source": [
    "Fit data into Lasso/L1 Model"
   ]
  },
  {
   "cell_type": "code",
   "execution_count": 12,
   "metadata": {
    "scrolled": true
   },
   "outputs": [
    {
     "name": "stderr",
     "output_type": "stream",
     "text": [
      "C:\\Users\\John Lee\\Anaconda3\\lib\\site-packages\\sklearn\\linear_model\\stochastic_gradient.py:166: FutureWarning: max_iter and tol parameters have been added in SGDRegressor in 0.19. If both are left unset, they default to max_iter=5 and tol=None. If tol is not None, max_iter defaults to max_iter=1000. From 0.21, default max_iter will be 1000, and default tol will be 1e-3.\n",
      "  FutureWarning)\n"
     ]
    },
    {
     "data": {
      "text/plain": [
       "SGDRegressor(alpha=0.0001, average=False, early_stopping=False, epsilon=0.1,\n",
       "       eta0=0.01, fit_intercept=True, l1_ratio=0.15,\n",
       "       learning_rate='invscaling', loss='squared_loss', max_iter=None,\n",
       "       n_iter=None, n_iter_no_change=5, penalty='l2', power_t=0.25,\n",
       "       random_state=None, shuffle=True, tol=None, validation_fraction=0.1,\n",
       "       verbose=0, warm_start=False)"
      ]
     },
     "execution_count": 12,
     "metadata": {},
     "output_type": "execute_result"
    }
   ],
   "source": [
    "\n",
    "regressor = SGDR()\n",
    "regressor.fit(X_train, y_train)"
   ]
  },
  {
   "cell_type": "markdown",
   "metadata": {},
   "source": [
    "Coefficients of Model"
   ]
  },
  {
   "cell_type": "code",
   "execution_count": 13,
   "metadata": {},
   "outputs": [
    {
     "name": "stdout",
     "output_type": "stream",
     "text": [
      "7\n"
     ]
    }
   ],
   "source": [
    "print(len(regressor.coef_))"
   ]
  },
  {
   "cell_type": "code",
   "execution_count": 14,
   "metadata": {
    "scrolled": true
   },
   "outputs": [
    {
     "data": {
      "text/html": [
       "<div>\n",
       "<style scoped>\n",
       "    .dataframe tbody tr th:only-of-type {\n",
       "        vertical-align: middle;\n",
       "    }\n",
       "\n",
       "    .dataframe tbody tr th {\n",
       "        vertical-align: top;\n",
       "    }\n",
       "\n",
       "    .dataframe thead th {\n",
       "        text-align: right;\n",
       "    }\n",
       "</style>\n",
       "<table border=\"1\" class=\"dataframe\">\n",
       "  <thead>\n",
       "    <tr style=\"text-align: right;\">\n",
       "      <th></th>\n",
       "      <th>Coefficient</th>\n",
       "    </tr>\n",
       "  </thead>\n",
       "  <tbody>\n",
       "    <tr>\n",
       "      <th>specialty_description</th>\n",
       "      <td>0.086470</td>\n",
       "    </tr>\n",
       "    <tr>\n",
       "      <th>total_day_supply</th>\n",
       "      <td>0.061144</td>\n",
       "    </tr>\n",
       "    <tr>\n",
       "      <th>total_drug_cost</th>\n",
       "      <td>0.054202</td>\n",
       "    </tr>\n",
       "    <tr>\n",
       "      <th>nppes_provider_city</th>\n",
       "      <td>0.013283</td>\n",
       "    </tr>\n",
       "    <tr>\n",
       "      <th>total_claim_count</th>\n",
       "      <td>-0.016929</td>\n",
       "    </tr>\n",
       "    <tr>\n",
       "      <th>bene_count</th>\n",
       "      <td>-0.027512</td>\n",
       "    </tr>\n",
       "    <tr>\n",
       "      <th>total_30_day_fill_count</th>\n",
       "      <td>-0.036520</td>\n",
       "    </tr>\n",
       "  </tbody>\n",
       "</table>\n",
       "</div>"
      ],
      "text/plain": [
       "                         Coefficient\n",
       "specialty_description       0.086470\n",
       "total_day_supply            0.061144\n",
       "total_drug_cost             0.054202\n",
       "nppes_provider_city         0.013283\n",
       "total_claim_count          -0.016929\n",
       "bene_count                 -0.027512\n",
       "total_30_day_fill_count    -0.036520"
      ]
     },
     "execution_count": 14,
     "metadata": {},
     "output_type": "execute_result"
    }
   ],
   "source": [
    "coeff_df = pd.DataFrame( regressor.coef_ , Labels, columns=['Coefficient'])  \n",
    "coeff_df = coeff_df[coeff_df[\"Coefficient\"] != 0]\n",
    "coeff_df.sort_values(\"Coefficient\" ,ascending = False) #Coefficients for each feature used"
   ]
  },
  {
   "cell_type": "markdown",
   "metadata": {},
   "source": [
    "Predictions"
   ]
  },
  {
   "cell_type": "code",
   "execution_count": 15,
   "metadata": {},
   "outputs": [],
   "source": [
    "y_pred = regressor.predict(X_test)"
   ]
  },
  {
   "cell_type": "code",
   "execution_count": 16,
   "metadata": {},
   "outputs": [
    {
     "data": {
      "text/html": [
       "<div>\n",
       "<style scoped>\n",
       "    .dataframe tbody tr th:only-of-type {\n",
       "        vertical-align: middle;\n",
       "    }\n",
       "\n",
       "    .dataframe tbody tr th {\n",
       "        vertical-align: top;\n",
       "    }\n",
       "\n",
       "    .dataframe thead th {\n",
       "        text-align: right;\n",
       "    }\n",
       "</style>\n",
       "<table border=\"1\" class=\"dataframe\">\n",
       "  <thead>\n",
       "    <tr style=\"text-align: right;\">\n",
       "      <th></th>\n",
       "      <th>Actual</th>\n",
       "      <th>Predicted</th>\n",
       "    </tr>\n",
       "  </thead>\n",
       "  <tbody>\n",
       "    <tr>\n",
       "      <th>328235</th>\n",
       "      <td>0.784958</td>\n",
       "      <td>0.648581</td>\n",
       "    </tr>\n",
       "    <tr>\n",
       "      <th>90712</th>\n",
       "      <td>0.959964</td>\n",
       "      <td>0.891098</td>\n",
       "    </tr>\n",
       "    <tr>\n",
       "      <th>408838</th>\n",
       "      <td>0.807232</td>\n",
       "      <td>0.695488</td>\n",
       "    </tr>\n",
       "    <tr>\n",
       "      <th>236969</th>\n",
       "      <td>0.574822</td>\n",
       "      <td>0.727888</td>\n",
       "    </tr>\n",
       "    <tr>\n",
       "      <th>30566</th>\n",
       "      <td>0.947439</td>\n",
       "      <td>0.802971</td>\n",
       "    </tr>\n",
       "    <tr>\n",
       "      <th>238172</th>\n",
       "      <td>0.389186</td>\n",
       "      <td>0.727584</td>\n",
       "    </tr>\n",
       "    <tr>\n",
       "      <th>448091</th>\n",
       "      <td>0.599098</td>\n",
       "      <td>0.674633</td>\n",
       "    </tr>\n",
       "    <tr>\n",
       "      <th>440517</th>\n",
       "      <td>0.321220</td>\n",
       "      <td>0.534128</td>\n",
       "    </tr>\n",
       "    <tr>\n",
       "      <th>172473</th>\n",
       "      <td>0.655440</td>\n",
       "      <td>0.729130</td>\n",
       "    </tr>\n",
       "    <tr>\n",
       "      <th>274597</th>\n",
       "      <td>0.400443</td>\n",
       "      <td>0.692513</td>\n",
       "    </tr>\n",
       "    <tr>\n",
       "      <th>308106</th>\n",
       "      <td>0.731021</td>\n",
       "      <td>0.648963</td>\n",
       "    </tr>\n",
       "    <tr>\n",
       "      <th>359879</th>\n",
       "      <td>0.206360</td>\n",
       "      <td>0.584652</td>\n",
       "    </tr>\n",
       "    <tr>\n",
       "      <th>287192</th>\n",
       "      <td>0.683745</td>\n",
       "      <td>0.616411</td>\n",
       "    </tr>\n",
       "    <tr>\n",
       "      <th>240599</th>\n",
       "      <td>0.733936</td>\n",
       "      <td>0.544614</td>\n",
       "    </tr>\n",
       "    <tr>\n",
       "      <th>12194</th>\n",
       "      <td>0.624201</td>\n",
       "      <td>0.531357</td>\n",
       "    </tr>\n",
       "    <tr>\n",
       "      <th>34916</th>\n",
       "      <td>0.695738</td>\n",
       "      <td>0.678880</td>\n",
       "    </tr>\n",
       "    <tr>\n",
       "      <th>299970</th>\n",
       "      <td>0.667933</td>\n",
       "      <td>0.607206</td>\n",
       "    </tr>\n",
       "    <tr>\n",
       "      <th>157235</th>\n",
       "      <td>0.624519</td>\n",
       "      <td>0.675638</td>\n",
       "    </tr>\n",
       "    <tr>\n",
       "      <th>275415</th>\n",
       "      <td>0.682759</td>\n",
       "      <td>0.680838</td>\n",
       "    </tr>\n",
       "    <tr>\n",
       "      <th>316235</th>\n",
       "      <td>0.479911</td>\n",
       "      <td>0.658795</td>\n",
       "    </tr>\n",
       "    <tr>\n",
       "      <th>436214</th>\n",
       "      <td>0.799500</td>\n",
       "      <td>0.692147</td>\n",
       "    </tr>\n",
       "    <tr>\n",
       "      <th>289982</th>\n",
       "      <td>0.492433</td>\n",
       "      <td>0.622854</td>\n",
       "    </tr>\n",
       "    <tr>\n",
       "      <th>224729</th>\n",
       "      <td>0.248155</td>\n",
       "      <td>0.447241</td>\n",
       "    </tr>\n",
       "    <tr>\n",
       "      <th>528484</th>\n",
       "      <td>0.441527</td>\n",
       "      <td>0.664332</td>\n",
       "    </tr>\n",
       "    <tr>\n",
       "      <th>4213</th>\n",
       "      <td>0.725226</td>\n",
       "      <td>0.686131</td>\n",
       "    </tr>\n",
       "  </tbody>\n",
       "</table>\n",
       "</div>"
      ],
      "text/plain": [
       "          Actual  Predicted\n",
       "328235  0.784958   0.648581\n",
       "90712   0.959964   0.891098\n",
       "408838  0.807232   0.695488\n",
       "236969  0.574822   0.727888\n",
       "30566   0.947439   0.802971\n",
       "238172  0.389186   0.727584\n",
       "448091  0.599098   0.674633\n",
       "440517  0.321220   0.534128\n",
       "172473  0.655440   0.729130\n",
       "274597  0.400443   0.692513\n",
       "308106  0.731021   0.648963\n",
       "359879  0.206360   0.584652\n",
       "287192  0.683745   0.616411\n",
       "240599  0.733936   0.544614\n",
       "12194   0.624201   0.531357\n",
       "34916   0.695738   0.678880\n",
       "299970  0.667933   0.607206\n",
       "157235  0.624519   0.675638\n",
       "275415  0.682759   0.680838\n",
       "316235  0.479911   0.658795\n",
       "436214  0.799500   0.692147\n",
       "289982  0.492433   0.622854\n",
       "224729  0.248155   0.447241\n",
       "528484  0.441527   0.664332\n",
       "4213    0.725226   0.686131"
      ]
     },
     "execution_count": 16,
     "metadata": {},
     "output_type": "execute_result"
    }
   ],
   "source": [
    "comparison_df = pd.DataFrame({'Actual': y_test, 'Predicted': y_pred})\n",
    "comparison_df.head(25) #Actual Vs Predicted Dataframe"
   ]
  },
  {
   "cell_type": "code",
   "execution_count": 17,
   "metadata": {
    "scrolled": true
   },
   "outputs": [
    {
     "data": {
      "image/png": "[encoded data removed]",
      "text/plain": [
       "<Figure size 720x576 with 1 Axes>"
      ]
     },
     "metadata": {
      "needs_background": "light"
     },
     "output_type": "display_data"
    }
   ],
   "source": [
    "comparison_df.iloc[0:25].plot(kind='bar',figsize=(10,8))\n",
    "plt.grid(which='major', linestyle='-', linewidth='0.5', color='green')\n",
    "plt.grid(which='minor', linestyle=':', linewidth='0.5', color='black')\n",
    "plt.show()"
   ]
  },
  {
   "cell_type": "code",
   "execution_count": 18,
   "metadata": {},
   "outputs": [
    {
     "data": {
      "text/plain": [
       "Text(0, 0.5, 'Predicted')"
      ]
     },
     "execution_count": 18,
     "metadata": {},
     "output_type": "execute_result"
    },
    {
     "data": {
      "image/png": "[encoded data removed]",
      "text/plain": [
       "<Figure size 432x288 with 1 Axes>"
      ]
     },
     "metadata": {
      "needs_background": "light"
     },
     "output_type": "display_data"
    }
   ],
   "source": [
    "plt.scatter(comparison_df.iloc[0:1000][\"Actual\"], comparison_df.iloc[0:1000][\"Predicted\"], alpha = .25)\n",
    "plt.xlabel(\"Actual\", fontsize = 16) #scatter plot of specialty combined data\n",
    "plt.ylabel(\"Predicted\",  fontsize = 16)"
   ]
  },
  {
   "cell_type": "markdown",
   "metadata": {},
   "source": [
    "Statistics"
   ]
  },
  {
   "cell_type": "code",
   "execution_count": 19,
   "metadata": {},
   "outputs": [
    {
     "name": "stdout",
     "output_type": "stream",
     "text": [
      "Mean Absolute Error: 0.13124383502060652\n",
      "Mean Squared Error: 0.02975706243775941\n"
     ]
    }
   ],
   "source": [
    "print('Mean Absolute Error:', metrics.mean_absolute_error(y_test, y_pred)) \n",
    "mae = metrics.mean_absolute_error(y_test, y_pred)\n",
    "print('Mean Squared Error:', metrics.mean_squared_error(y_test, y_pred))\n",
    "mse = metrics.mean_squared_error(y_test, y_pred)"
   ]
  },
  {
   "cell_type": "code",
   "execution_count": 20,
   "metadata": {
    "scrolled": false
   },
   "outputs": [
    {
     "name": "stdout",
     "output_type": "stream",
     "text": [
      "r Squared: 0.26945890031839803\n"
     ]
    }
   ],
   "source": [
    "print(\"r Squared:\", metrics.r2_score(y_test, y_pred))\n",
    "rsq = metrics.r2_score(y_test, y_pred)"
   ]
  },
  {
   "cell_type": "code",
   "execution_count": 21,
   "metadata": {},
   "outputs": [],
   "source": [
    "metrics_df = pd.read_csv(\"data\\metrics_df.csv\")"
   ]
  },
  {
   "cell_type": "code",
   "execution_count": null,
   "metadata": {},
   "outputs": [],
   "source": [
    "metrics_df = metrics_df.append({\"Input\": Labels, \"R Squared\": rsq, \"Mean Absolute Error\": mae, \"Mean Squared Error\": mse, \"Model\": \"Lasso Linear\"}, ignore_index=True)"
   ]
  },
  {
   "cell_type": "code",
   "execution_count": null,
   "metadata": {},
   "outputs": [],
   "source": [
    "metrics_df.tail()"
   ]
  },
  {
   "cell_type": "code",
   "execution_count": null,
   "metadata": {},
   "outputs": [],
   "source": [
    "metrics_df.to_csv(\"data\\metrics_df.csv\", index = False)"
   ]
  },
  {
   "cell_type": "markdown",
   "metadata": {},
   "source": [
    "Save Weights"
   ]
  },
  {
   "cell_type": "code",
   "execution_count": null,
   "metadata": {},
   "outputs": [],
   "source": [
    "from sklearn.externals.joblib import dump,load"
   ]
  },
  {
   "cell_type": "code",
   "execution_count": null,
   "metadata": {},
   "outputs": [],
   "source": [
    "dump(regressor, \"Model_Weights\\L1\\Lasso_trainedModel\") "
   ]
  },
  {
   "cell_type": "code",
   "execution_count": null,
   "metadata": {},
   "outputs": [],
   "source": []
  }
 ],
 "metadata": {
  "kernelspec": {
   "display_name": "Python 3",
   "language": "python",
   "name": "python3"
  },
  "language_info": {
   "codemirror_mode": {
    "name": "ipython",
    "version": 3
   },
   "file_extension": ".py",
   "mimetype": "text/x-python",
   "name": "python",
   "nbconvert_exporter": "python",
   "pygments_lexer": "ipython3",
   "version": "3.7.3"
  }
 },
 "nbformat": 4,
 "nbformat_minor": 2
}
