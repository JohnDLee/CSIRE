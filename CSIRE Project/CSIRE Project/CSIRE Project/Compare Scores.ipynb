{
 "cells": [
  {
   "cell_type": "markdown",
   "metadata": {},
   "source": [
    "Observe Top Values For each Model"
   ]
  },
  {
   "cell_type": "code",
   "execution_count": 2,
   "metadata": {},
   "outputs": [],
   "source": [
    "import pandas as pd"
   ]
  },
  {
   "cell_type": "code",
   "execution_count": 3,
   "metadata": {},
   "outputs": [],
   "source": [
    "metrics_df = pd.read_csv(\"data\\metrics_df.csv\")"
   ]
  },
  {
   "cell_type": "code",
   "execution_count": 4,
   "metadata": {},
   "outputs": [
    {
     "data": {
      "text/html": [
       "<div>\n",
       "<style scoped>\n",
       "    .dataframe tbody tr th:only-of-type {\n",
       "        vertical-align: middle;\n",
       "    }\n",
       "\n",
       "    .dataframe tbody tr th {\n",
       "        vertical-align: top;\n",
       "    }\n",
       "\n",
       "    .dataframe thead th {\n",
       "        text-align: right;\n",
       "    }\n",
       "</style>\n",
       "<table border=\"1\" class=\"dataframe\">\n",
       "  <thead>\n",
       "    <tr style=\"text-align: right;\">\n",
       "      <th></th>\n",
       "      <th>Input</th>\n",
       "      <th>R Squared</th>\n",
       "      <th>Mean Absolute Error</th>\n",
       "      <th>Mean Squared Error</th>\n",
       "      <th>Model</th>\n",
       "    </tr>\n",
       "  </thead>\n",
       "  <tbody>\n",
       "    <tr>\n",
       "      <th>0</th>\n",
       "      <td>['specialty_index']</td>\n",
       "      <td>0.306783</td>\n",
       "      <td>0.125540</td>\n",
       "      <td>0.028265</td>\n",
       "      <td>Random Forest</td>\n",
       "    </tr>\n",
       "    <tr>\n",
       "      <th>1</th>\n",
       "      <td>['specialty_index', 'city_index']</td>\n",
       "      <td>0.244156</td>\n",
       "      <td>0.129133</td>\n",
       "      <td>0.030981</td>\n",
       "      <td>Random Forest</td>\n",
       "    </tr>\n",
       "    <tr>\n",
       "      <th>2</th>\n",
       "      <td>['total_claim_count', 'total_drug_cost', 'spec...</td>\n",
       "      <td>0.580601</td>\n",
       "      <td>0.091798</td>\n",
       "      <td>0.017154</td>\n",
       "      <td>Random Forest</td>\n",
       "    </tr>\n",
       "    <tr>\n",
       "      <th>3</th>\n",
       "      <td>['total_claim_count', 'total_drug_cost', 'spec...</td>\n",
       "      <td>0.600248</td>\n",
       "      <td>0.089746</td>\n",
       "      <td>0.016322</td>\n",
       "      <td>Random Forest</td>\n",
       "    </tr>\n",
       "    <tr>\n",
       "      <th>4</th>\n",
       "      <td>['total_claim_count', 'total_drug_cost', 'medi...</td>\n",
       "      <td>0.599931</td>\n",
       "      <td>0.089663</td>\n",
       "      <td>0.016374</td>\n",
       "      <td>Random Forest</td>\n",
       "    </tr>\n",
       "  </tbody>\n",
       "</table>\n",
       "</div>"
      ],
      "text/plain": [
       "                                               Input  R Squared  \\\n",
       "0                                ['specialty_index']   0.306783   \n",
       "1                  ['specialty_index', 'city_index']   0.244156   \n",
       "2  ['total_claim_count', 'total_drug_cost', 'spec...   0.580601   \n",
       "3  ['total_claim_count', 'total_drug_cost', 'spec...   0.600248   \n",
       "4  ['total_claim_count', 'total_drug_cost', 'medi...   0.599931   \n",
       "\n",
       "   Mean Absolute Error  Mean Squared Error          Model  \n",
       "0             0.125540            0.028265  Random Forest  \n",
       "1             0.129133            0.030981  Random Forest  \n",
       "2             0.091798            0.017154  Random Forest  \n",
       "3             0.089746            0.016322  Random Forest  \n",
       "4             0.089663            0.016374  Random Forest  "
      ]
     },
     "execution_count": 4,
     "metadata": {},
     "output_type": "execute_result"
    }
   ],
   "source": [
    "metrics_df.head()"
   ]
  },
  {
   "cell_type": "code",
   "execution_count": 5,
   "metadata": {},
   "outputs": [],
   "source": [
    "indices = []\n",
    "for features in range(len(metrics_df)):\n",
    "    if len(metrics_df.loc[features][0].split(\",\")) > 7:\n",
    "        indices.append(features)"
   ]
  },
  {
   "cell_type": "code",
   "execution_count": 6,
   "metadata": {},
   "outputs": [],
   "source": [
    "metrics_df.drop(indices, inplace = True)"
   ]
  },
  {
   "cell_type": "code",
   "execution_count": 7,
   "metadata": {},
   "outputs": [],
   "source": [
    "Top_Scores = metrics_df.sort_values(\"R Squared\").groupby(\"Model\").last()"
   ]
  },
  {
   "cell_type": "code",
   "execution_count": 14,
   "metadata": {
    "scrolled": true
   },
   "outputs": [
    {
     "data": {
      "text/html": [
       "<div>\n",
       "<style scoped>\n",
       "    .dataframe tbody tr th:only-of-type {\n",
       "        vertical-align: middle;\n",
       "    }\n",
       "\n",
       "    .dataframe tbody tr th {\n",
       "        vertical-align: top;\n",
       "    }\n",
       "\n",
       "    .dataframe thead th {\n",
       "        text-align: right;\n",
       "    }\n",
       "</style>\n",
       "<table border=\"1\" class=\"dataframe\">\n",
       "  <thead>\n",
       "    <tr style=\"text-align: right;\">\n",
       "      <th></th>\n",
       "      <th>Input</th>\n",
       "      <th>R Squared</th>\n",
       "      <th>Mean Absolute Error</th>\n",
       "      <th>Mean Squared Error</th>\n",
       "    </tr>\n",
       "    <tr>\n",
       "      <th>Model</th>\n",
       "      <th></th>\n",
       "      <th></th>\n",
       "      <th></th>\n",
       "      <th></th>\n",
       "    </tr>\n",
       "  </thead>\n",
       "  <tbody>\n",
       "    <tr>\n",
       "      <th>Random Forest</th>\n",
       "      <td>['specialty_description', 'nppes_provider_city...</td>\n",
       "      <td>0.684917</td>\n",
       "      <td>0.078650</td>\n",
       "      <td>0.012885</td>\n",
       "    </tr>\n",
       "    <tr>\n",
       "      <th>Neural Network</th>\n",
       "      <td>['specialty_description', 'nppes_provider_city...</td>\n",
       "      <td>0.622714</td>\n",
       "      <td>0.087876</td>\n",
       "      <td>0.015452</td>\n",
       "    </tr>\n",
       "    <tr>\n",
       "      <th>K Nearest</th>\n",
       "      <td>['specialty_description', 'nppes_provider_city...</td>\n",
       "      <td>0.552332</td>\n",
       "      <td>0.094006</td>\n",
       "      <td>0.018182</td>\n",
       "    </tr>\n",
       "    <tr>\n",
       "      <th>Lasso Linear</th>\n",
       "      <td>['specialty_description', 'nppes_provider_city...</td>\n",
       "      <td>0.259210</td>\n",
       "      <td>0.132228</td>\n",
       "      <td>0.030270</td>\n",
       "    </tr>\n",
       "  </tbody>\n",
       "</table>\n",
       "</div>"
      ],
      "text/plain": [
       "                                                            Input  R Squared  \\\n",
       "Model                                                                          \n",
       "Random Forest   ['specialty_description', 'nppes_provider_city...   0.684917   \n",
       "Neural Network  ['specialty_description', 'nppes_provider_city...   0.622714   \n",
       "K Nearest       ['specialty_description', 'nppes_provider_city...   0.552332   \n",
       "Lasso Linear    ['specialty_description', 'nppes_provider_city...   0.259210   \n",
       "\n",
       "                Mean Absolute Error  Mean Squared Error  \n",
       "Model                                                    \n",
       "Random Forest              0.078650            0.012885  \n",
       "Neural Network             0.087876            0.015452  \n",
       "K Nearest                  0.094006            0.018182  \n",
       "Lasso Linear               0.132228            0.030270  "
      ]
     },
     "execution_count": 14,
     "metadata": {},
     "output_type": "execute_result"
    }
   ],
   "source": [
    "Top_Scores.sort_values(\"R Squared\", ascending = False, inplace = True)\n",
    "Top_Scores.head()"
   ]
  },
  {
   "cell_type": "code",
   "execution_count": 11,
   "metadata": {},
   "outputs": [],
   "source": [
    "Top_Scores.to_csv(\"Top_Scores.csv\")"
   ]
  },
  {
   "cell_type": "code",
   "execution_count": 69,
   "metadata": {},
   "outputs": [
    {
     "data": {
      "image/png": "[encoded data removed]",
      "text/plain": [
       "<Figure size 864x432 with 3 Axes>"
      ]
     },
     "metadata": {
      "needs_background": "light"
     },
     "output_type": "display_data"
    }
   ],
   "source": [
    "import matplotlib.pyplot as plt\n",
    "import numpy as np\n",
    "\n",
    "# create plot\n",
    "fig, (ax1, ax2, ax3) = plt.subplots(1,3, figsize = (12,6))\n",
    "index = np.arange(4)\n",
    "bar_width = 0.5\n",
    "opacity = 0.8\n",
    "\n",
    "ax1.bar(index, Top_Scores[\"R Squared\"].tolist(), bar_width, color = \"red\")\n",
    "ax1.set_title('R Squared')\n",
    "ax1.set_xlabel('Model', fontsize = 15)\n",
    "ax1.set_ylabel('Scores', fontsize = 15)\n",
    "ax1.set_xticklabels([\"\",\"RF\", \"NN\", \"KN\", \"LL\"])\n",
    "\n",
    "\n",
    "ax2.bar(index, Top_Scores[\"Mean Absolute Error\"].tolist(), bar_width, color = \"blue\")\n",
    "ax2.set_title('Mean Absolute Error')\n",
    "ax2.set_xlabel('Model', fontsize = 15)\n",
    "\n",
    "ax2.set_xticklabels([\"\",\"RF\", \"NN\", \"KN\", \"LL\"])\n",
    "\n",
    "ax3.bar(index, Top_Scores[\"Mean Squared Error\"].tolist(), bar_width, color = \"green\")\n",
    "ax3.set_title('Mean Squared Error')\n",
    "ax3.set_xlabel('Model', fontsize = 15)\n",
    "\n",
    "ax3.set_xticklabels([\"\",\"RF\", \"NN\", \"KN\", \"LL\"])\n",
    "\n",
    "fig.tight_layout()"
   ]
  },
  {
   "cell_type": "code",
   "execution_count": 39,
   "metadata": {},
   "outputs": [
    {
     "data": {
      "text/plain": [
       "Model\n",
       "Random Forest     0.684917\n",
       "Neural Network    0.622714\n",
       "K Nearest         0.552332\n",
       "Lasso Linear      0.259210\n",
       "Name: R Squared, dtype: float64"
      ]
     },
     "execution_count": 39,
     "metadata": {},
     "output_type": "execute_result"
    }
   ],
   "source": [
    "Top_Scores[\"R Squared\"]"
   ]
  },
  {
   "cell_type": "code",
   "execution_count": null,
   "metadata": {},
   "outputs": [],
   "source": []
  },
  {
   "cell_type": "code",
   "execution_count": null,
   "metadata": {},
   "outputs": [],
   "source": []
  }
 ],
 "metadata": {
  "kernelspec": {
   "display_name": "Python 3",
   "language": "python",
   "name": "python3"
  },
  "language_info": {
   "codemirror_mode": {
    "name": "ipython",
    "version": 3
   },
   "file_extension": ".py",
   "mimetype": "text/x-python",
   "name": "python",
   "nbconvert_exporter": "python",
   "pygments_lexer": "ipython3",
   "version": "3.7.3"
  }
 },
 "nbformat": 4,
 "nbformat_minor": 2
}
