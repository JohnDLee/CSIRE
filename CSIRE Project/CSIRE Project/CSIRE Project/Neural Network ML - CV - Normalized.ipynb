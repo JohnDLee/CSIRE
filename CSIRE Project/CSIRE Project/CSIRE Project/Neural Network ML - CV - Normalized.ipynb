{
 "cells": [
  {
   "cell_type": "markdown",
   "metadata": {},
   "source": [
    "    Beginning the Regression Preparation"
   ]
  },
  {
   "cell_type": "code",
   "execution_count": 1,
   "metadata": {},
   "outputs": [],
   "source": [
    "\n",
    "import pandas as pd"
   ]
  },
  {
   "cell_type": "markdown",
   "metadata": {},
   "source": [
    "Building a Neural Network Model"
   ]
  },
  {
   "cell_type": "code",
   "execution_count": 2,
   "metadata": {},
   "outputs": [],
   "source": [
    "import numpy as np  \n",
    "import matplotlib.pyplot as plt  \n",
    "import seaborn as seabornInstance \n",
    "from sklearn.model_selection import train_test_split, cross_val_score\n",
    "from sklearn.neural_network import MLPRegressor as MLPR\n",
    "from sklearn import metrics\n",
    "from sklearn.decomposition import PCA\n",
    "from sklearn.preprocessing import StandardScaler\n",
    "from sklearn.model_selection import GridSearchCV as GSCV\n",
    "from sklearn.externals.joblib import dump,load\n",
    "%matplotlib inline"
   ]
  },
  {
   "cell_type": "markdown",
   "metadata": {},
   "source": [
    "Load ML dataset"
   ]
  },
  {
   "cell_type": "code",
   "execution_count": 3,
   "metadata": {},
   "outputs": [],
   "source": [
    "ML_dataset = pd.read_csv(\"data\\ML_dataset.csv\")"
   ]
  },
  {
   "cell_type": "code",
   "execution_count": 4,
   "metadata": {
    "scrolled": false
   },
   "outputs": [
    {
     "data": {
      "text/html": [
       "<div>\n",
       "<style scoped>\n",
       "    .dataframe tbody tr th:only-of-type {\n",
       "        vertical-align: middle;\n",
       "    }\n",
       "\n",
       "    .dataframe tbody tr th {\n",
       "        vertical-align: top;\n",
       "    }\n",
       "\n",
       "    .dataframe thead th {\n",
       "        text-align: right;\n",
       "    }\n",
       "</style>\n",
       "<table border=\"1\" class=\"dataframe\">\n",
       "  <thead>\n",
       "    <tr style=\"text-align: right;\">\n",
       "      <th></th>\n",
       "      <th>specialty_description</th>\n",
       "      <th>nppes_provider_city</th>\n",
       "      <th>total_claim_count</th>\n",
       "      <th>total_drug_cost</th>\n",
       "      <th>total_day_supply</th>\n",
       "      <th>total_30_day_fill_count</th>\n",
       "      <th>bene_count</th>\n",
       "      <th>brand_percent_spending</th>\n",
       "    </tr>\n",
       "  </thead>\n",
       "  <tbody>\n",
       "    <tr>\n",
       "      <th>0</th>\n",
       "      <td>39</td>\n",
       "      <td>9174</td>\n",
       "      <td>1946</td>\n",
       "      <td>140189.01</td>\n",
       "      <td>58605</td>\n",
       "      <td>2054.8</td>\n",
       "      <td>276.0</td>\n",
       "      <td>0.756466</td>\n",
       "    </tr>\n",
       "    <tr>\n",
       "      <th>1</th>\n",
       "      <td>108</td>\n",
       "      <td>9331</td>\n",
       "      <td>90</td>\n",
       "      <td>7561.21</td>\n",
       "      <td>2681</td>\n",
       "      <td>110.0</td>\n",
       "      <td>11.0</td>\n",
       "      <td>0.869739</td>\n",
       "    </tr>\n",
       "    <tr>\n",
       "      <th>2</th>\n",
       "      <td>32</td>\n",
       "      <td>8930</td>\n",
       "      <td>200</td>\n",
       "      <td>14549.85</td>\n",
       "      <td>7587</td>\n",
       "      <td>307.2</td>\n",
       "      <td>65.0</td>\n",
       "      <td>0.535970</td>\n",
       "    </tr>\n",
       "    <tr>\n",
       "      <th>3</th>\n",
       "      <td>70</td>\n",
       "      <td>3003</td>\n",
       "      <td>4981</td>\n",
       "      <td>258258.70</td>\n",
       "      <td>337309</td>\n",
       "      <td>11494.1</td>\n",
       "      <td>459.0</td>\n",
       "      <td>0.567573</td>\n",
       "    </tr>\n",
       "    <tr>\n",
       "      <th>4</th>\n",
       "      <td>88</td>\n",
       "      <td>7343</td>\n",
       "      <td>7165</td>\n",
       "      <td>379661.02</td>\n",
       "      <td>333309</td>\n",
       "      <td>11406.5</td>\n",
       "      <td>461.0</td>\n",
       "      <td>0.724479</td>\n",
       "    </tr>\n",
       "    <tr>\n",
       "      <th>5</th>\n",
       "      <td>108</td>\n",
       "      <td>8444</td>\n",
       "      <td>102</td>\n",
       "      <td>22124.43</td>\n",
       "      <td>4710</td>\n",
       "      <td>160.0</td>\n",
       "      <td>13.0</td>\n",
       "      <td>0.902614</td>\n",
       "    </tr>\n",
       "    <tr>\n",
       "      <th>6</th>\n",
       "      <td>70</td>\n",
       "      <td>8309</td>\n",
       "      <td>7054</td>\n",
       "      <td>428096.87</td>\n",
       "      <td>344274</td>\n",
       "      <td>11939.0</td>\n",
       "      <td>420.0</td>\n",
       "      <td>0.690766</td>\n",
       "    </tr>\n",
       "    <tr>\n",
       "      <th>7</th>\n",
       "      <td>88</td>\n",
       "      <td>8894</td>\n",
       "      <td>2573</td>\n",
       "      <td>266098.57</td>\n",
       "      <td>115667</td>\n",
       "      <td>3897.8</td>\n",
       "      <td>318.0</td>\n",
       "      <td>0.834835</td>\n",
       "    </tr>\n",
       "    <tr>\n",
       "      <th>8</th>\n",
       "      <td>91</td>\n",
       "      <td>9415</td>\n",
       "      <td>563</td>\n",
       "      <td>31341.84</td>\n",
       "      <td>14043</td>\n",
       "      <td>608.1</td>\n",
       "      <td>151.0</td>\n",
       "      <td>0.290058</td>\n",
       "    </tr>\n",
       "    <tr>\n",
       "      <th>9</th>\n",
       "      <td>70</td>\n",
       "      <td>9353</td>\n",
       "      <td>116</td>\n",
       "      <td>2605.35</td>\n",
       "      <td>9055</td>\n",
       "      <td>307.0</td>\n",
       "      <td>29.0</td>\n",
       "      <td>0.367052</td>\n",
       "    </tr>\n",
       "  </tbody>\n",
       "</table>\n",
       "</div>"
      ],
      "text/plain": [
       "   specialty_description  nppes_provider_city  total_claim_count  \\\n",
       "0                     39                 9174               1946   \n",
       "1                    108                 9331                 90   \n",
       "2                     32                 8930                200   \n",
       "3                     70                 3003               4981   \n",
       "4                     88                 7343               7165   \n",
       "5                    108                 8444                102   \n",
       "6                     70                 8309               7054   \n",
       "7                     88                 8894               2573   \n",
       "8                     91                 9415                563   \n",
       "9                     70                 9353                116   \n",
       "\n",
       "   total_drug_cost  total_day_supply  total_30_day_fill_count  bene_count  \\\n",
       "0        140189.01             58605                   2054.8       276.0   \n",
       "1          7561.21              2681                    110.0        11.0   \n",
       "2         14549.85              7587                    307.2        65.0   \n",
       "3        258258.70            337309                  11494.1       459.0   \n",
       "4        379661.02            333309                  11406.5       461.0   \n",
       "5         22124.43              4710                    160.0        13.0   \n",
       "6        428096.87            344274                  11939.0       420.0   \n",
       "7        266098.57            115667                   3897.8       318.0   \n",
       "8         31341.84             14043                    608.1       151.0   \n",
       "9          2605.35              9055                    307.0        29.0   \n",
       "\n",
       "   brand_percent_spending  \n",
       "0                0.756466  \n",
       "1                0.869739  \n",
       "2                0.535970  \n",
       "3                0.567573  \n",
       "4                0.724479  \n",
       "5                0.902614  \n",
       "6                0.690766  \n",
       "7                0.834835  \n",
       "8                0.290058  \n",
       "9                0.367052  "
      ]
     },
     "execution_count": 4,
     "metadata": {},
     "output_type": "execute_result"
    }
   ],
   "source": [
    "ML_dataset.head(10)"
   ]
  },
  {
   "cell_type": "markdown",
   "metadata": {},
   "source": [
    "Begin Model Building and Fitting\n",
    "\n",
    "Input and Output"
   ]
  },
  {
   "cell_type": "code",
   "execution_count": 5,
   "metadata": {
    "scrolled": false
   },
   "outputs": [
    {
     "name": "stdout",
     "output_type": "stream",
     "text": [
      "['specialty_description', 'nppes_provider_city', 'total_claim_count', 'total_drug_cost', 'total_day_supply', 'total_30_day_fill_count', 'bene_count']\n"
     ]
    }
   ],
   "source": [
    "Labels = ML_dataset.drop(\"brand_percent_spending\", axis=1).columns.tolist() #columns of drugs\n",
    "print(Labels)"
   ]
  },
  {
   "cell_type": "code",
   "execution_count": 6,
   "metadata": {
    "scrolled": true
   },
   "outputs": [],
   "source": [
    "X = ML_dataset[Labels] #input\n",
    "y = ML_dataset[\"brand_percent_spending\"] #labels\n"
   ]
  },
  {
   "cell_type": "markdown",
   "metadata": {},
   "source": [
    "PCA feature selection with scaling"
   ]
  },
  {
   "cell_type": "code",
   "execution_count": 7,
   "metadata": {},
   "outputs": [
    {
     "name": "stderr",
     "output_type": "stream",
     "text": [
      "C:\\Users\\John Lee\\Anaconda3\\lib\\site-packages\\sklearn\\preprocessing\\data.py:645: DataConversionWarning: Data with input dtype int64, float64 were all converted to float64 by StandardScaler.\n",
      "  return self.partial_fit(X, y)\n",
      "C:\\Users\\John Lee\\Anaconda3\\lib\\site-packages\\sklearn\\base.py:464: DataConversionWarning: Data with input dtype int64, float64 were all converted to float64 by StandardScaler.\n",
      "  return self.fit(X, **fit_params).transform(X)\n"
     ]
    }
   ],
   "source": [
    "X = StandardScaler().fit_transform(X) #NN performs better with normalized Data"
   ]
  },
  {
   "cell_type": "code",
   "execution_count": 8,
   "metadata": {
    "scrolled": true
   },
   "outputs": [],
   "source": [
    "\n",
    "PCA = PCA(n_components = 'mle')\n",
    "X =PCA.fit_transform(X)\n"
   ]
  },
  {
   "cell_type": "code",
   "execution_count": 9,
   "metadata": {
    "scrolled": true
   },
   "outputs": [
    {
     "name": "stdout",
     "output_type": "stream",
     "text": [
      "[0.56906204 0.15995163 0.13578093 0.07378827 0.05048682 0.01045913]\n"
     ]
    }
   ],
   "source": [
    "print(PCA.explained_variance_ratio_)  "
   ]
  },
  {
   "cell_type": "markdown",
   "metadata": {},
   "source": [
    "Split Data Into Test and Train"
   ]
  },
  {
   "cell_type": "code",
   "execution_count": 10,
   "metadata": {
    "scrolled": true
   },
   "outputs": [],
   "source": [
    "X_train, X_test, y_train, y_test = train_test_split(X, y, test_size=0.25)\n",
    "#Split into Test and Train"
   ]
  },
  {
   "cell_type": "markdown",
   "metadata": {},
   "source": [
    "Fit Data into Neural Network with GridSearch Cross Validation"
   ]
  },
  {
   "cell_type": "code",
   "execution_count": 11,
   "metadata": {},
   "outputs": [],
   "source": [
    "MLPR = MLPR( max_iter = 1000, early_stopping= True, verbose = True)"
   ]
  },
  {
   "cell_type": "code",
   "execution_count": 12,
   "metadata": {
    "scrolled": false
   },
   "outputs": [
    {
     "name": "stderr",
     "output_type": "stream",
     "text": [
      "C:\\Users\\John Lee\\Anaconda3\\lib\\site-packages\\sklearn\\model_selection\\_split.py:2053: FutureWarning: You should specify a value for 'cv' instead of relying on the default value. The default value will change from 3 to 5 in version 0.22.\n",
      "  warnings.warn(CV_WARNING, FutureWarning)\n",
      "[Parallel(n_jobs=-2)]: Using backend LokyBackend with 7 concurrent workers.\n"
     ]
    },
    {
     "name": "stdout",
     "output_type": "stream",
     "text": [
      "Fitting 3 folds for each of 54 candidates, totalling 162 fits\n"
     ]
    },
    {
     "name": "stderr",
     "output_type": "stream",
     "text": [
      "[Parallel(n_jobs=-2)]: Done  36 tasks      | elapsed: 17.2min\n",
      "[Parallel(n_jobs=-2)]: Done 162 out of 162 | elapsed: 84.0min finished\n"
     ]
    },
    {
     "name": "stdout",
     "output_type": "stream",
     "text": [
      "{'activation': 'relu', 'hidden_layer_sizes': 30, 'learning_rate': 'invscaling', 'solver': 'lbfgs'}\n"
     ]
    }
   ],
   "source": [
    "#fit data into NN\n",
    "\n",
    "parameters = {'hidden_layer_sizes': [5, 30], \n",
    "              'activation': ['logistic','tanh', \"relu\"],\n",
    "              'solver' : [\"lbfgs\",'sgd', 'adam'],\n",
    "              'learning_rate' : [\"constant\",\"invscaling\", \"adaptive\"]\n",
    "             } #activation of identity doesnt work\n",
    "\n",
    "scorer = metrics.make_scorer(metrics.r2_score)\n",
    "GSCV = GSCV(MLPR, param_grid =parameters, scoring = scorer, n_jobs = -2, verbose = 1)\n",
    "GSCV = GSCV.fit(X_train, y_train)\n",
    "dump(GSCV.best_estimator_, \"Model_Weights\\\\NNet\\\\NNet_best_model\") #save model params\n",
    "print(GSCV.best_params_)\n"
   ]
  },
  {
   "cell_type": "code",
   "execution_count": 13,
   "metadata": {
    "scrolled": true
   },
   "outputs": [
    {
     "data": {
      "text/plain": [
       "MLPRegressor(activation='relu', alpha=0.0001, batch_size='auto', beta_1=0.9,\n",
       "       beta_2=0.999, early_stopping=True, epsilon=1e-08,\n",
       "       hidden_layer_sizes=30, learning_rate='invscaling',\n",
       "       learning_rate_init=0.001, max_iter=1000, momentum=0.9,\n",
       "       n_iter_no_change=10, nesterovs_momentum=True, power_t=0.5,\n",
       "       random_state=None, shuffle=True, solver='lbfgs', tol=0.0001,\n",
       "       validation_fraction=0.1, verbose=True, warm_start=False)"
      ]
     },
     "execution_count": 13,
     "metadata": {},
     "output_type": "execute_result"
    }
   ],
   "source": [
    "MLPR = GSCV.best_estimator_\n",
    "MLPR.fit(X_train, y_train)"
   ]
  },
  {
   "cell_type": "markdown",
   "metadata": {},
   "source": [
    "Observe Results of CV"
   ]
  },
  {
   "cell_type": "code",
   "execution_count": 14,
   "metadata": {},
   "outputs": [
    {
     "name": "stderr",
     "output_type": "stream",
     "text": [
      "C:\\Users\\John Lee\\Anaconda3\\lib\\site-packages\\sklearn\\utils\\deprecation.py:125: FutureWarning: You are accessing a training score ('split0_train_score'), which will not be available by default any more in 0.21. If you need training scores, please set return_train_score=True\n",
      "  warnings.warn(*warn_args, **warn_kwargs)\n",
      "C:\\Users\\John Lee\\Anaconda3\\lib\\site-packages\\sklearn\\utils\\deprecation.py:125: FutureWarning: You are accessing a training score ('split1_train_score'), which will not be available by default any more in 0.21. If you need training scores, please set return_train_score=True\n",
      "  warnings.warn(*warn_args, **warn_kwargs)\n",
      "C:\\Users\\John Lee\\Anaconda3\\lib\\site-packages\\sklearn\\utils\\deprecation.py:125: FutureWarning: You are accessing a training score ('split2_train_score'), which will not be available by default any more in 0.21. If you need training scores, please set return_train_score=True\n",
      "  warnings.warn(*warn_args, **warn_kwargs)\n",
      "C:\\Users\\John Lee\\Anaconda3\\lib\\site-packages\\sklearn\\utils\\deprecation.py:125: FutureWarning: You are accessing a training score ('mean_train_score'), which will not be available by default any more in 0.21. If you need training scores, please set return_train_score=True\n",
      "  warnings.warn(*warn_args, **warn_kwargs)\n",
      "C:\\Users\\John Lee\\Anaconda3\\lib\\site-packages\\sklearn\\utils\\deprecation.py:125: FutureWarning: You are accessing a training score ('std_train_score'), which will not be available by default any more in 0.21. If you need training scores, please set return_train_score=True\n",
      "  warnings.warn(*warn_args, **warn_kwargs)\n"
     ]
    },
    {
     "data": {
      "text/html": [
       "<div>\n",
       "<style scoped>\n",
       "    .dataframe tbody tr th:only-of-type {\n",
       "        vertical-align: middle;\n",
       "    }\n",
       "\n",
       "    .dataframe tbody tr th {\n",
       "        vertical-align: top;\n",
       "    }\n",
       "\n",
       "    .dataframe thead th {\n",
       "        text-align: right;\n",
       "    }\n",
       "</style>\n",
       "<table border=\"1\" class=\"dataframe\">\n",
       "  <thead>\n",
       "    <tr style=\"text-align: right;\">\n",
       "      <th></th>\n",
       "      <th>mean_fit_time</th>\n",
       "      <th>std_fit_time</th>\n",
       "      <th>mean_score_time</th>\n",
       "      <th>std_score_time</th>\n",
       "      <th>param_activation</th>\n",
       "      <th>param_hidden_layer_sizes</th>\n",
       "      <th>param_learning_rate</th>\n",
       "      <th>param_solver</th>\n",
       "      <th>params</th>\n",
       "      <th>split0_test_score</th>\n",
       "      <th>split1_test_score</th>\n",
       "      <th>split2_test_score</th>\n",
       "      <th>mean_test_score</th>\n",
       "      <th>std_test_score</th>\n",
       "      <th>rank_test_score</th>\n",
       "      <th>split0_train_score</th>\n",
       "      <th>split1_train_score</th>\n",
       "      <th>split2_train_score</th>\n",
       "      <th>mean_train_score</th>\n",
       "      <th>std_train_score</th>\n",
       "    </tr>\n",
       "  </thead>\n",
       "  <tbody>\n",
       "    <tr>\n",
       "      <th>48</th>\n",
       "      <td>466.247077</td>\n",
       "      <td>2.719352</td>\n",
       "      <td>0.102061</td>\n",
       "      <td>0.004097</td>\n",
       "      <td>relu</td>\n",
       "      <td>30</td>\n",
       "      <td>invscaling</td>\n",
       "      <td>lbfgs</td>\n",
       "      <td>{'activation': 'relu', 'hidden_layer_sizes': 3...</td>\n",
       "      <td>0.613831</td>\n",
       "      <td>0.612068</td>\n",
       "      <td>0.613739</td>\n",
       "      <td>0.613213</td>\n",
       "      <td>0.000810</td>\n",
       "      <td>1</td>\n",
       "      <td>0.614860</td>\n",
       "      <td>0.613759</td>\n",
       "      <td>0.617887</td>\n",
       "      <td>0.615502</td>\n",
       "      <td>0.001745</td>\n",
       "    </tr>\n",
       "    <tr>\n",
       "      <th>51</th>\n",
       "      <td>448.458573</td>\n",
       "      <td>8.070301</td>\n",
       "      <td>0.093084</td>\n",
       "      <td>0.018399</td>\n",
       "      <td>relu</td>\n",
       "      <td>30</td>\n",
       "      <td>adaptive</td>\n",
       "      <td>lbfgs</td>\n",
       "      <td>{'activation': 'relu', 'hidden_layer_sizes': 3...</td>\n",
       "      <td>0.613233</td>\n",
       "      <td>0.612834</td>\n",
       "      <td>0.607705</td>\n",
       "      <td>0.611258</td>\n",
       "      <td>0.002517</td>\n",
       "      <td>2</td>\n",
       "      <td>0.615198</td>\n",
       "      <td>0.613227</td>\n",
       "      <td>0.613092</td>\n",
       "      <td>0.613839</td>\n",
       "      <td>0.000962</td>\n",
       "    </tr>\n",
       "    <tr>\n",
       "      <th>45</th>\n",
       "      <td>395.199053</td>\n",
       "      <td>1.311467</td>\n",
       "      <td>0.093750</td>\n",
       "      <td>0.004886</td>\n",
       "      <td>relu</td>\n",
       "      <td>30</td>\n",
       "      <td>constant</td>\n",
       "      <td>lbfgs</td>\n",
       "      <td>{'activation': 'relu', 'hidden_layer_sizes': 3...</td>\n",
       "      <td>0.609089</td>\n",
       "      <td>0.611090</td>\n",
       "      <td>0.610873</td>\n",
       "      <td>0.610351</td>\n",
       "      <td>0.000896</td>\n",
       "      <td>3</td>\n",
       "      <td>0.608737</td>\n",
       "      <td>0.611168</td>\n",
       "      <td>0.615866</td>\n",
       "      <td>0.611924</td>\n",
       "      <td>0.002959</td>\n",
       "    </tr>\n",
       "    <tr>\n",
       "      <th>53</th>\n",
       "      <td>54.695868</td>\n",
       "      <td>10.262188</td>\n",
       "      <td>0.149933</td>\n",
       "      <td>0.056735</td>\n",
       "      <td>relu</td>\n",
       "      <td>30</td>\n",
       "      <td>adaptive</td>\n",
       "      <td>adam</td>\n",
       "      <td>{'activation': 'relu', 'hidden_layer_sizes': 3...</td>\n",
       "      <td>0.613008</td>\n",
       "      <td>0.608450</td>\n",
       "      <td>0.603226</td>\n",
       "      <td>0.608228</td>\n",
       "      <td>0.003996</td>\n",
       "      <td>4</td>\n",
       "      <td>0.611622</td>\n",
       "      <td>0.609412</td>\n",
       "      <td>0.607570</td>\n",
       "      <td>0.609534</td>\n",
       "      <td>0.001656</td>\n",
       "    </tr>\n",
       "    <tr>\n",
       "      <th>50</th>\n",
       "      <td>64.462436</td>\n",
       "      <td>6.962468</td>\n",
       "      <td>0.143356</td>\n",
       "      <td>0.046934</td>\n",
       "      <td>relu</td>\n",
       "      <td>30</td>\n",
       "      <td>invscaling</td>\n",
       "      <td>adam</td>\n",
       "      <td>{'activation': 'relu', 'hidden_layer_sizes': 3...</td>\n",
       "      <td>0.610641</td>\n",
       "      <td>0.608147</td>\n",
       "      <td>0.605394</td>\n",
       "      <td>0.608061</td>\n",
       "      <td>0.002143</td>\n",
       "      <td>5</td>\n",
       "      <td>0.611659</td>\n",
       "      <td>0.608473</td>\n",
       "      <td>0.609542</td>\n",
       "      <td>0.609892</td>\n",
       "      <td>0.001324</td>\n",
       "    </tr>\n",
       "  </tbody>\n",
       "</table>\n",
       "</div>"
      ],
      "text/plain": [
       "    mean_fit_time  std_fit_time  mean_score_time  std_score_time  \\\n",
       "48     466.247077      2.719352         0.102061        0.004097   \n",
       "51     448.458573      8.070301         0.093084        0.018399   \n",
       "45     395.199053      1.311467         0.093750        0.004886   \n",
       "53      54.695868     10.262188         0.149933        0.056735   \n",
       "50      64.462436      6.962468         0.143356        0.046934   \n",
       "\n",
       "   param_activation param_hidden_layer_sizes param_learning_rate param_solver  \\\n",
       "48             relu                       30          invscaling        lbfgs   \n",
       "51             relu                       30            adaptive        lbfgs   \n",
       "45             relu                       30            constant        lbfgs   \n",
       "53             relu                       30            adaptive         adam   \n",
       "50             relu                       30          invscaling         adam   \n",
       "\n",
       "                                               params  split0_test_score  \\\n",
       "48  {'activation': 'relu', 'hidden_layer_sizes': 3...           0.613831   \n",
       "51  {'activation': 'relu', 'hidden_layer_sizes': 3...           0.613233   \n",
       "45  {'activation': 'relu', 'hidden_layer_sizes': 3...           0.609089   \n",
       "53  {'activation': 'relu', 'hidden_layer_sizes': 3...           0.613008   \n",
       "50  {'activation': 'relu', 'hidden_layer_sizes': 3...           0.610641   \n",
       "\n",
       "    split1_test_score  split2_test_score  mean_test_score  std_test_score  \\\n",
       "48           0.612068           0.613739         0.613213        0.000810   \n",
       "51           0.612834           0.607705         0.611258        0.002517   \n",
       "45           0.611090           0.610873         0.610351        0.000896   \n",
       "53           0.608450           0.603226         0.608228        0.003996   \n",
       "50           0.608147           0.605394         0.608061        0.002143   \n",
       "\n",
       "    rank_test_score  split0_train_score  split1_train_score  \\\n",
       "48                1            0.614860            0.613759   \n",
       "51                2            0.615198            0.613227   \n",
       "45                3            0.608737            0.611168   \n",
       "53                4            0.611622            0.609412   \n",
       "50                5            0.611659            0.608473   \n",
       "\n",
       "    split2_train_score  mean_train_score  std_train_score  \n",
       "48            0.617887          0.615502         0.001745  \n",
       "51            0.613092          0.613839         0.000962  \n",
       "45            0.615866          0.611924         0.002959  \n",
       "53            0.607570          0.609534         0.001656  \n",
       "50            0.609542          0.609892         0.001324  "
      ]
     },
     "execution_count": 14,
     "metadata": {},
     "output_type": "execute_result"
    }
   ],
   "source": [
    "CV = pd.DataFrame(GSCV.cv_results_)\n",
    "CV.sort_values(\"rank_test_score\", inplace = True)\n",
    "CV.head()"
   ]
  },
  {
   "cell_type": "markdown",
   "metadata": {},
   "source": [
    "Predictions"
   ]
  },
  {
   "cell_type": "code",
   "execution_count": 15,
   "metadata": {},
   "outputs": [],
   "source": [
    "y_pred = MLPR.predict(X_test)"
   ]
  },
  {
   "cell_type": "code",
   "execution_count": 16,
   "metadata": {},
   "outputs": [
    {
     "data": {
      "text/html": [
       "<div>\n",
       "<style scoped>\n",
       "    .dataframe tbody tr th:only-of-type {\n",
       "        vertical-align: middle;\n",
       "    }\n",
       "\n",
       "    .dataframe tbody tr th {\n",
       "        vertical-align: top;\n",
       "    }\n",
       "\n",
       "    .dataframe thead th {\n",
       "        text-align: right;\n",
       "    }\n",
       "</style>\n",
       "<table border=\"1\" class=\"dataframe\">\n",
       "  <thead>\n",
       "    <tr style=\"text-align: right;\">\n",
       "      <th></th>\n",
       "      <th>Actual</th>\n",
       "      <th>Predicted</th>\n",
       "    </tr>\n",
       "  </thead>\n",
       "  <tbody>\n",
       "    <tr>\n",
       "      <th>254387</th>\n",
       "      <td>0.620128</td>\n",
       "      <td>0.580988</td>\n",
       "    </tr>\n",
       "    <tr>\n",
       "      <th>200026</th>\n",
       "      <td>0.736848</td>\n",
       "      <td>0.628495</td>\n",
       "    </tr>\n",
       "    <tr>\n",
       "      <th>377963</th>\n",
       "      <td>0.687133</td>\n",
       "      <td>0.656705</td>\n",
       "    </tr>\n",
       "    <tr>\n",
       "      <th>282367</th>\n",
       "      <td>0.792874</td>\n",
       "      <td>0.941223</td>\n",
       "    </tr>\n",
       "    <tr>\n",
       "      <th>215299</th>\n",
       "      <td>0.643119</td>\n",
       "      <td>0.370793</td>\n",
       "    </tr>\n",
       "    <tr>\n",
       "      <th>95345</th>\n",
       "      <td>0.894675</td>\n",
       "      <td>0.843959</td>\n",
       "    </tr>\n",
       "    <tr>\n",
       "      <th>499773</th>\n",
       "      <td>0.803132</td>\n",
       "      <td>0.674889</td>\n",
       "    </tr>\n",
       "    <tr>\n",
       "      <th>211309</th>\n",
       "      <td>0.973238</td>\n",
       "      <td>0.918757</td>\n",
       "    </tr>\n",
       "    <tr>\n",
       "      <th>319596</th>\n",
       "      <td>0.654983</td>\n",
       "      <td>0.731357</td>\n",
       "    </tr>\n",
       "    <tr>\n",
       "      <th>119798</th>\n",
       "      <td>0.815681</td>\n",
       "      <td>0.767539</td>\n",
       "    </tr>\n",
       "    <tr>\n",
       "      <th>377462</th>\n",
       "      <td>0.679353</td>\n",
       "      <td>0.654508</td>\n",
       "    </tr>\n",
       "    <tr>\n",
       "      <th>133561</th>\n",
       "      <td>0.571457</td>\n",
       "      <td>0.617879</td>\n",
       "    </tr>\n",
       "    <tr>\n",
       "      <th>471090</th>\n",
       "      <td>0.925701</td>\n",
       "      <td>0.895150</td>\n",
       "    </tr>\n",
       "    <tr>\n",
       "      <th>167710</th>\n",
       "      <td>0.977477</td>\n",
       "      <td>1.006603</td>\n",
       "    </tr>\n",
       "    <tr>\n",
       "      <th>265929</th>\n",
       "      <td>0.776635</td>\n",
       "      <td>0.734100</td>\n",
       "    </tr>\n",
       "    <tr>\n",
       "      <th>482614</th>\n",
       "      <td>0.322309</td>\n",
       "      <td>0.439635</td>\n",
       "    </tr>\n",
       "    <tr>\n",
       "      <th>37100</th>\n",
       "      <td>0.666630</td>\n",
       "      <td>0.683967</td>\n",
       "    </tr>\n",
       "    <tr>\n",
       "      <th>402594</th>\n",
       "      <td>0.767900</td>\n",
       "      <td>0.734718</td>\n",
       "    </tr>\n",
       "    <tr>\n",
       "      <th>459519</th>\n",
       "      <td>0.665800</td>\n",
       "      <td>0.668101</td>\n",
       "    </tr>\n",
       "    <tr>\n",
       "      <th>177964</th>\n",
       "      <td>0.541424</td>\n",
       "      <td>0.510199</td>\n",
       "    </tr>\n",
       "    <tr>\n",
       "      <th>512351</th>\n",
       "      <td>0.732149</td>\n",
       "      <td>0.649410</td>\n",
       "    </tr>\n",
       "    <tr>\n",
       "      <th>165264</th>\n",
       "      <td>0.715417</td>\n",
       "      <td>0.610233</td>\n",
       "    </tr>\n",
       "    <tr>\n",
       "      <th>474303</th>\n",
       "      <td>0.609459</td>\n",
       "      <td>0.552104</td>\n",
       "    </tr>\n",
       "    <tr>\n",
       "      <th>475780</th>\n",
       "      <td>0.955405</td>\n",
       "      <td>0.887693</td>\n",
       "    </tr>\n",
       "    <tr>\n",
       "      <th>80689</th>\n",
       "      <td>0.812688</td>\n",
       "      <td>0.758120</td>\n",
       "    </tr>\n",
       "  </tbody>\n",
       "</table>\n",
       "</div>"
      ],
      "text/plain": [
       "          Actual  Predicted\n",
       "254387  0.620128   0.580988\n",
       "200026  0.736848   0.628495\n",
       "377963  0.687133   0.656705\n",
       "282367  0.792874   0.941223\n",
       "215299  0.643119   0.370793\n",
       "95345   0.894675   0.843959\n",
       "499773  0.803132   0.674889\n",
       "211309  0.973238   0.918757\n",
       "319596  0.654983   0.731357\n",
       "119798  0.815681   0.767539\n",
       "377462  0.679353   0.654508\n",
       "133561  0.571457   0.617879\n",
       "471090  0.925701   0.895150\n",
       "167710  0.977477   1.006603\n",
       "265929  0.776635   0.734100\n",
       "482614  0.322309   0.439635\n",
       "37100   0.666630   0.683967\n",
       "402594  0.767900   0.734718\n",
       "459519  0.665800   0.668101\n",
       "177964  0.541424   0.510199\n",
       "512351  0.732149   0.649410\n",
       "165264  0.715417   0.610233\n",
       "474303  0.609459   0.552104\n",
       "475780  0.955405   0.887693\n",
       "80689   0.812688   0.758120"
      ]
     },
     "execution_count": 16,
     "metadata": {},
     "output_type": "execute_result"
    }
   ],
   "source": [
    "comparison_df = pd.DataFrame({'Actual': y_test, 'Predicted': y_pred})\n",
    "comparison_df.head(25)\n"
   ]
  },
  {
   "cell_type": "code",
   "execution_count": 17,
   "metadata": {},
   "outputs": [
    {
     "data": {
      "image/png": "[encoded data removed]",
      "text/plain": [
       "<Figure size 720x576 with 1 Axes>"
      ]
     },
     "metadata": {
      "needs_background": "light"
     },
     "output_type": "display_data"
    }
   ],
   "source": [
    "comparison_df.iloc[0:25].plot(kind='bar',figsize=(10,8))\n",
    "plt.grid(which='major', linestyle='-', linewidth='0.5', color='green')\n",
    "plt.grid(which='minor', linestyle=':', linewidth='0.5', color='black')\n",
    "plt.show()"
   ]
  },
  {
   "cell_type": "code",
   "execution_count": 18,
   "metadata": {
    "scrolled": true
   },
   "outputs": [
    {
     "data": {
      "text/plain": [
       "Text(0, 0.5, 'Predicted')"
      ]
     },
     "execution_count": 18,
     "metadata": {},
     "output_type": "execute_result"
    },
    {
     "data": {
      "image/png": "[encoded data removed]",
      "text/plain": [
       "<Figure size 432x288 with 1 Axes>"
      ]
     },
     "metadata": {
      "needs_background": "light"
     },
     "output_type": "display_data"
    }
   ],
   "source": [
    "plt.scatter(comparison_df.iloc[0:1000][\"Actual\"], comparison_df.iloc[0:1000][\"Predicted\"], alpha = .25)\n",
    "plt.xlabel(\"Actual\", fontsize = 16) #scatter plot of specialty combined data\n",
    "plt.ylabel(\"Predicted\",  fontsize = 16)"
   ]
  },
  {
   "cell_type": "markdown",
   "metadata": {},
   "source": [
    "Statistics"
   ]
  },
  {
   "cell_type": "code",
   "execution_count": 19,
   "metadata": {
    "scrolled": false
   },
   "outputs": [
    {
     "name": "stdout",
     "output_type": "stream",
     "text": [
      "r Squared: 0.6151588554492917\n"
     ]
    }
   ],
   "source": [
    "print(\"r Squared:\", metrics.r2_score(y_test, y_pred))\n",
    "rsq = metrics.r2_score(y_test, y_pred)"
   ]
  },
  {
   "cell_type": "code",
   "execution_count": 20,
   "metadata": {
    "scrolled": true
   },
   "outputs": [
    {
     "name": "stdout",
     "output_type": "stream",
     "text": [
      "Mean Absolute Error: 0.08879377356514451\n",
      "Mean Squared Error: 0.015720309235316893\n"
     ]
    }
   ],
   "source": [
    "print('Mean Absolute Error:', metrics.mean_absolute_error(y_test, y_pred))\n",
    "mae = metrics.mean_absolute_error(y_test, y_pred)\n",
    "print('Mean Squared Error:', metrics.mean_squared_error(y_test, y_pred))\n",
    "mse = metrics.mean_squared_error(y_test, y_pred)"
   ]
  },
  {
   "cell_type": "code",
   "execution_count": 21,
   "metadata": {},
   "outputs": [],
   "source": [
    "metrics_df = pd.read_csv(\"data\\metrics_df.csv\")\n",
    "metrics_df = metrics_df.append({\"Input\": Labels, \"R Squared\": rsq, \"Mean Absolute Error\": mae, \"Mean Squared Error\": mse, \"Model\": \"Neural Network\"}, ignore_index=True)"
   ]
  },
  {
   "cell_type": "code",
   "execution_count": 22,
   "metadata": {},
   "outputs": [
    {
     "data": {
      "text/html": [
       "<div>\n",
       "<style scoped>\n",
       "    .dataframe tbody tr th:only-of-type {\n",
       "        vertical-align: middle;\n",
       "    }\n",
       "\n",
       "    .dataframe tbody tr th {\n",
       "        vertical-align: top;\n",
       "    }\n",
       "\n",
       "    .dataframe thead th {\n",
       "        text-align: right;\n",
       "    }\n",
       "</style>\n",
       "<table border=\"1\" class=\"dataframe\">\n",
       "  <thead>\n",
       "    <tr style=\"text-align: right;\">\n",
       "      <th></th>\n",
       "      <th>Input</th>\n",
       "      <th>R Squared</th>\n",
       "      <th>Mean Absolute Error</th>\n",
       "      <th>Mean Squared Error</th>\n",
       "      <th>Model</th>\n",
       "    </tr>\n",
       "  </thead>\n",
       "  <tbody>\n",
       "    <tr>\n",
       "      <th>33</th>\n",
       "      <td>['specialty_description', 'nppes_provider_city...</td>\n",
       "      <td>0.256006</td>\n",
       "      <td>0.132379</td>\n",
       "      <td>0.030284</td>\n",
       "      <td>Lasso Linear</td>\n",
       "    </tr>\n",
       "    <tr>\n",
       "      <th>34</th>\n",
       "      <td>['specialty_description', 'nppes_provider_city...</td>\n",
       "      <td>0.225165</td>\n",
       "      <td>0.136907</td>\n",
       "      <td>0.031615</td>\n",
       "      <td>Lasso Linear</td>\n",
       "    </tr>\n",
       "    <tr>\n",
       "      <th>35</th>\n",
       "      <td>['specialty_description', 'nppes_provider_city...</td>\n",
       "      <td>0.582957</td>\n",
       "      <td>0.091493</td>\n",
       "      <td>0.016986</td>\n",
       "      <td>Random Forest</td>\n",
       "    </tr>\n",
       "    <tr>\n",
       "      <th>36</th>\n",
       "      <td>['specialty_description', 'nppes_provider_city...</td>\n",
       "      <td>0.570916</td>\n",
       "      <td>0.095623</td>\n",
       "      <td>0.017558</td>\n",
       "      <td>Neural Network</td>\n",
       "    </tr>\n",
       "    <tr>\n",
       "      <th>37</th>\n",
       "      <td>[specialty_description, nppes_provider_city, t...</td>\n",
       "      <td>0.615159</td>\n",
       "      <td>0.088794</td>\n",
       "      <td>0.015720</td>\n",
       "      <td>Neural Network</td>\n",
       "    </tr>\n",
       "  </tbody>\n",
       "</table>\n",
       "</div>"
      ],
      "text/plain": [
       "                                                Input  R Squared  \\\n",
       "33  ['specialty_description', 'nppes_provider_city...   0.256006   \n",
       "34  ['specialty_description', 'nppes_provider_city...   0.225165   \n",
       "35  ['specialty_description', 'nppes_provider_city...   0.582957   \n",
       "36  ['specialty_description', 'nppes_provider_city...   0.570916   \n",
       "37  [specialty_description, nppes_provider_city, t...   0.615159   \n",
       "\n",
       "    Mean Absolute Error  Mean Squared Error           Model  \n",
       "33             0.132379            0.030284    Lasso Linear  \n",
       "34             0.136907            0.031615    Lasso Linear  \n",
       "35             0.091493            0.016986   Random Forest  \n",
       "36             0.095623            0.017558  Neural Network  \n",
       "37             0.088794            0.015720  Neural Network  "
      ]
     },
     "execution_count": 22,
     "metadata": {},
     "output_type": "execute_result"
    }
   ],
   "source": [
    "metrics_df.tail()"
   ]
  },
  {
   "cell_type": "code",
   "execution_count": 23,
   "metadata": {},
   "outputs": [],
   "source": [
    "metrics_df.to_csv(\"data\\metrics_df.csv\", index = False)"
   ]
  },
  {
   "cell_type": "markdown",
   "metadata": {},
   "source": [
    "Save the Trained Model"
   ]
  },
  {
   "cell_type": "code",
   "execution_count": 24,
   "metadata": {},
   "outputs": [
    {
     "data": {
      "text/plain": [
       "['Model_Weights\\\\NN\\\\NN_trainedModel']"
      ]
     },
     "execution_count": 24,
     "metadata": {},
     "output_type": "execute_result"
    }
   ],
   "source": [
    "dump(MLPR, \"Model_Weights\\\\NNet\\\\NNet_trainedModel\") "
   ]
  },
  {
   "cell_type": "code",
   "execution_count": null,
   "metadata": {},
   "outputs": [],
   "source": []
  }
 ],
 "metadata": {
  "kernelspec": {
   "display_name": "Python 3",
   "language": "python",
   "name": "python3"
  },
  "language_info": {
   "codemirror_mode": {
    "name": "ipython",
    "version": 3
   },
   "file_extension": ".py",
   "mimetype": "text/x-python",
   "name": "python",
   "nbconvert_exporter": "python",
   "pygments_lexer": "ipython3",
   "version": "3.7.3"
  }
 },
 "nbformat": 4,
 "nbformat_minor": 2
}
