{
 "cells": [
  {
   "cell_type": "markdown",
   "metadata": {},
   "source": [
    "Extracts Data from the Precriber Summary Information and Detailed Data of the Medicare Part D dataset."
   ]
  },
  {
   "cell_type": "code",
   "execution_count": 1,
   "metadata": {},
   "outputs": [],
   "source": [
    "import pandas as pd\n",
    "import requests\n",
    "import numpy as np"
   ]
  },
  {
   "cell_type": "code",
   "execution_count": 2,
   "metadata": {},
   "outputs": [],
   "source": [
    "pd.set_option(\"display.max_columns\", 150) #increase column options"
   ]
  },
  {
   "cell_type": "markdown",
   "metadata": {},
   "source": [
    "Manipulation of Detailed Data (Database 1) \n",
    "Years: 2017"
   ]
  },
  {
   "cell_type": "markdown",
   "metadata": {},
   "source": [
    "REQUIRES the Detailed Drug Dataset and Provider Summary Dataset to be downloaded from https://www.cms.gov/Research-Statistics-Data-and-Systems/Statistics-Trends-and-Reports/Medicare-Provider-Charge-Data/PartD2017.html\n"
   ]
  },
  {
   "cell_type": "code",
   "execution_count": 5,
   "metadata": {
    "scrolled": true
   },
   "outputs": [],
   "source": [
    " dd_df = pd.read_csv(\"data\\Detailed_Drugs.txt\", sep = '\\t', low_memory = False)"
   ]
  },
  {
   "cell_type": "code",
   "execution_count": 6,
   "metadata": {},
   "outputs": [
    {
     "data": {
      "text/html": [
       "<div>\n",
       "<style scoped>\n",
       "    .dataframe tbody tr th:only-of-type {\n",
       "        vertical-align: middle;\n",
       "    }\n",
       "\n",
       "    .dataframe tbody tr th {\n",
       "        vertical-align: top;\n",
       "    }\n",
       "\n",
       "    .dataframe thead th {\n",
       "        text-align: right;\n",
       "    }\n",
       "</style>\n",
       "<table border=\"1\" class=\"dataframe\">\n",
       "  <thead>\n",
       "    <tr style=\"text-align: right;\">\n",
       "      <th></th>\n",
       "      <th>npi</th>\n",
       "      <th>nppes_provider_last_org_name</th>\n",
       "      <th>nppes_provider_first_name</th>\n",
       "      <th>nppes_provider_city</th>\n",
       "      <th>nppes_provider_state</th>\n",
       "      <th>specialty_description</th>\n",
       "      <th>description_flag</th>\n",
       "      <th>drug_name</th>\n",
       "      <th>generic_name</th>\n",
       "      <th>bene_count</th>\n",
       "      <th>total_claim_count</th>\n",
       "      <th>total_30_day_fill_count</th>\n",
       "      <th>total_day_supply</th>\n",
       "      <th>total_drug_cost</th>\n",
       "      <th>bene_count_ge65</th>\n",
       "      <th>bene_count_ge65_suppress_flag</th>\n",
       "      <th>total_claim_count_ge65</th>\n",
       "      <th>ge65_suppress_flag</th>\n",
       "      <th>total_30_day_fill_count_ge65</th>\n",
       "      <th>total_day_supply_ge65</th>\n",
       "      <th>total_drug_cost_ge65</th>\n",
       "    </tr>\n",
       "  </thead>\n",
       "  <tbody>\n",
       "    <tr>\n",
       "      <th>0</th>\n",
       "      <td>1003000126</td>\n",
       "      <td>ENKESHAFI</td>\n",
       "      <td>ARDALAN</td>\n",
       "      <td>CUMBERLAND</td>\n",
       "      <td>MD</td>\n",
       "      <td>Internal Medicine</td>\n",
       "      <td>S</td>\n",
       "      <td>AMLODIPINE BESYLATE</td>\n",
       "      <td>AMLODIPINE BESYLATE</td>\n",
       "      <td>NaN</td>\n",
       "      <td>13</td>\n",
       "      <td>13.0</td>\n",
       "      <td>390</td>\n",
       "      <td>59.21</td>\n",
       "      <td>NaN</td>\n",
       "      <td>*</td>\n",
       "      <td>NaN</td>\n",
       "      <td>*</td>\n",
       "      <td>NaN</td>\n",
       "      <td>NaN</td>\n",
       "      <td>NaN</td>\n",
       "    </tr>\n",
       "    <tr>\n",
       "      <th>1</th>\n",
       "      <td>1003000126</td>\n",
       "      <td>ENKESHAFI</td>\n",
       "      <td>ARDALAN</td>\n",
       "      <td>CUMBERLAND</td>\n",
       "      <td>MD</td>\n",
       "      <td>Internal Medicine</td>\n",
       "      <td>S</td>\n",
       "      <td>ATORVASTATIN CALCIUM</td>\n",
       "      <td>ATORVASTATIN CALCIUM</td>\n",
       "      <td>11.0</td>\n",
       "      <td>27</td>\n",
       "      <td>27.0</td>\n",
       "      <td>765</td>\n",
       "      <td>259.48</td>\n",
       "      <td>NaN</td>\n",
       "      <td>#</td>\n",
       "      <td>NaN</td>\n",
       "      <td>#</td>\n",
       "      <td>NaN</td>\n",
       "      <td>NaN</td>\n",
       "      <td>NaN</td>\n",
       "    </tr>\n",
       "    <tr>\n",
       "      <th>2</th>\n",
       "      <td>1003000126</td>\n",
       "      <td>ENKESHAFI</td>\n",
       "      <td>ARDALAN</td>\n",
       "      <td>CUMBERLAND</td>\n",
       "      <td>MD</td>\n",
       "      <td>Internal Medicine</td>\n",
       "      <td>S</td>\n",
       "      <td>CEPHALEXIN</td>\n",
       "      <td>CEPHALEXIN</td>\n",
       "      <td>17.0</td>\n",
       "      <td>17</td>\n",
       "      <td>17.0</td>\n",
       "      <td>123</td>\n",
       "      <td>98.99</td>\n",
       "      <td>NaN</td>\n",
       "      <td>#</td>\n",
       "      <td>NaN</td>\n",
       "      <td>#</td>\n",
       "      <td>NaN</td>\n",
       "      <td>NaN</td>\n",
       "      <td>NaN</td>\n",
       "    </tr>\n",
       "    <tr>\n",
       "      <th>3</th>\n",
       "      <td>1003000126</td>\n",
       "      <td>ENKESHAFI</td>\n",
       "      <td>ARDALAN</td>\n",
       "      <td>CUMBERLAND</td>\n",
       "      <td>MD</td>\n",
       "      <td>Internal Medicine</td>\n",
       "      <td>S</td>\n",
       "      <td>CIPROFLOXACIN HCL</td>\n",
       "      <td>CIPROFLOXACIN HCL</td>\n",
       "      <td>11.0</td>\n",
       "      <td>12</td>\n",
       "      <td>12.0</td>\n",
       "      <td>95</td>\n",
       "      <td>120.43</td>\n",
       "      <td>NaN</td>\n",
       "      <td>*</td>\n",
       "      <td>NaN</td>\n",
       "      <td>*</td>\n",
       "      <td>NaN</td>\n",
       "      <td>NaN</td>\n",
       "      <td>NaN</td>\n",
       "    </tr>\n",
       "    <tr>\n",
       "      <th>4</th>\n",
       "      <td>1003000126</td>\n",
       "      <td>ENKESHAFI</td>\n",
       "      <td>ARDALAN</td>\n",
       "      <td>CUMBERLAND</td>\n",
       "      <td>MD</td>\n",
       "      <td>Internal Medicine</td>\n",
       "      <td>S</td>\n",
       "      <td>DOXYCYCLINE HYCLATE</td>\n",
       "      <td>DOXYCYCLINE HYCLATE</td>\n",
       "      <td>17.0</td>\n",
       "      <td>17</td>\n",
       "      <td>17.0</td>\n",
       "      <td>105</td>\n",
       "      <td>300.76</td>\n",
       "      <td>NaN</td>\n",
       "      <td>#</td>\n",
       "      <td>NaN</td>\n",
       "      <td>#</td>\n",
       "      <td>NaN</td>\n",
       "      <td>NaN</td>\n",
       "      <td>NaN</td>\n",
       "    </tr>\n",
       "    <tr>\n",
       "      <th>5</th>\n",
       "      <td>1003000126</td>\n",
       "      <td>ENKESHAFI</td>\n",
       "      <td>ARDALAN</td>\n",
       "      <td>CUMBERLAND</td>\n",
       "      <td>MD</td>\n",
       "      <td>Internal Medicine</td>\n",
       "      <td>S</td>\n",
       "      <td>FUROSEMIDE</td>\n",
       "      <td>FUROSEMIDE</td>\n",
       "      <td>14.0</td>\n",
       "      <td>22</td>\n",
       "      <td>22.0</td>\n",
       "      <td>595</td>\n",
       "      <td>97.33</td>\n",
       "      <td>14.0</td>\n",
       "      <td>NaN</td>\n",
       "      <td>22.0</td>\n",
       "      <td>NaN</td>\n",
       "      <td>22.0</td>\n",
       "      <td>595.0</td>\n",
       "      <td>97.33</td>\n",
       "    </tr>\n",
       "    <tr>\n",
       "      <th>6</th>\n",
       "      <td>1003000126</td>\n",
       "      <td>ENKESHAFI</td>\n",
       "      <td>ARDALAN</td>\n",
       "      <td>CUMBERLAND</td>\n",
       "      <td>MD</td>\n",
       "      <td>Internal Medicine</td>\n",
       "      <td>S</td>\n",
       "      <td>HYDRALAZINE HCL</td>\n",
       "      <td>HYDRALAZINE HCL</td>\n",
       "      <td>NaN</td>\n",
       "      <td>13</td>\n",
       "      <td>13.0</td>\n",
       "      <td>380</td>\n",
       "      <td>169.44</td>\n",
       "      <td>NaN</td>\n",
       "      <td>*</td>\n",
       "      <td>NaN</td>\n",
       "      <td>*</td>\n",
       "      <td>NaN</td>\n",
       "      <td>NaN</td>\n",
       "      <td>NaN</td>\n",
       "    </tr>\n",
       "    <tr>\n",
       "      <th>7</th>\n",
       "      <td>1003000126</td>\n",
       "      <td>ENKESHAFI</td>\n",
       "      <td>ARDALAN</td>\n",
       "      <td>CUMBERLAND</td>\n",
       "      <td>MD</td>\n",
       "      <td>Internal Medicine</td>\n",
       "      <td>S</td>\n",
       "      <td>ISOSORBIDE MONONITRATE ER</td>\n",
       "      <td>ISOSORBIDE MONONITRATE</td>\n",
       "      <td>28.0</td>\n",
       "      <td>52</td>\n",
       "      <td>54.0</td>\n",
       "      <td>1530</td>\n",
       "      <td>580.63</td>\n",
       "      <td>NaN</td>\n",
       "      <td>#</td>\n",
       "      <td>38.0</td>\n",
       "      <td>NaN</td>\n",
       "      <td>40.0</td>\n",
       "      <td>1110.0</td>\n",
       "      <td>440.27</td>\n",
       "    </tr>\n",
       "    <tr>\n",
       "      <th>8</th>\n",
       "      <td>1003000126</td>\n",
       "      <td>ENKESHAFI</td>\n",
       "      <td>ARDALAN</td>\n",
       "      <td>CUMBERLAND</td>\n",
       "      <td>MD</td>\n",
       "      <td>Internal Medicine</td>\n",
       "      <td>S</td>\n",
       "      <td>LEVOFLOXACIN</td>\n",
       "      <td>LEVOFLOXACIN</td>\n",
       "      <td>35.0</td>\n",
       "      <td>36</td>\n",
       "      <td>36.0</td>\n",
       "      <td>262</td>\n",
       "      <td>347.70</td>\n",
       "      <td>NaN</td>\n",
       "      <td>#</td>\n",
       "      <td>NaN</td>\n",
       "      <td>#</td>\n",
       "      <td>NaN</td>\n",
       "      <td>NaN</td>\n",
       "      <td>NaN</td>\n",
       "    </tr>\n",
       "    <tr>\n",
       "      <th>9</th>\n",
       "      <td>1003000126</td>\n",
       "      <td>ENKESHAFI</td>\n",
       "      <td>ARDALAN</td>\n",
       "      <td>CUMBERLAND</td>\n",
       "      <td>MD</td>\n",
       "      <td>Internal Medicine</td>\n",
       "      <td>S</td>\n",
       "      <td>LISINOPRIL</td>\n",
       "      <td>LISINOPRIL</td>\n",
       "      <td>11.0</td>\n",
       "      <td>15</td>\n",
       "      <td>15.0</td>\n",
       "      <td>450</td>\n",
       "      <td>43.88</td>\n",
       "      <td>NaN</td>\n",
       "      <td>#</td>\n",
       "      <td>NaN</td>\n",
       "      <td>#</td>\n",
       "      <td>NaN</td>\n",
       "      <td>NaN</td>\n",
       "      <td>NaN</td>\n",
       "    </tr>\n",
       "  </tbody>\n",
       "</table>\n",
       "</div>"
      ],
      "text/plain": [
       "          npi nppes_provider_last_org_name nppes_provider_first_name  \\\n",
       "0  1003000126                    ENKESHAFI                   ARDALAN   \n",
       "1  1003000126                    ENKESHAFI                   ARDALAN   \n",
       "2  1003000126                    ENKESHAFI                   ARDALAN   \n",
       "3  1003000126                    ENKESHAFI                   ARDALAN   \n",
       "4  1003000126                    ENKESHAFI                   ARDALAN   \n",
       "5  1003000126                    ENKESHAFI                   ARDALAN   \n",
       "6  1003000126                    ENKESHAFI                   ARDALAN   \n",
       "7  1003000126                    ENKESHAFI                   ARDALAN   \n",
       "8  1003000126                    ENKESHAFI                   ARDALAN   \n",
       "9  1003000126                    ENKESHAFI                   ARDALAN   \n",
       "\n",
       "  nppes_provider_city nppes_provider_state specialty_description  \\\n",
       "0          CUMBERLAND                   MD     Internal Medicine   \n",
       "1          CUMBERLAND                   MD     Internal Medicine   \n",
       "2          CUMBERLAND                   MD     Internal Medicine   \n",
       "3          CUMBERLAND                   MD     Internal Medicine   \n",
       "4          CUMBERLAND                   MD     Internal Medicine   \n",
       "5          CUMBERLAND                   MD     Internal Medicine   \n",
       "6          CUMBERLAND                   MD     Internal Medicine   \n",
       "7          CUMBERLAND                   MD     Internal Medicine   \n",
       "8          CUMBERLAND                   MD     Internal Medicine   \n",
       "9          CUMBERLAND                   MD     Internal Medicine   \n",
       "\n",
       "  description_flag                  drug_name            generic_name  \\\n",
       "0                S        AMLODIPINE BESYLATE     AMLODIPINE BESYLATE   \n",
       "1                S       ATORVASTATIN CALCIUM    ATORVASTATIN CALCIUM   \n",
       "2                S                 CEPHALEXIN              CEPHALEXIN   \n",
       "3                S          CIPROFLOXACIN HCL       CIPROFLOXACIN HCL   \n",
       "4                S        DOXYCYCLINE HYCLATE     DOXYCYCLINE HYCLATE   \n",
       "5                S                 FUROSEMIDE              FUROSEMIDE   \n",
       "6                S            HYDRALAZINE HCL         HYDRALAZINE HCL   \n",
       "7                S  ISOSORBIDE MONONITRATE ER  ISOSORBIDE MONONITRATE   \n",
       "8                S               LEVOFLOXACIN            LEVOFLOXACIN   \n",
       "9                S                 LISINOPRIL              LISINOPRIL   \n",
       "\n",
       "   bene_count  total_claim_count  total_30_day_fill_count  total_day_supply  \\\n",
       "0         NaN                 13                     13.0               390   \n",
       "1        11.0                 27                     27.0               765   \n",
       "2        17.0                 17                     17.0               123   \n",
       "3        11.0                 12                     12.0                95   \n",
       "4        17.0                 17                     17.0               105   \n",
       "5        14.0                 22                     22.0               595   \n",
       "6         NaN                 13                     13.0               380   \n",
       "7        28.0                 52                     54.0              1530   \n",
       "8        35.0                 36                     36.0               262   \n",
       "9        11.0                 15                     15.0               450   \n",
       "\n",
       "   total_drug_cost  bene_count_ge65 bene_count_ge65_suppress_flag  \\\n",
       "0            59.21              NaN                             *   \n",
       "1           259.48              NaN                             #   \n",
       "2            98.99              NaN                             #   \n",
       "3           120.43              NaN                             *   \n",
       "4           300.76              NaN                             #   \n",
       "5            97.33             14.0                           NaN   \n",
       "6           169.44              NaN                             *   \n",
       "7           580.63              NaN                             #   \n",
       "8           347.70              NaN                             #   \n",
       "9            43.88              NaN                             #   \n",
       "\n",
       "   total_claim_count_ge65 ge65_suppress_flag  total_30_day_fill_count_ge65  \\\n",
       "0                     NaN                  *                           NaN   \n",
       "1                     NaN                  #                           NaN   \n",
       "2                     NaN                  #                           NaN   \n",
       "3                     NaN                  *                           NaN   \n",
       "4                     NaN                  #                           NaN   \n",
       "5                    22.0                NaN                          22.0   \n",
       "6                     NaN                  *                           NaN   \n",
       "7                    38.0                NaN                          40.0   \n",
       "8                     NaN                  #                           NaN   \n",
       "9                     NaN                  #                           NaN   \n",
       "\n",
       "   total_day_supply_ge65  total_drug_cost_ge65  \n",
       "0                    NaN                   NaN  \n",
       "1                    NaN                   NaN  \n",
       "2                    NaN                   NaN  \n",
       "3                    NaN                   NaN  \n",
       "4                    NaN                   NaN  \n",
       "5                  595.0                 97.33  \n",
       "6                    NaN                   NaN  \n",
       "7                 1110.0                440.27  \n",
       "8                    NaN                   NaN  \n",
       "9                    NaN                   NaN  "
      ]
     },
     "execution_count": 6,
     "metadata": {},
     "output_type": "execute_result"
    }
   ],
   "source": [
    "dd_df.head(10)"
   ]
  },
  {
   "cell_type": "code",
   "execution_count": 7,
   "metadata": {},
   "outputs": [
    {
     "data": {
      "text/html": [
       "<div>\n",
       "<style scoped>\n",
       "    .dataframe tbody tr th:only-of-type {\n",
       "        vertical-align: middle;\n",
       "    }\n",
       "\n",
       "    .dataframe tbody tr th {\n",
       "        vertical-align: top;\n",
       "    }\n",
       "\n",
       "    .dataframe thead th {\n",
       "        text-align: right;\n",
       "    }\n",
       "</style>\n",
       "<table border=\"1\" class=\"dataframe\">\n",
       "  <thead>\n",
       "    <tr style=\"text-align: right;\">\n",
       "      <th></th>\n",
       "      <th>npi</th>\n",
       "      <th>nppes_provider_last_org_name</th>\n",
       "      <th>nppes_provider_first_name</th>\n",
       "      <th>nppes_provider_city</th>\n",
       "      <th>nppes_provider_state</th>\n",
       "      <th>specialty_description</th>\n",
       "      <th>description_flag</th>\n",
       "      <th>drug_name</th>\n",
       "      <th>generic_name</th>\n",
       "      <th>bene_count</th>\n",
       "      <th>total_claim_count</th>\n",
       "      <th>total_30_day_fill_count</th>\n",
       "      <th>total_day_supply</th>\n",
       "      <th>total_drug_cost</th>\n",
       "      <th>bene_count_ge65</th>\n",
       "      <th>bene_count_ge65_suppress_flag</th>\n",
       "      <th>total_claim_count_ge65</th>\n",
       "      <th>ge65_suppress_flag</th>\n",
       "      <th>total_30_day_fill_count_ge65</th>\n",
       "      <th>total_day_supply_ge65</th>\n",
       "      <th>total_drug_cost_ge65</th>\n",
       "    </tr>\n",
       "  </thead>\n",
       "  <tbody>\n",
       "    <tr>\n",
       "      <th>0</th>\n",
       "      <td>1003000126</td>\n",
       "      <td>ENKESHAFI</td>\n",
       "      <td>ARDALAN</td>\n",
       "      <td>CUMBERLAND</td>\n",
       "      <td>MD</td>\n",
       "      <td>Internal Medicine</td>\n",
       "      <td>S</td>\n",
       "      <td>AMLODIPINE BESYLATE</td>\n",
       "      <td>AMLODIPINE BESYLATE</td>\n",
       "      <td>NaN</td>\n",
       "      <td>13</td>\n",
       "      <td>13.0</td>\n",
       "      <td>390</td>\n",
       "      <td>59.21</td>\n",
       "      <td>NaN</td>\n",
       "      <td>*</td>\n",
       "      <td>NaN</td>\n",
       "      <td>*</td>\n",
       "      <td>NaN</td>\n",
       "      <td>NaN</td>\n",
       "      <td>NaN</td>\n",
       "    </tr>\n",
       "    <tr>\n",
       "      <th>1</th>\n",
       "      <td>1003000126</td>\n",
       "      <td>ENKESHAFI</td>\n",
       "      <td>ARDALAN</td>\n",
       "      <td>CUMBERLAND</td>\n",
       "      <td>MD</td>\n",
       "      <td>Internal Medicine</td>\n",
       "      <td>S</td>\n",
       "      <td>ATORVASTATIN CALCIUM</td>\n",
       "      <td>ATORVASTATIN CALCIUM</td>\n",
       "      <td>11.0</td>\n",
       "      <td>27</td>\n",
       "      <td>27.0</td>\n",
       "      <td>765</td>\n",
       "      <td>259.48</td>\n",
       "      <td>NaN</td>\n",
       "      <td>#</td>\n",
       "      <td>NaN</td>\n",
       "      <td>#</td>\n",
       "      <td>NaN</td>\n",
       "      <td>NaN</td>\n",
       "      <td>NaN</td>\n",
       "    </tr>\n",
       "    <tr>\n",
       "      <th>2</th>\n",
       "      <td>1003000126</td>\n",
       "      <td>ENKESHAFI</td>\n",
       "      <td>ARDALAN</td>\n",
       "      <td>CUMBERLAND</td>\n",
       "      <td>MD</td>\n",
       "      <td>Internal Medicine</td>\n",
       "      <td>S</td>\n",
       "      <td>CEPHALEXIN</td>\n",
       "      <td>CEPHALEXIN</td>\n",
       "      <td>17.0</td>\n",
       "      <td>17</td>\n",
       "      <td>17.0</td>\n",
       "      <td>123</td>\n",
       "      <td>98.99</td>\n",
       "      <td>NaN</td>\n",
       "      <td>#</td>\n",
       "      <td>NaN</td>\n",
       "      <td>#</td>\n",
       "      <td>NaN</td>\n",
       "      <td>NaN</td>\n",
       "      <td>NaN</td>\n",
       "    </tr>\n",
       "    <tr>\n",
       "      <th>3</th>\n",
       "      <td>1003000126</td>\n",
       "      <td>ENKESHAFI</td>\n",
       "      <td>ARDALAN</td>\n",
       "      <td>CUMBERLAND</td>\n",
       "      <td>MD</td>\n",
       "      <td>Internal Medicine</td>\n",
       "      <td>S</td>\n",
       "      <td>CIPROFLOXACIN HCL</td>\n",
       "      <td>CIPROFLOXACIN HCL</td>\n",
       "      <td>11.0</td>\n",
       "      <td>12</td>\n",
       "      <td>12.0</td>\n",
       "      <td>95</td>\n",
       "      <td>120.43</td>\n",
       "      <td>NaN</td>\n",
       "      <td>*</td>\n",
       "      <td>NaN</td>\n",
       "      <td>*</td>\n",
       "      <td>NaN</td>\n",
       "      <td>NaN</td>\n",
       "      <td>NaN</td>\n",
       "    </tr>\n",
       "    <tr>\n",
       "      <th>4</th>\n",
       "      <td>1003000126</td>\n",
       "      <td>ENKESHAFI</td>\n",
       "      <td>ARDALAN</td>\n",
       "      <td>CUMBERLAND</td>\n",
       "      <td>MD</td>\n",
       "      <td>Internal Medicine</td>\n",
       "      <td>S</td>\n",
       "      <td>DOXYCYCLINE HYCLATE</td>\n",
       "      <td>DOXYCYCLINE HYCLATE</td>\n",
       "      <td>17.0</td>\n",
       "      <td>17</td>\n",
       "      <td>17.0</td>\n",
       "      <td>105</td>\n",
       "      <td>300.76</td>\n",
       "      <td>NaN</td>\n",
       "      <td>#</td>\n",
       "      <td>NaN</td>\n",
       "      <td>#</td>\n",
       "      <td>NaN</td>\n",
       "      <td>NaN</td>\n",
       "      <td>NaN</td>\n",
       "    </tr>\n",
       "    <tr>\n",
       "      <th>5</th>\n",
       "      <td>1003000126</td>\n",
       "      <td>ENKESHAFI</td>\n",
       "      <td>ARDALAN</td>\n",
       "      <td>CUMBERLAND</td>\n",
       "      <td>MD</td>\n",
       "      <td>Internal Medicine</td>\n",
       "      <td>S</td>\n",
       "      <td>FUROSEMIDE</td>\n",
       "      <td>FUROSEMIDE</td>\n",
       "      <td>14.0</td>\n",
       "      <td>22</td>\n",
       "      <td>22.0</td>\n",
       "      <td>595</td>\n",
       "      <td>97.33</td>\n",
       "      <td>14.0</td>\n",
       "      <td>NaN</td>\n",
       "      <td>22.0</td>\n",
       "      <td>NaN</td>\n",
       "      <td>22.0</td>\n",
       "      <td>595.0</td>\n",
       "      <td>97.33</td>\n",
       "    </tr>\n",
       "    <tr>\n",
       "      <th>6</th>\n",
       "      <td>1003000126</td>\n",
       "      <td>ENKESHAFI</td>\n",
       "      <td>ARDALAN</td>\n",
       "      <td>CUMBERLAND</td>\n",
       "      <td>MD</td>\n",
       "      <td>Internal Medicine</td>\n",
       "      <td>S</td>\n",
       "      <td>HYDRALAZINE HCL</td>\n",
       "      <td>HYDRALAZINE HCL</td>\n",
       "      <td>NaN</td>\n",
       "      <td>13</td>\n",
       "      <td>13.0</td>\n",
       "      <td>380</td>\n",
       "      <td>169.44</td>\n",
       "      <td>NaN</td>\n",
       "      <td>*</td>\n",
       "      <td>NaN</td>\n",
       "      <td>*</td>\n",
       "      <td>NaN</td>\n",
       "      <td>NaN</td>\n",
       "      <td>NaN</td>\n",
       "    </tr>\n",
       "    <tr>\n",
       "      <th>7</th>\n",
       "      <td>1003000126</td>\n",
       "      <td>ENKESHAFI</td>\n",
       "      <td>ARDALAN</td>\n",
       "      <td>CUMBERLAND</td>\n",
       "      <td>MD</td>\n",
       "      <td>Internal Medicine</td>\n",
       "      <td>S</td>\n",
       "      <td>ISOSORBIDE MONONITRATE ER</td>\n",
       "      <td>ISOSORBIDE MONONITRATE</td>\n",
       "      <td>28.0</td>\n",
       "      <td>52</td>\n",
       "      <td>54.0</td>\n",
       "      <td>1530</td>\n",
       "      <td>580.63</td>\n",
       "      <td>NaN</td>\n",
       "      <td>#</td>\n",
       "      <td>38.0</td>\n",
       "      <td>NaN</td>\n",
       "      <td>40.0</td>\n",
       "      <td>1110.0</td>\n",
       "      <td>440.27</td>\n",
       "    </tr>\n",
       "    <tr>\n",
       "      <th>8</th>\n",
       "      <td>1003000126</td>\n",
       "      <td>ENKESHAFI</td>\n",
       "      <td>ARDALAN</td>\n",
       "      <td>CUMBERLAND</td>\n",
       "      <td>MD</td>\n",
       "      <td>Internal Medicine</td>\n",
       "      <td>S</td>\n",
       "      <td>LEVOFLOXACIN</td>\n",
       "      <td>LEVOFLOXACIN</td>\n",
       "      <td>35.0</td>\n",
       "      <td>36</td>\n",
       "      <td>36.0</td>\n",
       "      <td>262</td>\n",
       "      <td>347.70</td>\n",
       "      <td>NaN</td>\n",
       "      <td>#</td>\n",
       "      <td>NaN</td>\n",
       "      <td>#</td>\n",
       "      <td>NaN</td>\n",
       "      <td>NaN</td>\n",
       "      <td>NaN</td>\n",
       "    </tr>\n",
       "    <tr>\n",
       "      <th>9</th>\n",
       "      <td>1003000126</td>\n",
       "      <td>ENKESHAFI</td>\n",
       "      <td>ARDALAN</td>\n",
       "      <td>CUMBERLAND</td>\n",
       "      <td>MD</td>\n",
       "      <td>Internal Medicine</td>\n",
       "      <td>S</td>\n",
       "      <td>LISINOPRIL</td>\n",
       "      <td>LISINOPRIL</td>\n",
       "      <td>11.0</td>\n",
       "      <td>15</td>\n",
       "      <td>15.0</td>\n",
       "      <td>450</td>\n",
       "      <td>43.88</td>\n",
       "      <td>NaN</td>\n",
       "      <td>#</td>\n",
       "      <td>NaN</td>\n",
       "      <td>#</td>\n",
       "      <td>NaN</td>\n",
       "      <td>NaN</td>\n",
       "      <td>NaN</td>\n",
       "    </tr>\n",
       "  </tbody>\n",
       "</table>\n",
       "</div>"
      ],
      "text/plain": [
       "          npi nppes_provider_last_org_name nppes_provider_first_name  \\\n",
       "0  1003000126                    ENKESHAFI                   ARDALAN   \n",
       "1  1003000126                    ENKESHAFI                   ARDALAN   \n",
       "2  1003000126                    ENKESHAFI                   ARDALAN   \n",
       "3  1003000126                    ENKESHAFI                   ARDALAN   \n",
       "4  1003000126                    ENKESHAFI                   ARDALAN   \n",
       "5  1003000126                    ENKESHAFI                   ARDALAN   \n",
       "6  1003000126                    ENKESHAFI                   ARDALAN   \n",
       "7  1003000126                    ENKESHAFI                   ARDALAN   \n",
       "8  1003000126                    ENKESHAFI                   ARDALAN   \n",
       "9  1003000126                    ENKESHAFI                   ARDALAN   \n",
       "\n",
       "  nppes_provider_city nppes_provider_state specialty_description  \\\n",
       "0          CUMBERLAND                   MD     Internal Medicine   \n",
       "1          CUMBERLAND                   MD     Internal Medicine   \n",
       "2          CUMBERLAND                   MD     Internal Medicine   \n",
       "3          CUMBERLAND                   MD     Internal Medicine   \n",
       "4          CUMBERLAND                   MD     Internal Medicine   \n",
       "5          CUMBERLAND                   MD     Internal Medicine   \n",
       "6          CUMBERLAND                   MD     Internal Medicine   \n",
       "7          CUMBERLAND                   MD     Internal Medicine   \n",
       "8          CUMBERLAND                   MD     Internal Medicine   \n",
       "9          CUMBERLAND                   MD     Internal Medicine   \n",
       "\n",
       "  description_flag                  drug_name            generic_name  \\\n",
       "0                S        AMLODIPINE BESYLATE     AMLODIPINE BESYLATE   \n",
       "1                S       ATORVASTATIN CALCIUM    ATORVASTATIN CALCIUM   \n",
       "2                S                 CEPHALEXIN              CEPHALEXIN   \n",
       "3                S          CIPROFLOXACIN HCL       CIPROFLOXACIN HCL   \n",
       "4                S        DOXYCYCLINE HYCLATE     DOXYCYCLINE HYCLATE   \n",
       "5                S                 FUROSEMIDE              FUROSEMIDE   \n",
       "6                S            HYDRALAZINE HCL         HYDRALAZINE HCL   \n",
       "7                S  ISOSORBIDE MONONITRATE ER  ISOSORBIDE MONONITRATE   \n",
       "8                S               LEVOFLOXACIN            LEVOFLOXACIN   \n",
       "9                S                 LISINOPRIL              LISINOPRIL   \n",
       "\n",
       "   bene_count  total_claim_count  total_30_day_fill_count  total_day_supply  \\\n",
       "0         NaN                 13                     13.0               390   \n",
       "1        11.0                 27                     27.0               765   \n",
       "2        17.0                 17                     17.0               123   \n",
       "3        11.0                 12                     12.0                95   \n",
       "4        17.0                 17                     17.0               105   \n",
       "5        14.0                 22                     22.0               595   \n",
       "6         NaN                 13                     13.0               380   \n",
       "7        28.0                 52                     54.0              1530   \n",
       "8        35.0                 36                     36.0               262   \n",
       "9        11.0                 15                     15.0               450   \n",
       "\n",
       "   total_drug_cost  bene_count_ge65 bene_count_ge65_suppress_flag  \\\n",
       "0            59.21              NaN                             *   \n",
       "1           259.48              NaN                             #   \n",
       "2            98.99              NaN                             #   \n",
       "3           120.43              NaN                             *   \n",
       "4           300.76              NaN                             #   \n",
       "5            97.33             14.0                           NaN   \n",
       "6           169.44              NaN                             *   \n",
       "7           580.63              NaN                             #   \n",
       "8           347.70              NaN                             #   \n",
       "9            43.88              NaN                             #   \n",
       "\n",
       "   total_claim_count_ge65 ge65_suppress_flag  total_30_day_fill_count_ge65  \\\n",
       "0                     NaN                  *                           NaN   \n",
       "1                     NaN                  #                           NaN   \n",
       "2                     NaN                  #                           NaN   \n",
       "3                     NaN                  *                           NaN   \n",
       "4                     NaN                  #                           NaN   \n",
       "5                    22.0                NaN                          22.0   \n",
       "6                     NaN                  *                           NaN   \n",
       "7                    38.0                NaN                          40.0   \n",
       "8                     NaN                  #                           NaN   \n",
       "9                     NaN                  #                           NaN   \n",
       "\n",
       "   total_day_supply_ge65  total_drug_cost_ge65  \n",
       "0                    NaN                   NaN  \n",
       "1                    NaN                   NaN  \n",
       "2                    NaN                   NaN  \n",
       "3                    NaN                   NaN  \n",
       "4                    NaN                   NaN  \n",
       "5                  595.0                 97.33  \n",
       "6                    NaN                   NaN  \n",
       "7                 1110.0                440.27  \n",
       "8                    NaN                   NaN  \n",
       "9                    NaN                   NaN  "
      ]
     },
     "execution_count": 7,
     "metadata": {},
     "output_type": "execute_result"
    }
   ],
   "source": [
    "dd_df = dd_df.sort_values(by=[\"npi\",\"specialty_description\",\"drug_name\"])#sort\n",
    "dd_df.head(10)\n"
   ]
  },
  {
   "cell_type": "code",
   "execution_count": 10,
   "metadata": {},
   "outputs": [
    {
     "ename": "ValueError",
     "evalue": "Unstacked DataFrame is too big, causing int32 overflow",
     "output_type": "error",
     "traceback": [
      "\u001b[1;31m---------------------------------------------------------------------------\u001b[0m",
      "\u001b[1;31mValueError\u001b[0m                                Traceback (most recent call last)",
      "\u001b[1;32m<ipython-input-10-7c811360cd75>\u001b[0m in \u001b[0;36m<module>\u001b[1;34m\u001b[0m\n\u001b[0;32m      1\u001b[0m \u001b[1;33m\u001b[0m\u001b[0m\n\u001b[0;32m      2\u001b[0m npi_drug_cross_df = pd.crosstab(dd_df[\"npi\"], dd_df[\"drug_name\"] , values=dd_df[\"total_claim_count\"], \n\u001b[1;32m----> 3\u001b[1;33m                                   aggfunc=np.sum) #uses drug_name which is the brand names\n\u001b[0m\u001b[0;32m      4\u001b[0m \u001b[0mnum_cells\u001b[0m \u001b[1;33m=\u001b[0m \u001b[0mnp\u001b[0m\u001b[1;33m.\u001b[0m\u001b[0mmultiply\u001b[0m\u001b[1;33m(\u001b[0m\u001b[0mnum_rows\u001b[0m\u001b[1;33m,\u001b[0m \u001b[0mnum_columns\u001b[0m\u001b[1;33m,\u001b[0m \u001b[0mdtype\u001b[0m\u001b[1;33m=\u001b[0m\u001b[0mnp\u001b[0m\u001b[1;33m.\u001b[0m\u001b[0mint64\u001b[0m\u001b[1;33m)\u001b[0m\u001b[1;33m\u001b[0m\u001b[1;33m\u001b[0m\u001b[0m\n\u001b[0;32m      5\u001b[0m \u001b[0mnpi_drug_cross_df\u001b[0m \u001b[1;33m=\u001b[0m \u001b[0mnpi_drug_cross_df\u001b[0m\u001b[1;33m.\u001b[0m\u001b[0mfillna\u001b[0m\u001b[1;33m(\u001b[0m\u001b[1;36m0\u001b[0m\u001b[1;33m)\u001b[0m\u001b[1;33m\u001b[0m\u001b[1;33m\u001b[0m\u001b[0m\n",
      "\u001b[1;32m~\\Anaconda3\\lib\\site-packages\\pandas\\core\\reshape\\pivot.py\u001b[0m in \u001b[0;36mcrosstab\u001b[1;34m(index, columns, values, rownames, colnames, aggfunc, margins, margins_name, dropna, normalize)\u001b[0m\n\u001b[0;32m    519\u001b[0m     table = df.pivot_table('__dummy__', index=rownames, columns=colnames,\n\u001b[0;32m    520\u001b[0m                            \u001b[0mmargins\u001b[0m\u001b[1;33m=\u001b[0m\u001b[0mmargins\u001b[0m\u001b[1;33m,\u001b[0m \u001b[0mmargins_name\u001b[0m\u001b[1;33m=\u001b[0m\u001b[0mmargins_name\u001b[0m\u001b[1;33m,\u001b[0m\u001b[1;33m\u001b[0m\u001b[1;33m\u001b[0m\u001b[0m\n\u001b[1;32m--> 521\u001b[1;33m                            dropna=dropna, **kwargs)\n\u001b[0m\u001b[0;32m    522\u001b[0m \u001b[1;33m\u001b[0m\u001b[0m\n\u001b[0;32m    523\u001b[0m     \u001b[1;31m# Post-process\u001b[0m\u001b[1;33m\u001b[0m\u001b[1;33m\u001b[0m\u001b[1;33m\u001b[0m\u001b[0m\n",
      "\u001b[1;32m~\\Anaconda3\\lib\\site-packages\\pandas\\core\\frame.py\u001b[0m in \u001b[0;36mpivot_table\u001b[1;34m(self, values, index, columns, aggfunc, fill_value, margins, dropna, margins_name)\u001b[0m\n\u001b[0;32m   5757\u001b[0m                            \u001b[0maggfunc\u001b[0m\u001b[1;33m=\u001b[0m\u001b[0maggfunc\u001b[0m\u001b[1;33m,\u001b[0m \u001b[0mfill_value\u001b[0m\u001b[1;33m=\u001b[0m\u001b[0mfill_value\u001b[0m\u001b[1;33m,\u001b[0m\u001b[1;33m\u001b[0m\u001b[1;33m\u001b[0m\u001b[0m\n\u001b[0;32m   5758\u001b[0m                            \u001b[0mmargins\u001b[0m\u001b[1;33m=\u001b[0m\u001b[0mmargins\u001b[0m\u001b[1;33m,\u001b[0m \u001b[0mdropna\u001b[0m\u001b[1;33m=\u001b[0m\u001b[0mdropna\u001b[0m\u001b[1;33m,\u001b[0m\u001b[1;33m\u001b[0m\u001b[1;33m\u001b[0m\u001b[0m\n\u001b[1;32m-> 5759\u001b[1;33m                            margins_name=margins_name)\n\u001b[0m\u001b[0;32m   5760\u001b[0m \u001b[1;33m\u001b[0m\u001b[0m\n\u001b[0;32m   5761\u001b[0m     \u001b[1;32mdef\u001b[0m \u001b[0mstack\u001b[0m\u001b[1;33m(\u001b[0m\u001b[0mself\u001b[0m\u001b[1;33m,\u001b[0m \u001b[0mlevel\u001b[0m\u001b[1;33m=\u001b[0m\u001b[1;33m-\u001b[0m\u001b[1;36m1\u001b[0m\u001b[1;33m,\u001b[0m \u001b[0mdropna\u001b[0m\u001b[1;33m=\u001b[0m\u001b[1;32mTrue\u001b[0m\u001b[1;33m)\u001b[0m\u001b[1;33m:\u001b[0m\u001b[1;33m\u001b[0m\u001b[1;33m\u001b[0m\u001b[0m\n",
      "\u001b[1;32m~\\Anaconda3\\lib\\site-packages\\pandas\\core\\reshape\\pivot.py\u001b[0m in \u001b[0;36mpivot_table\u001b[1;34m(data, values, index, columns, aggfunc, fill_value, margins, dropna, margins_name)\u001b[0m\n\u001b[0;32m    107\u001b[0m             \u001b[1;32melse\u001b[0m\u001b[1;33m:\u001b[0m\u001b[1;33m\u001b[0m\u001b[1;33m\u001b[0m\u001b[0m\n\u001b[0;32m    108\u001b[0m                 \u001b[0mto_unstack\u001b[0m\u001b[1;33m.\u001b[0m\u001b[0mappend\u001b[0m\u001b[1;33m(\u001b[0m\u001b[0mname\u001b[0m\u001b[1;33m)\u001b[0m\u001b[1;33m\u001b[0m\u001b[1;33m\u001b[0m\u001b[0m\n\u001b[1;32m--> 109\u001b[1;33m         \u001b[0mtable\u001b[0m \u001b[1;33m=\u001b[0m \u001b[0magged\u001b[0m\u001b[1;33m.\u001b[0m\u001b[0munstack\u001b[0m\u001b[1;33m(\u001b[0m\u001b[0mto_unstack\u001b[0m\u001b[1;33m)\u001b[0m\u001b[1;33m\u001b[0m\u001b[1;33m\u001b[0m\u001b[0m\n\u001b[0m\u001b[0;32m    110\u001b[0m \u001b[1;33m\u001b[0m\u001b[0m\n\u001b[0;32m    111\u001b[0m     \u001b[1;32mif\u001b[0m \u001b[1;32mnot\u001b[0m \u001b[0mdropna\u001b[0m\u001b[1;33m:\u001b[0m\u001b[1;33m\u001b[0m\u001b[1;33m\u001b[0m\u001b[0m\n",
      "\u001b[1;32m~\\Anaconda3\\lib\\site-packages\\pandas\\core\\frame.py\u001b[0m in \u001b[0;36munstack\u001b[1;34m(self, level, fill_value)\u001b[0m\n\u001b[0;32m   5990\u001b[0m         \"\"\"\n\u001b[0;32m   5991\u001b[0m         \u001b[1;32mfrom\u001b[0m \u001b[0mpandas\u001b[0m\u001b[1;33m.\u001b[0m\u001b[0mcore\u001b[0m\u001b[1;33m.\u001b[0m\u001b[0mreshape\u001b[0m\u001b[1;33m.\u001b[0m\u001b[0mreshape\u001b[0m \u001b[1;32mimport\u001b[0m \u001b[0munstack\u001b[0m\u001b[1;33m\u001b[0m\u001b[1;33m\u001b[0m\u001b[0m\n\u001b[1;32m-> 5992\u001b[1;33m         \u001b[1;32mreturn\u001b[0m \u001b[0munstack\u001b[0m\u001b[1;33m(\u001b[0m\u001b[0mself\u001b[0m\u001b[1;33m,\u001b[0m \u001b[0mlevel\u001b[0m\u001b[1;33m,\u001b[0m \u001b[0mfill_value\u001b[0m\u001b[1;33m)\u001b[0m\u001b[1;33m\u001b[0m\u001b[1;33m\u001b[0m\u001b[0m\n\u001b[0m\u001b[0;32m   5993\u001b[0m \u001b[1;33m\u001b[0m\u001b[0m\n\u001b[0;32m   5994\u001b[0m     _shared_docs['melt'] = (\"\"\"\n",
      "\u001b[1;32m~\\Anaconda3\\lib\\site-packages\\pandas\\core\\reshape\\reshape.py\u001b[0m in \u001b[0;36munstack\u001b[1;34m(obj, level, fill_value)\u001b[0m\n\u001b[0;32m    386\u001b[0m     \u001b[1;32mif\u001b[0m \u001b[0misinstance\u001b[0m\u001b[1;33m(\u001b[0m\u001b[0mobj\u001b[0m\u001b[1;33m,\u001b[0m \u001b[0mDataFrame\u001b[0m\u001b[1;33m)\u001b[0m\u001b[1;33m:\u001b[0m\u001b[1;33m\u001b[0m\u001b[1;33m\u001b[0m\u001b[0m\n\u001b[0;32m    387\u001b[0m         \u001b[1;32mif\u001b[0m \u001b[0misinstance\u001b[0m\u001b[1;33m(\u001b[0m\u001b[0mobj\u001b[0m\u001b[1;33m.\u001b[0m\u001b[0mindex\u001b[0m\u001b[1;33m,\u001b[0m \u001b[0mMultiIndex\u001b[0m\u001b[1;33m)\u001b[0m\u001b[1;33m:\u001b[0m\u001b[1;33m\u001b[0m\u001b[1;33m\u001b[0m\u001b[0m\n\u001b[1;32m--> 388\u001b[1;33m             \u001b[1;32mreturn\u001b[0m \u001b[0m_unstack_frame\u001b[0m\u001b[1;33m(\u001b[0m\u001b[0mobj\u001b[0m\u001b[1;33m,\u001b[0m \u001b[0mlevel\u001b[0m\u001b[1;33m,\u001b[0m \u001b[0mfill_value\u001b[0m\u001b[1;33m=\u001b[0m\u001b[0mfill_value\u001b[0m\u001b[1;33m)\u001b[0m\u001b[1;33m\u001b[0m\u001b[1;33m\u001b[0m\u001b[0m\n\u001b[0m\u001b[0;32m    389\u001b[0m         \u001b[1;32melse\u001b[0m\u001b[1;33m:\u001b[0m\u001b[1;33m\u001b[0m\u001b[1;33m\u001b[0m\u001b[0m\n\u001b[0;32m    390\u001b[0m             \u001b[1;32mreturn\u001b[0m \u001b[0mobj\u001b[0m\u001b[1;33m.\u001b[0m\u001b[0mT\u001b[0m\u001b[1;33m.\u001b[0m\u001b[0mstack\u001b[0m\u001b[1;33m(\u001b[0m\u001b[0mdropna\u001b[0m\u001b[1;33m=\u001b[0m\u001b[1;32mFalse\u001b[0m\u001b[1;33m)\u001b[0m\u001b[1;33m\u001b[0m\u001b[1;33m\u001b[0m\u001b[0m\n",
      "\u001b[1;32m~\\Anaconda3\\lib\\site-packages\\pandas\\core\\reshape\\reshape.py\u001b[0m in \u001b[0;36m_unstack_frame\u001b[1;34m(obj, level, fill_value)\u001b[0m\n\u001b[0;32m    409\u001b[0m                                \u001b[0mvalue_columns\u001b[0m\u001b[1;33m=\u001b[0m\u001b[0mobj\u001b[0m\u001b[1;33m.\u001b[0m\u001b[0mcolumns\u001b[0m\u001b[1;33m,\u001b[0m\u001b[1;33m\u001b[0m\u001b[1;33m\u001b[0m\u001b[0m\n\u001b[0;32m    410\u001b[0m                                \u001b[0mfill_value\u001b[0m\u001b[1;33m=\u001b[0m\u001b[0mfill_value\u001b[0m\u001b[1;33m,\u001b[0m\u001b[1;33m\u001b[0m\u001b[1;33m\u001b[0m\u001b[0m\n\u001b[1;32m--> 411\u001b[1;33m                                constructor=obj._constructor)\n\u001b[0m\u001b[0;32m    412\u001b[0m         \u001b[1;32mreturn\u001b[0m \u001b[0munstacker\u001b[0m\u001b[1;33m.\u001b[0m\u001b[0mget_result\u001b[0m\u001b[1;33m(\u001b[0m\u001b[1;33m)\u001b[0m\u001b[1;33m\u001b[0m\u001b[1;33m\u001b[0m\u001b[0m\n\u001b[0;32m    413\u001b[0m \u001b[1;33m\u001b[0m\u001b[0m\n",
      "\u001b[1;32m~\\Anaconda3\\lib\\site-packages\\pandas\\core\\reshape\\reshape.py\u001b[0m in \u001b[0;36m__init__\u001b[1;34m(self, values, index, level, value_columns, fill_value, constructor)\u001b[0m\n\u001b[0;32m    122\u001b[0m \u001b[1;33m\u001b[0m\u001b[0m\n\u001b[0;32m    123\u001b[0m         \u001b[1;32mif\u001b[0m \u001b[0mnum_rows\u001b[0m \u001b[1;33m>\u001b[0m \u001b[1;36m0\u001b[0m \u001b[1;32mand\u001b[0m \u001b[0mnum_columns\u001b[0m \u001b[1;33m>\u001b[0m \u001b[1;36m0\u001b[0m \u001b[1;32mand\u001b[0m \u001b[0mnum_cells\u001b[0m \u001b[1;33m<=\u001b[0m \u001b[1;36m0\u001b[0m\u001b[1;33m:\u001b[0m\u001b[1;33m\u001b[0m\u001b[1;33m\u001b[0m\u001b[0m\n\u001b[1;32m--> 124\u001b[1;33m             raise ValueError('Unstacked DataFrame is too big, '\n\u001b[0m\u001b[0;32m    125\u001b[0m                              'causing int32 overflow')\n\u001b[0;32m    126\u001b[0m \u001b[1;33m\u001b[0m\u001b[0m\n",
      "\u001b[1;31mValueError\u001b[0m: Unstacked DataFrame is too big, causing int32 overflow"
     ]
    }
   ],
   "source": [
    "\n",
    "npi_drug_cross_df = pd.crosstab(dd_df[\"npi\"], dd_df[\"drug_name\"] , values=dd_df[\"total_claim_count\"], \n",
    "                                  aggfunc=np.sum) #uses drug_name which is the brand names\n",
    "num_cells = np.multiply(num_rows, num_columns, dtype=np.int64)\n",
    "npi_drug_cross_df = npi_drug_cross_df.fillna(0)\n",
    "#npi_drug_cross_df.head(10)"
   ]
  },
  {
   "cell_type": "code",
   "execution_count": null,
   "metadata": {},
   "outputs": [],
   "source": [
    "npi_drugcost_cross_df = pd.crosstab(dd_df[\"npi\"], dd_df[\"drug_name\"] , values=dd_df[\"total_drug_cost\"], \n",
    "                                  aggfunc=np.sum)\n",
    "npi_drugcost_cross_df = npi_drugcost_cross_df.fillna(0)\n",
    "npi_drugcost_cross_df.head(10)"
   ]
  },
  {
   "cell_type": "markdown",
   "metadata": {},
   "source": [
    "Manipulation of Prescriber Summary Data (Database 2)\n",
    "Year: 2017\n"
   ]
  },
  {
   "cell_type": "code",
   "execution_count": null,
   "metadata": {},
   "outputs": [],
   "source": [
    "ps_df = pd.read_csv(\"data\\Prescriber_Info.txt\", sep = '\\t', low_memory = False)"
   ]
  },
  {
   "cell_type": "code",
   "execution_count": null,
   "metadata": {
    "scrolled": true
   },
   "outputs": [],
   "source": [
    "\n",
    "ps_df = ps_df.sort_values(by=[\"npi\",\"specialty_description\"]) #read json & sort"
   ]
  },
  {
   "cell_type": "code",
   "execution_count": null,
   "metadata": {},
   "outputs": [],
   "source": [
    "ps_df = ps_df.set_index(\"npi\")"
   ]
  },
  {
   "cell_type": "code",
   "execution_count": null,
   "metadata": {},
   "outputs": [],
   "source": [
    "ps_df = ps_df.fillna(0) #if the column doesn't normally take integer/float input, it was still replaced by 0.0\n",
    "#doesn't really matter because those columns will be dropped"
   ]
  },
  {
   "cell_type": "code",
   "execution_count": null,
   "metadata": {},
   "outputs": [],
   "source": [
    "ps_df.head(10)"
   ]
  },
  {
   "cell_type": "code",
   "execution_count": null,
   "metadata": {},
   "outputs": [],
   "source": [
    "ps_df_new = ps_df[[\"specialty_description\", \"brand_claim_count\", \"brand_drug_cost\", \"generic_claim_count\", \"generic_drug_cost\", \"nppes_provider_city\", \"nppes_provider_zip5\", \"total_claim_count\", \"total_drug_cost\"]]"
   ]
  },
  {
   "cell_type": "code",
   "execution_count": null,
   "metadata": {
    "scrolled": true
   },
   "outputs": [],
   "source": [
    "#ps_df_new.head(10)"
   ]
  },
  {
   "cell_type": "code",
   "execution_count": null,
   "metadata": {},
   "outputs": [],
   "source": [
    "ps_dd_df= pd.concat([ps_df_new, npi_drug_cross_df], axis = 1, join=\"inner\")"
   ]
  },
  {
   "cell_type": "code",
   "execution_count": null,
   "metadata": {
    "scrolled": true
   },
   "outputs": [],
   "source": [
    "#ps_dd_df.head(10)"
   ]
  },
  {
   "cell_type": "code",
   "execution_count": null,
   "metadata": {},
   "outputs": [],
   "source": [
    "print(len(ps_df_new))\n",
    "print(len(npi_drug_cross_df))"
   ]
  },
  {
   "cell_type": "code",
   "execution_count": null,
   "metadata": {
    "scrolled": true
   },
   "outputs": [],
   "source": [
    "ps_dd_df.shape # check merged shape in comparison to the individual"
   ]
  },
  {
   "cell_type": "markdown",
   "metadata": {},
   "source": [
    "Creates a New Dataframe that aggregates all of the providers with the same specialty"
   ]
  },
  {
   "cell_type": "code",
   "execution_count": null,
   "metadata": {
    "scrolled": true
   },
   "outputs": [],
   "source": [
    "specialty_df = ps_dd_df.groupby(\"specialty_description\").sum()\n",
    "specialty_df.insert(0, \"counts\", ps_dd_df.groupby(\"specialty_description\").size()) # creates a count column"
   ]
  },
  {
   "cell_type": "code",
   "execution_count": null,
   "metadata": {},
   "outputs": [],
   "source": [
    "#specialty_df.head(10)"
   ]
  },
  {
   "cell_type": "code",
   "execution_count": null,
   "metadata": {},
   "outputs": [],
   "source": [
    "specialty_df.insert(5, \"generic_brand_ratio_cost\", specialty_df[\"brand_drug_cost\"]/specialty_df[\"generic_drug_cost\"], True)\n",
    "# creates a new column based off of brand to generic ratio"
   ]
  },
  {
   "cell_type": "code",
   "execution_count": null,
   "metadata": {},
   "outputs": [],
   "source": [
    "specialty_df.reset_index(\"specialty_description\", inplace=True)\n",
    "specialty_df.sort_values(\"generic_brand_ratio_cost\", inplace = True, na_position = \"first\")\n"
   ]
  },
  {
   "cell_type": "code",
   "execution_count": null,
   "metadata": {},
   "outputs": [],
   "source": [
    "#specialty_df.head(10)"
   ]
  },
  {
   "cell_type": "code",
   "execution_count": null,
   "metadata": {},
   "outputs": [],
   "source": [
    "ps_dd_df.insert(5, \"generic_brand_ratio_cost\", ps_dd_df[\"brand_drug_cost\"]/ps_dd_df[\"generic_drug_cost\"], True)\n"
   ]
  },
  {
   "cell_type": "code",
   "execution_count": null,
   "metadata": {
    "scrolled": true
   },
   "outputs": [],
   "source": [
    "#ps_dd_df.head(10)"
   ]
  },
  {
   "cell_type": "markdown",
   "metadata": {},
   "source": [
    "Remove any inf, or NaN, or 0 values from Generic Brand Ratio Costs because those lack predictive value and creates a Log transformed value for Generic and Brand Drug costs - We are looking at people with significant amounts of both Generic and Brand name Drugs prescribed"
   ]
  },
  {
   "cell_type": "code",
   "execution_count": null,
   "metadata": {},
   "outputs": [],
   "source": [
    "ps_dd_df.replace(np.inf, np.nan, inplace = True) #remove inf\n",
    "ps_dd_df.dropna( inplace = True)\n",
    "ps_dd_df.drop(ps_dd_df[ps_dd_df[\"generic_brand_ratio_cost\"]==0].index , inplace = True)\n",
    "# remove NaN and 0"
   ]
  },
  {
   "cell_type": "code",
   "execution_count": null,
   "metadata": {},
   "outputs": [],
   "source": [
    "ps_dd_df[\"log_brand_cost\"] = ps_dd_df[\"brand_drug_cost\"].apply(lambda x : np.log10(x)) #creates a log of the cost data\n",
    "ps_dd_df[\"log_generic_cost\"] = ps_dd_df[\"generic_drug_cost\"].apply(lambda x : np.log10(x))"
   ]
  },
  {
   "cell_type": "code",
   "execution_count": null,
   "metadata": {},
   "outputs": [],
   "source": [
    "ps_dd_df.head(10)"
   ]
  },
  {
   "cell_type": "code",
   "execution_count": null,
   "metadata": {},
   "outputs": [],
   "source": [
    "specialty_df.replace(np.inf, np.nan, inplace = True)\n",
    "specialty_df.dropna(inplace =True)\n",
    "specialty_df.drop(specialty_df[specialty_df[\"generic_brand_ratio_cost\"]==0].index , inplace = True)\n",
    "#remove NaN and 0 and inf\n",
    "specialty_df.head(10)"
   ]
  },
  {
   "cell_type": "code",
   "execution_count": null,
   "metadata": {},
   "outputs": [],
   "source": [
    "specialty_df[\"log_brand_cost\"] = specialty_df[\"brand_drug_cost\"].apply(lambda x : np.log10(x)) #creates a log of the cost data\n",
    "specialty_df[\"log_generic_cost\"] = specialty_df[\"generic_drug_cost\"].apply(lambda x : np.log10(x))"
   ]
  },
  {
   "cell_type": "code",
   "execution_count": null,
   "metadata": {},
   "outputs": [],
   "source": [
    "specialty_df[\"Index\"] = range(len(specialty_df))\n",
    "specialty_df = specialty_df.set_index(specialty_df[\"Index\"]) # resets index w/o moving rows"
   ]
  },
  {
   "cell_type": "code",
   "execution_count": null,
   "metadata": {
    "scrolled": true
   },
   "outputs": [],
   "source": [
    "specialty_df.head(10)"
   ]
  },
  {
   "cell_type": "markdown",
   "metadata": {},
   "source": [
    "DataFrames: ps_dd_df - Dataframe for individual NPI\n",
    "            specialty_df - Dataframe for grouped Specialties"
   ]
  },
  {
   "cell_type": "code",
   "execution_count": null,
   "metadata": {},
   "outputs": [],
   "source": [
    "import matplotlib\n",
    "import matplotlib.pyplot as plt\n",
    "import seaborn as sns"
   ]
  },
  {
   "cell_type": "code",
   "execution_count": null,
   "metadata": {},
   "outputs": [],
   "source": [
    "%matplotlib inline"
   ]
  },
  {
   "cell_type": "code",
   "execution_count": null,
   "metadata": {
    "scrolled": false
   },
   "outputs": [],
   "source": [
    "plt.scatter(ps_dd_df[\"brand_drug_cost\"], ps_dd_df[\"generic_drug_cost\"], color = \"r\")\n",
    "plt.xlabel(\"Brand Drug Cost\") #scatter plot of ps_dd_df data\n",
    "plt.ylabel(\"Generic Drug Cost\")\n",
    "#plt.xlim(-50,200000)\n",
    "#plt.ylim(-50,200000)"
   ]
  },
  {
   "cell_type": "code",
   "execution_count": null,
   "metadata": {
    "scrolled": true
   },
   "outputs": [],
   "source": [
    "plt.scatter(ps_dd_df[\"log_brand_cost\"], ps_dd_df[\"log_generic_cost\"], color = \"r\")\n",
    "plt.xlabel(\"Log Brand Drug Cost\", fontsize = 16) #scatter plot of ps_dd_df data\n",
    "plt.ylabel(\"Log Generic Drug Cost\", fontsize =16)\n"
   ]
  },
  {
   "cell_type": "code",
   "execution_count": null,
   "metadata": {
    "scrolled": true
   },
   "outputs": [],
   "source": [
    "plt.scatter(specialty_df[\"brand_drug_cost\"],specialty_df[\"generic_drug_cost\"], color = \"b\")\n",
    "plt.xlabel(\"Brand Drug Cost\", fontsize = 16) #scatter plot of specialty combined data\n",
    "plt.ylabel(\"Generic Drug Cost\",  fontsize = 16)"
   ]
  },
  {
   "cell_type": "code",
   "execution_count": null,
   "metadata": {},
   "outputs": [],
   "source": [
    "plt.scatter(specialty_df[\"log_brand_cost\"],specialty_df[\"log_generic_cost\"], color = \"b\")\n",
    "plt.xlabel(\"Log Brand Drug Cost\", fontsize = 16) #scatter plot of specialty combined data\n",
    "plt.ylabel(\"Log Generic Drug Cost\",  fontsize = 16)"
   ]
  },
  {
   "cell_type": "code",
   "execution_count": null,
   "metadata": {},
   "outputs": [],
   "source": [
    "specialty_df.sort_values(\"generic_brand_ratio_cost\", inplace =True, na_position = \"first\") #remove later"
   ]
  },
  {
   "cell_type": "code",
   "execution_count": null,
   "metadata": {},
   "outputs": [],
   "source": [
    "specialty_df[\"generic_brand_ratio_cost\"].describe() #add cost to end of ratio"
   ]
  },
  {
   "cell_type": "code",
   "execution_count": null,
   "metadata": {
    "scrolled": false
   },
   "outputs": [],
   "source": [
    "plt.grid(True, \"both\", \"y\") #add cost to end of ratio\n",
    "plt.bar(range(len(specialty_df)),specialty_df[\"generic_brand_ratio_cost\"]) #bar graph of specialty generic to brand ratios\n",
    "plt.xlabel(\"Specialty Index\")\n",
    "plt.ylabel(\"Generic-Brand ratio\")"
   ]
  },
  {
   "cell_type": "code",
   "execution_count": null,
   "metadata": {},
   "outputs": [],
   "source": [
    "specialty_df[\"specialty_description\"] #Index for Specialties"
   ]
  },
  {
   "cell_type": "code",
   "execution_count": null,
   "metadata": {},
   "outputs": [],
   "source": [
    "plt.hist(specialty_df[\"generic_brand_ratio_cost\"], bins = range(len(specialty_df)), density =True, cumulative = True) #bar graph of specialty generic to brand ratios\n",
    "plt.xlabel(\"Specialty Index\", fontsize =16)\n",
    "plt.ylabel(\"Generic to Brand Cost Ratio\", fontsize = 16)"
   ]
  },
  {
   "cell_type": "code",
   "execution_count": null,
   "metadata": {},
   "outputs": [],
   "source": [
    "def low_mid_high(generic_brand_ratio_cost): \n",
    "    '''Sectioning off Generic Brands ratio cost as low to high'''\n",
    "    #if generic_brand_ratio_cost\n",
    "    if generic_brand_ratio_cost <= 10:\n",
    "        return \"0-10\"\n",
    "    elif generic_brand_ratio_cost <= 40:\n",
    "        return \"11-40\"\n",
    "    elif generic_brand_ratio_cost > 40:\n",
    "        return \">40\""
   ]
  },
  {
   "cell_type": "code",
   "execution_count": null,
   "metadata": {},
   "outputs": [],
   "source": [
    "specialtyCountNormalize = specialty_df[\"generic_brand_ratio_cost\"].map(low_mid_high).value_counts(normalize = True, sort = False) #normalized values"
   ]
  },
  {
   "cell_type": "code",
   "execution_count": null,
   "metadata": {},
   "outputs": [],
   "source": [
    "specialtyCount = specialty_df[\"generic_brand_ratio_cost\"].map(low_mid_high).value_counts(sort = False)"
   ]
  },
  {
   "cell_type": "code",
   "execution_count": null,
   "metadata": {},
   "outputs": [],
   "source": [
    "print(specialtyCount.sort_values())"
   ]
  },
  {
   "cell_type": "code",
   "execution_count": null,
   "metadata": {
    "scrolled": true
   },
   "outputs": [],
   "source": [
    "xIndex = specialtyCount.index.values\n",
    "plt.bar(xIndex, list(specialtyCount))\n",
    "plt.xlabel(\"Brand/Generic Ratio Groups\", fontsize =16)\n",
    "plt.ylabel(\"Specialty Count\", fontsize = 16)"
   ]
  },
  {
   "cell_type": "code",
   "execution_count": null,
   "metadata": {},
   "outputs": [],
   "source": [
    "ax = plt.pie(x = list(specialtyCount), labels = xIndex, autopct=\"%1.1f%%\", shadow=True, startangle = 90, radius = 2)\n",
    "plt.legend(xIndex, title=\"Brand Generic Ratio Groups\", loc = (1.5,1), fontsize =16)"
   ]
  },
  {
   "cell_type": "code",
   "execution_count": null,
   "metadata": {},
   "outputs": [],
   "source": [
    "ax = sns.boxplot(\"generic_brand_ratio_cost\", data=ps_dd_df, showfliers=False)\n"
   ]
  },
  {
   "cell_type": "code",
   "execution_count": null,
   "metadata": {
    "scrolled": true
   },
   "outputs": [],
   "source": [
    "sns.jointplot(\"brand_drug_cost\", \"generic_drug_cost\", kind = \"scatter\", data=ps_dd_df, xlim = (0,80000), ylim = (0,30000))"
   ]
  },
  {
   "cell_type": "code",
   "execution_count": null,
   "metadata": {},
   "outputs": [],
   "source": [
    "sns.jointplot(\"log_brand_cost\", \"log_generic_cost\", kind = \"reg\", data=ps_dd_df)"
   ]
  },
  {
   "cell_type": "code",
   "execution_count": null,
   "metadata": {},
   "outputs": [],
   "source": [
    "#ps_dd_df.head(10)"
   ]
  },
  {
   "cell_type": "code",
   "execution_count": null,
   "metadata": {},
   "outputs": [],
   "source": [
    "ax = sns.jointplot(\"brand_drug_cost\", \"generic_drug_cost\", data=ps_dd_df,kind = \"kde\", xlim = (-50000,100000), ylim = (-20000,50000) )\n",
    "ax.set_axis_labels(xlabel = \"Brand Drug Cost\", ylabel = \"Generic Drug Cost\", fontsize = 18)\n"
   ]
  },
  {
   "cell_type": "code",
   "execution_count": null,
   "metadata": {
    "scrolled": true
   },
   "outputs": [],
   "source": [
    "ax = sns.jointplot(\"log_brand_cost\", \"log_generic_cost\", data=ps_dd_df,kind = \"kde\" )\n",
    "ax.set_axis_labels(xlabel = \"Log Transformed Brand Cost\", ylabel = \"Log Transformed Generic Cost\", fontsize = 18)\n"
   ]
  },
  {
   "cell_type": "markdown",
   "metadata": {},
   "source": [
    "Maybe Change to brand/generic ratio"
   ]
  },
  {
   "cell_type": "code",
   "execution_count": null,
   "metadata": {},
   "outputs": [],
   "source": [
    "top_df = specialty_df.loc[specialty_df[\"counts\"]>150].sort_values(\"counts\", ascending=False) #run a search for specialties with over 150 providers\n",
    "top_df"
   ]
  },
  {
   "cell_type": "code",
   "execution_count": null,
   "metadata": {},
   "outputs": [],
   "source": [
    "topFour = top_df[\"specialty_description\"].iloc[0:4].tolist() #top 4 counts\n",
    "print(topFour[0])"
   ]
  },
  {
   "cell_type": "code",
   "execution_count": null,
   "metadata": {},
   "outputs": [],
   "source": [
    "#for value in top_df[\"specialty_description\"]:\n",
    "    #print(ps_dd_df.loc[( ps_dd_df['specialty_description'] == value ) , 'generic_brand_ratio_cost'].tolist())\n",
    "    "
   ]
  },
  {
   "cell_type": "code",
   "execution_count": null,
   "metadata": {},
   "outputs": [],
   "source": [
    "titles = []\n",
    "for string in topFour:\n",
    "    if len(string) > 25:\n",
    "        string=string.split()\n",
    "        temp = ''\n",
    "        for x in string:\n",
    "            temp+= x[0]\n",
    "        string = temp\n",
    "    titles.append(string)\n",
    "print(titles)"
   ]
  },
  {
   "cell_type": "code",
   "execution_count": null,
   "metadata": {},
   "outputs": [],
   "source": [
    "\n",
    "fig , axes = plt.subplots(2,2, figsize = (10,10))\n",
    "plt.subplots_adjust(wspace = .5, hspace =.5 )\n",
    "\n",
    "\n",
    "axes[0,0].scatter(ps_dd_df.loc[( ps_dd_df['specialty_description'] == topFour[0] ) , 'log_brand_cost'].tolist() , ps_dd_df.loc[( ps_dd_df['specialty_description'] == topFour[0] ) , 'log_generic_cost'].tolist(),c='r')\n",
    "axes[0,0].set_title(titles[0], fontsize = 13, pad =15)\n",
    "axes[0,0].tick_params(labelsize=10)\n",
    "axes[0,0].set_xlabel(\"Log Transformed Brand Cost\", fontsize = 10)\n",
    "axes[0,0].set_ylabel(\"Log Transformed Generic Cost\", fontsize = 10)\n",
    "#axes[0,0].x_tick(rotation=30)\n",
    "\n",
    "axes[0,1].scatter(ps_dd_df.loc[( ps_dd_df['specialty_description'] == topFour[1] ) , 'log_brand_cost'].tolist() , ps_dd_df.loc[( ps_dd_df['specialty_description'] == topFour[1] ) , 'log_generic_cost'].tolist())\n",
    "axes[0,1].set_title(titles[1], fontsize = 13, pad =15)\n",
    "axes[0,1].tick_params(labelsize=10)\n",
    "axes[0,1].set_xlabel(\"Log Transformed Brand Cost\", fontsize = 10)\n",
    "axes[0,1].set_ylabel(\"Log Transformed Generic Cost\", fontsize = 10)\n",
    "\n",
    "axes[1,0].scatter(ps_dd_df.loc[( ps_dd_df['specialty_description'] == topFour[2] ) , 'log_brand_cost'].tolist() , ps_dd_df.loc[( ps_dd_df['specialty_description'] == topFour[2] ) , 'log_generic_cost'].tolist(), c ='g')\n",
    "axes[1,0].set_title(titles[2], fontsize = 13, pad =15)\n",
    "axes[1,0].tick_params(labelsize=10)\n",
    "axes[1,0].set_xlabel(\"Log Transformed Brand Cost\", fontsize = 10)\n",
    "axes[1,0].set_ylabel(\"Log Transformed Generic Cost\", fontsize = 10)\n",
    "\n",
    "axes[1,1].scatter(ps_dd_df.loc[( ps_dd_df['specialty_description'] == topFour[3] ) , 'log_brand_cost'].tolist() , ps_dd_df.loc[( ps_dd_df['specialty_description'] == topFour[3] ) , 'log_generic_cost'].tolist(), c = 'purple')\n",
    "axes[1,1].set_title(titles[3], fontsize = 13, pad =15)\n",
    "axes[1,1].tick_params(labelsize=10)\n",
    "axes[1,1].set_xlabel(\"Log Transformed Brand Cost\", fontsize = 10)\n",
    "axes[1,1].set_ylabel(\"Log Transformed Generic Cost\", fontsize = 10)"
   ]
  },
  {
   "cell_type": "code",
   "execution_count": null,
   "metadata": {
    "scrolled": true
   },
   "outputs": [],
   "source": [
    "ps_dd_df.to_csv(\"data\\ps_dd_df.csv\")"
   ]
  },
  {
   "cell_type": "code",
   "execution_count": null,
   "metadata": {},
   "outputs": [],
   "source": [
    "specialty_df.to_csv(\"data\\specialty_df.csv\", index =False)"
   ]
  },
  {
   "cell_type": "code",
   "execution_count": null,
   "metadata": {},
   "outputs": [],
   "source": []
  },
  {
   "cell_type": "code",
   "execution_count": null,
   "metadata": {},
   "outputs": [],
   "source": []
  }
 ],
 "metadata": {
  "kernelspec": {
   "display_name": "Python 3",
   "language": "python",
   "name": "python3"
  },
  "language_info": {
   "codemirror_mode": {
    "name": "ipython",
    "version": 3
   },
   "file_extension": ".py",
   "mimetype": "text/x-python",
   "name": "python",
   "nbconvert_exporter": "python",
   "pygments_lexer": "ipython3",
   "version": "3.7.3"
  }
 },
 "nbformat": 4,
 "nbformat_minor": 2
}
