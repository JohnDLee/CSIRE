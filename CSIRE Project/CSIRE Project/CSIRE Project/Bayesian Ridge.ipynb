{
 "cells": [
  {
   "cell_type": "code",
   "execution_count": 1,
   "metadata": {},
   "outputs": [],
   "source": [
    "import pandas as pd  \n",
    "import numpy as np  \n",
    "import matplotlib.pyplot as plt \n",
    "import seaborn as seabornInstance \n",
    "from sklearn.model_selection import train_test_split  \n",
    "from sklearn.linear_model import BayesianRidge as BR\n",
    "from sklearn import metrics\n",
    "from sklearn.decomposition import PCA\n",
    "from sklearn.externals.joblib import dump,load\n",
    "from sklearn.model_selection import GridSearchCV as GSCV\n",
    "\n",
    "%matplotlib inline"
   ]
  },
  {
   "cell_type": "code",
   "execution_count": 2,
   "metadata": {},
   "outputs": [],
   "source": [
    "ML_df = pd.read_csv(\"data\\ML_dataset.csv\")"
   ]
  },
  {
   "cell_type": "code",
   "execution_count": null,
   "metadata": {},
   "outputs": [],
   "source": []
  },
  {
   "cell_type": "code",
   "execution_count": 3,
   "metadata": {},
   "outputs": [
    {
     "name": "stdout",
     "output_type": "stream",
     "text": [
      "['specialty_description', 'nppes_provider_city', 'total_claim_count', 'total_drug_cost', 'total_day_supply', 'total_30_day_fill_count']\n"
     ]
    }
   ],
   "source": [
    "Labels = ML_df.columns[:6].tolist() #columns of drugs\n",
    "\n",
    "print(Labels)"
   ]
  },
  {
   "cell_type": "code",
   "execution_count": 4,
   "metadata": {},
   "outputs": [],
   "source": [
    "X = ML_df[Labels].values #input\n",
    "y = ML_df[\"brand_percent_spending\"].values #label\n",
    "# Seperate into attributes and Labels\n",
    "#print(X)\n",
    "#print(len(X))\n",
    "#print(len(y))\n",
    "#print(y)"
   ]
  },
  {
   "cell_type": "code",
   "execution_count": 5,
   "metadata": {},
   "outputs": [
    {
     "data": {
      "text/plain": [
       "array([[-9.71514450e+04,  2.11533240e+04, -1.27295505e+03,\n",
       "         6.60033468e+02, -2.84305173e+02],\n",
       "       [-2.39303720e+05,  4.38967784e+04, -1.43359333e+03,\n",
       "         1.69423084e+02, -4.31410770e+00],\n",
       "       [-2.31345603e+05,  4.07929591e+04, -1.03933486e+03,\n",
       "         1.45269599e+02,  1.56942771e+01],\n",
       "       ...,\n",
       "       [-2.34905620e+05,  4.53307718e+04, -1.64323611e+03,\n",
       "         1.79500585e+02, -3.39543109e+00],\n",
       "       [-2.32484850e+05,  4.19306074e+04, -1.42455725e+03,\n",
       "         1.67580175e+02, -3.13285167e+01],\n",
       "       [-2.38689623e+05,  3.86214766e+04, -1.08528825e+03,\n",
       "         1.82468376e+02, -4.67853871e+01]])"
      ]
     },
     "execution_count": 5,
     "metadata": {},
     "output_type": "execute_result"
    }
   ],
   "source": [
    "PCA = PCA(n_components = 'mle')\n",
    "PCA.fit_transform(X)"
   ]
  },
  {
   "cell_type": "code",
   "execution_count": 6,
   "metadata": {},
   "outputs": [
    {
     "name": "stdout",
     "output_type": "stream",
     "text": [
      "[9.13293350e-01 8.66777129e-02 1.62913224e-05 1.18608346e-05\n",
      " 7.80144034e-07]\n"
     ]
    }
   ],
   "source": [
    "print(PCA.explained_variance_ratio_) "
   ]
  },
  {
   "cell_type": "code",
   "execution_count": 7,
   "metadata": {},
   "outputs": [],
   "source": [
    "X_train, X_test, y_train, y_test = train_test_split(X, y, test_size = 0.25)\n",
    "#seperate into Training and Test Data"
   ]
  },
  {
   "cell_type": "code",
   "execution_count": 8,
   "metadata": {
    "scrolled": true
   },
   "outputs": [
    {
     "name": "stdout",
     "output_type": "stream",
     "text": [
      "Convergence after  4  iterations\n"
     ]
    },
    {
     "data": {
      "text/plain": [
       "BayesianRidge(alpha_1=1e-06, alpha_2=1e-06, compute_score=True, copy_X=True,\n",
       "       fit_intercept=True, lambda_1=1e-06, lambda_2=1e-06, n_iter=300,\n",
       "       normalize=True, tol=0.0001, verbose=True)"
      ]
     },
     "execution_count": 8,
     "metadata": {},
     "output_type": "execute_result"
    }
   ],
   "source": [
    "#other kernel options: linear, poly, rbf, sigmoid, precomputed \n",
    "brregressor = BR(tol = 1e-4, normalize = True, compute_score = True, verbose=True)\n",
    "brregressor.fit(X_train,y_train)"
   ]
  },
  {
   "cell_type": "code",
   "execution_count": 9,
   "metadata": {},
   "outputs": [
    {
     "name": "stdout",
     "output_type": "stream",
     "text": [
      "[ 2.47404407e-03  6.15003512e-06 -2.63706438e-06  1.06461559e-07\n",
      "  3.57850136e-07 -9.69258706e-06]\n"
     ]
    }
   ],
   "source": [
    "print(brregressor.coef_)"
   ]
  },
  {
   "cell_type": "code",
   "execution_count": 10,
   "metadata": {},
   "outputs": [
    {
     "data": {
      "text/html": [
       "<div>\n",
       "<style scoped>\n",
       "    .dataframe tbody tr th:only-of-type {\n",
       "        vertical-align: middle;\n",
       "    }\n",
       "\n",
       "    .dataframe tbody tr th {\n",
       "        vertical-align: top;\n",
       "    }\n",
       "\n",
       "    .dataframe thead th {\n",
       "        text-align: right;\n",
       "    }\n",
       "</style>\n",
       "<table border=\"1\" class=\"dataframe\">\n",
       "  <thead>\n",
       "    <tr style=\"text-align: right;\">\n",
       "      <th></th>\n",
       "      <th>coefficient</th>\n",
       "    </tr>\n",
       "  </thead>\n",
       "  <tbody>\n",
       "    <tr>\n",
       "      <th>specialty_description</th>\n",
       "      <td>2.474044e-03</td>\n",
       "    </tr>\n",
       "    <tr>\n",
       "      <th>nppes_provider_city</th>\n",
       "      <td>6.150035e-06</td>\n",
       "    </tr>\n",
       "    <tr>\n",
       "      <th>total_day_supply</th>\n",
       "      <td>3.578501e-07</td>\n",
       "    </tr>\n",
       "    <tr>\n",
       "      <th>total_drug_cost</th>\n",
       "      <td>1.064616e-07</td>\n",
       "    </tr>\n",
       "    <tr>\n",
       "      <th>total_claim_count</th>\n",
       "      <td>-2.637064e-06</td>\n",
       "    </tr>\n",
       "    <tr>\n",
       "      <th>total_30_day_fill_count</th>\n",
       "      <td>-9.692587e-06</td>\n",
       "    </tr>\n",
       "  </tbody>\n",
       "</table>\n",
       "</div>"
      ],
      "text/plain": [
       "                          coefficient\n",
       "specialty_description    2.474044e-03\n",
       "nppes_provider_city      6.150035e-06\n",
       "total_day_supply         3.578501e-07\n",
       "total_drug_cost          1.064616e-07\n",
       "total_claim_count       -2.637064e-06\n",
       "total_30_day_fill_count -9.692587e-06"
      ]
     },
     "execution_count": 10,
     "metadata": {},
     "output_type": "execute_result"
    }
   ],
   "source": [
    "coeff_df = pd.DataFrame( brregressor.coef_, Labels, columns=['coefficient'])  \n",
    "coeff_df = coeff_df[coeff_df[\"coefficient\"] != 0]\n",
    "coeff_df.sort_values(\"coefficient\" ,ascending = False)"
   ]
  },
  {
   "cell_type": "code",
   "execution_count": 11,
   "metadata": {},
   "outputs": [],
   "source": [
    "#predictions\n",
    "y_pred =brregressor.predict(X_test)"
   ]
  },
  {
   "cell_type": "code",
   "execution_count": 12,
   "metadata": {},
   "outputs": [
    {
     "data": {
      "text/html": [
       "<div>\n",
       "<style scoped>\n",
       "    .dataframe tbody tr th:only-of-type {\n",
       "        vertical-align: middle;\n",
       "    }\n",
       "\n",
       "    .dataframe tbody tr th {\n",
       "        vertical-align: top;\n",
       "    }\n",
       "\n",
       "    .dataframe thead th {\n",
       "        text-align: right;\n",
       "    }\n",
       "</style>\n",
       "<table border=\"1\" class=\"dataframe\">\n",
       "  <thead>\n",
       "    <tr style=\"text-align: right;\">\n",
       "      <th></th>\n",
       "      <th>Actual</th>\n",
       "      <th>Predicted</th>\n",
       "    </tr>\n",
       "  </thead>\n",
       "  <tbody>\n",
       "    <tr>\n",
       "      <th>0</th>\n",
       "      <td>0.911246</td>\n",
       "      <td>0.658687</td>\n",
       "    </tr>\n",
       "    <tr>\n",
       "      <th>1</th>\n",
       "      <td>0.758752</td>\n",
       "      <td>0.663903</td>\n",
       "    </tr>\n",
       "    <tr>\n",
       "      <th>2</th>\n",
       "      <td>0.301580</td>\n",
       "      <td>0.526019</td>\n",
       "    </tr>\n",
       "    <tr>\n",
       "      <th>3</th>\n",
       "      <td>0.494988</td>\n",
       "      <td>0.713743</td>\n",
       "    </tr>\n",
       "    <tr>\n",
       "      <th>4</th>\n",
       "      <td>0.373668</td>\n",
       "      <td>0.469976</td>\n",
       "    </tr>\n",
       "    <tr>\n",
       "      <th>5</th>\n",
       "      <td>0.876037</td>\n",
       "      <td>0.848305</td>\n",
       "    </tr>\n",
       "    <tr>\n",
       "      <th>6</th>\n",
       "      <td>0.230109</td>\n",
       "      <td>0.477694</td>\n",
       "    </tr>\n",
       "    <tr>\n",
       "      <th>7</th>\n",
       "      <td>0.559835</td>\n",
       "      <td>0.597197</td>\n",
       "    </tr>\n",
       "    <tr>\n",
       "      <th>8</th>\n",
       "      <td>0.910102</td>\n",
       "      <td>0.750502</td>\n",
       "    </tr>\n",
       "    <tr>\n",
       "      <th>9</th>\n",
       "      <td>0.925784</td>\n",
       "      <td>0.711836</td>\n",
       "    </tr>\n",
       "    <tr>\n",
       "      <th>10</th>\n",
       "      <td>0.396027</td>\n",
       "      <td>0.715931</td>\n",
       "    </tr>\n",
       "    <tr>\n",
       "      <th>11</th>\n",
       "      <td>0.955648</td>\n",
       "      <td>0.644830</td>\n",
       "    </tr>\n",
       "    <tr>\n",
       "      <th>12</th>\n",
       "      <td>0.715654</td>\n",
       "      <td>0.721002</td>\n",
       "    </tr>\n",
       "    <tr>\n",
       "      <th>13</th>\n",
       "      <td>0.752868</td>\n",
       "      <td>0.524141</td>\n",
       "    </tr>\n",
       "    <tr>\n",
       "      <th>14</th>\n",
       "      <td>0.578789</td>\n",
       "      <td>0.516868</td>\n",
       "    </tr>\n",
       "    <tr>\n",
       "      <th>15</th>\n",
       "      <td>0.566915</td>\n",
       "      <td>0.691612</td>\n",
       "    </tr>\n",
       "    <tr>\n",
       "      <th>16</th>\n",
       "      <td>0.589098</td>\n",
       "      <td>0.585900</td>\n",
       "    </tr>\n",
       "    <tr>\n",
       "      <th>17</th>\n",
       "      <td>0.779827</td>\n",
       "      <td>0.634576</td>\n",
       "    </tr>\n",
       "    <tr>\n",
       "      <th>18</th>\n",
       "      <td>0.670298</td>\n",
       "      <td>0.595399</td>\n",
       "    </tr>\n",
       "    <tr>\n",
       "      <th>19</th>\n",
       "      <td>0.611268</td>\n",
       "      <td>0.673874</td>\n",
       "    </tr>\n",
       "    <tr>\n",
       "      <th>20</th>\n",
       "      <td>0.727206</td>\n",
       "      <td>0.646334</td>\n",
       "    </tr>\n",
       "    <tr>\n",
       "      <th>21</th>\n",
       "      <td>0.783252</td>\n",
       "      <td>0.805206</td>\n",
       "    </tr>\n",
       "    <tr>\n",
       "      <th>22</th>\n",
       "      <td>0.315528</td>\n",
       "      <td>0.716266</td>\n",
       "    </tr>\n",
       "    <tr>\n",
       "      <th>23</th>\n",
       "      <td>0.792142</td>\n",
       "      <td>0.544156</td>\n",
       "    </tr>\n",
       "    <tr>\n",
       "      <th>24</th>\n",
       "      <td>0.902081</td>\n",
       "      <td>0.824800</td>\n",
       "    </tr>\n",
       "  </tbody>\n",
       "</table>\n",
       "</div>"
      ],
      "text/plain": [
       "      Actual  Predicted\n",
       "0   0.911246   0.658687\n",
       "1   0.758752   0.663903\n",
       "2   0.301580   0.526019\n",
       "3   0.494988   0.713743\n",
       "4   0.373668   0.469976\n",
       "5   0.876037   0.848305\n",
       "6   0.230109   0.477694\n",
       "7   0.559835   0.597197\n",
       "8   0.910102   0.750502\n",
       "9   0.925784   0.711836\n",
       "10  0.396027   0.715931\n",
       "11  0.955648   0.644830\n",
       "12  0.715654   0.721002\n",
       "13  0.752868   0.524141\n",
       "14  0.578789   0.516868\n",
       "15  0.566915   0.691612\n",
       "16  0.589098   0.585900\n",
       "17  0.779827   0.634576\n",
       "18  0.670298   0.595399\n",
       "19  0.611268   0.673874\n",
       "20  0.727206   0.646334\n",
       "21  0.783252   0.805206\n",
       "22  0.315528   0.716266\n",
       "23  0.792142   0.544156\n",
       "24  0.902081   0.824800"
      ]
     },
     "execution_count": 12,
     "metadata": {},
     "output_type": "execute_result"
    }
   ],
   "source": [
    "comparison_df = pd.DataFrame({'Actual': y_test, 'Predicted': y_pred})\n",
    "comparison_df.head(25)"
   ]
  },
  {
   "cell_type": "code",
   "execution_count": 13,
   "metadata": {
    "scrolled": true
   },
   "outputs": [
    {
     "data": {
      "image/png": "[encoded data removed]",
      "text/plain": [
       "<Figure size 720x576 with 1 Axes>"
      ]
     },
     "metadata": {
      "needs_background": "light"
     },
     "output_type": "display_data"
    }
   ],
   "source": [
    "comparison_df.iloc[0:25].plot(kind='bar',figsize=(10,8))\n",
    "plt.grid(which='major', linestyle='-', linewidth='0.5', color='green')\n",
    "plt.grid(which='minor', linestyle=':', linewidth='0.5', color='black')\n",
    "plt.show()"
   ]
  },
  {
   "cell_type": "code",
   "execution_count": 14,
   "metadata": {},
   "outputs": [
    {
     "data": {
      "text/plain": [
       "Text(0, 0.5, 'Predicted')"
      ]
     },
     "execution_count": 14,
     "metadata": {},
     "output_type": "execute_result"
    },
    {
     "data": {
      "image/png": "[encoded data removed]",
      "text/plain": [
       "<Figure size 432x288 with 1 Axes>"
      ]
     },
     "metadata": {
      "needs_background": "light"
     },
     "output_type": "display_data"
    }
   ],
   "source": [
    "plt.scatter(comparison_df.iloc[0:1000][\"Actual\"], comparison_df.iloc[0:1000][\"Predicted\"], alpha = .25)\n",
    "plt.xlabel(\"Actual\", fontsize = 16) #scatter plot of specialty combined data\n",
    "plt.ylabel(\"Predicted\",  fontsize = 16)"
   ]
  },
  {
   "cell_type": "code",
   "execution_count": 15,
   "metadata": {},
   "outputs": [
    {
     "name": "stdout",
     "output_type": "stream",
     "text": [
      "r Squared: 0.26477663736471113\n"
     ]
    }
   ],
   "source": [
    "print(\"r Squared:\", metrics.r2_score(y_test, y_pred))"
   ]
  },
  {
   "cell_type": "code",
   "execution_count": null,
   "metadata": {},
   "outputs": [],
   "source": []
  },
  {
   "cell_type": "code",
   "execution_count": null,
   "metadata": {},
   "outputs": [],
   "source": []
  }
 ],
 "metadata": {
  "kernelspec": {
   "display_name": "Python 3",
   "language": "python",
   "name": "python3"
  },
  "language_info": {
   "codemirror_mode": {
    "name": "ipython",
    "version": 3
   },
   "file_extension": ".py",
   "mimetype": "text/x-python",
   "name": "python",
   "nbconvert_exporter": "python",
   "pygments_lexer": "ipython3",
   "version": "3.7.3"
  }
 },
 "nbformat": 4,
 "nbformat_minor": 2
}
