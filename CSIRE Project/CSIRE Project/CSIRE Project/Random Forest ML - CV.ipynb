{
 "cells": [
  {
   "cell_type": "markdown",
   "metadata": {},
   "source": [
    "    Beginning the Regression Preparation"
   ]
  },
  {
   "cell_type": "code",
   "execution_count": 2,
   "metadata": {},
   "outputs": [],
   "source": [
    "\n",
    "import pandas as pd"
   ]
  },
  {
   "cell_type": "markdown",
   "metadata": {},
   "source": [
    "Building a Random Forest Model"
   ]
  },
  {
   "cell_type": "code",
   "execution_count": 3,
   "metadata": {},
   "outputs": [],
   "source": [
    "import numpy as np  \n",
    "import matplotlib.pyplot as plt  \n",
    "import seaborn as seabornInstance \n",
    "from sklearn.model_selection import train_test_split, cross_val_score\n",
    "from sklearn.ensemble import RandomForestRegressor\n",
    "from sklearn import metrics\n",
    "from sklearn.decomposition import PCA\n",
    "from sklearn.model_selection import GridSearchCV as GSCV\n",
    "from sklearn.externals.joblib import dump,load\n",
    "from sklearn.preprocessing import StandardScaler\n",
    "%matplotlib inline"
   ]
  },
  {
   "cell_type": "code",
   "execution_count": 4,
   "metadata": {},
   "outputs": [],
   "source": [
    "ML_dataset = pd.read_csv(\"data\\ML_dataset.csv\")"
   ]
  },
  {
   "cell_type": "code",
   "execution_count": 5,
   "metadata": {},
   "outputs": [
    {
     "data": {
      "text/html": [
       "<div>\n",
       "<style scoped>\n",
       "    .dataframe tbody tr th:only-of-type {\n",
       "        vertical-align: middle;\n",
       "    }\n",
       "\n",
       "    .dataframe tbody tr th {\n",
       "        vertical-align: top;\n",
       "    }\n",
       "\n",
       "    .dataframe thead th {\n",
       "        text-align: right;\n",
       "    }\n",
       "</style>\n",
       "<table border=\"1\" class=\"dataframe\">\n",
       "  <thead>\n",
       "    <tr style=\"text-align: right;\">\n",
       "      <th></th>\n",
       "      <th>specialty_description</th>\n",
       "      <th>nppes_provider_city</th>\n",
       "      <th>total_claim_count</th>\n",
       "      <th>total_drug_cost</th>\n",
       "      <th>total_day_supply</th>\n",
       "      <th>total_30_day_fill_count</th>\n",
       "      <th>bene_count</th>\n",
       "      <th>brand_percent_spending</th>\n",
       "    </tr>\n",
       "  </thead>\n",
       "  <tbody>\n",
       "    <tr>\n",
       "      <th>0</th>\n",
       "      <td>39</td>\n",
       "      <td>9174</td>\n",
       "      <td>1946</td>\n",
       "      <td>140189.01</td>\n",
       "      <td>58605</td>\n",
       "      <td>2054.8</td>\n",
       "      <td>276.0</td>\n",
       "      <td>0.756466</td>\n",
       "    </tr>\n",
       "    <tr>\n",
       "      <th>1</th>\n",
       "      <td>108</td>\n",
       "      <td>9331</td>\n",
       "      <td>90</td>\n",
       "      <td>7561.21</td>\n",
       "      <td>2681</td>\n",
       "      <td>110.0</td>\n",
       "      <td>11.0</td>\n",
       "      <td>0.869739</td>\n",
       "    </tr>\n",
       "    <tr>\n",
       "      <th>2</th>\n",
       "      <td>32</td>\n",
       "      <td>8930</td>\n",
       "      <td>200</td>\n",
       "      <td>14549.85</td>\n",
       "      <td>7587</td>\n",
       "      <td>307.2</td>\n",
       "      <td>65.0</td>\n",
       "      <td>0.535970</td>\n",
       "    </tr>\n",
       "    <tr>\n",
       "      <th>3</th>\n",
       "      <td>70</td>\n",
       "      <td>3003</td>\n",
       "      <td>4981</td>\n",
       "      <td>258258.70</td>\n",
       "      <td>337309</td>\n",
       "      <td>11494.1</td>\n",
       "      <td>459.0</td>\n",
       "      <td>0.567573</td>\n",
       "    </tr>\n",
       "    <tr>\n",
       "      <th>4</th>\n",
       "      <td>88</td>\n",
       "      <td>7343</td>\n",
       "      <td>7165</td>\n",
       "      <td>379661.02</td>\n",
       "      <td>333309</td>\n",
       "      <td>11406.5</td>\n",
       "      <td>461.0</td>\n",
       "      <td>0.724479</td>\n",
       "    </tr>\n",
       "  </tbody>\n",
       "</table>\n",
       "</div>"
      ],
      "text/plain": [
       "   specialty_description  nppes_provider_city  total_claim_count  \\\n",
       "0                     39                 9174               1946   \n",
       "1                    108                 9331                 90   \n",
       "2                     32                 8930                200   \n",
       "3                     70                 3003               4981   \n",
       "4                     88                 7343               7165   \n",
       "\n",
       "   total_drug_cost  total_day_supply  total_30_day_fill_count  bene_count  \\\n",
       "0        140189.01             58605                   2054.8       276.0   \n",
       "1          7561.21              2681                    110.0        11.0   \n",
       "2         14549.85              7587                    307.2        65.0   \n",
       "3        258258.70            337309                  11494.1       459.0   \n",
       "4        379661.02            333309                  11406.5       461.0   \n",
       "\n",
       "   brand_percent_spending  \n",
       "0                0.756466  \n",
       "1                0.869739  \n",
       "2                0.535970  \n",
       "3                0.567573  \n",
       "4                0.724479  "
      ]
     },
     "execution_count": 5,
     "metadata": {},
     "output_type": "execute_result"
    }
   ],
   "source": [
    "ML_dataset.head()"
   ]
  },
  {
   "cell_type": "markdown",
   "metadata": {},
   "source": [
    "Begin Model Building and Fitting\n",
    "\n",
    "Input and Output"
   ]
  },
  {
   "cell_type": "code",
   "execution_count": 6,
   "metadata": {},
   "outputs": [
    {
     "name": "stdout",
     "output_type": "stream",
     "text": [
      "['specialty_description', 'nppes_provider_city', 'total_claim_count', 'total_drug_cost', 'total_day_supply', 'total_30_day_fill_count']\n"
     ]
    }
   ],
   "source": [
    "Labels = ML_dataset.drop(\"brand_percent_spending\", axis=1).columns.tolist() #columns of drugs\n",
    "print(Labels)"
   ]
  },
  {
   "cell_type": "code",
   "execution_count": 7,
   "metadata": {},
   "outputs": [
    {
     "name": "stdout",
     "output_type": "stream",
     "text": [
      "[[3.9000000e+01 9.1740000e+03 1.9460000e+03 1.4018901e+05 5.8605000e+04\n",
      "  2.0548000e+03]\n",
      " [1.0800000e+02 9.3310000e+03 9.0000000e+01 7.5612100e+03 2.6810000e+03\n",
      "  1.1000000e+02]\n",
      " [3.2000000e+01 8.9300000e+03 2.0000000e+02 1.4549850e+04 7.5870000e+03\n",
      "  3.0720000e+02]\n",
      " ...\n",
      " [1.4600000e+02 9.5440000e+03 7.9000000e+01 1.2174270e+04 2.3380000e+03\n",
      "  9.6000000e+01]\n",
      " [9.8000000e+01 9.3180000e+03 1.7900000e+02 1.3714530e+04 6.2140000e+03\n",
      "  2.1050000e+02]\n",
      " [1.0500000e+02 8.9740000e+03 2.5600000e+02 6.8998100e+03 7.9450000e+03\n",
      "  2.7450000e+02]]\n",
      "549443\n",
      "549443\n",
      "[0.75646643 0.8697391  0.53596979 ... 0.88054972 0.67619452 0.05880887]\n"
     ]
    }
   ],
   "source": [
    "X = ML_dataset[Labels] #input\n",
    "y = ML_dataset[\"brand_percent_spending\"] #labels\n"
   ]
  },
  {
   "cell_type": "markdown",
   "metadata": {},
   "source": [
    "Splitting Data into Test and Train"
   ]
  },
  {
   "cell_type": "code",
   "execution_count": 10,
   "metadata": {
    "scrolled": true
   },
   "outputs": [],
   "source": [
    "X_train, X_test, y_train, y_test = train_test_split(X, y, test_size=0.25)\n",
    "#Split into Test and Train"
   ]
  },
  {
   "cell_type": "markdown",
   "metadata": {},
   "source": [
    "Fit Data into Random Forest Model with GridSearch Cross Validation"
   ]
  },
  {
   "cell_type": "code",
   "execution_count": 11,
   "metadata": {
    "scrolled": true
   },
   "outputs": [],
   "source": [
    "#fit data into random forest regression\n",
    "regressor = RandomForestRegressor()\n",
    "\n",
    "\n"
   ]
  },
  {
   "cell_type": "code",
   "execution_count": 12,
   "metadata": {
    "scrolled": false
   },
   "outputs": [
    {
     "name": "stderr",
     "output_type": "stream",
     "text": [
      "C:\\Users\\John Lee\\Anaconda3\\lib\\site-packages\\sklearn\\model_selection\\_split.py:2053: FutureWarning: You should specify a value for 'cv' instead of relying on the default value. The default value will change from 3 to 5 in version 0.22.\n",
      "  warnings.warn(CV_WARNING, FutureWarning)\n",
      "[Parallel(n_jobs=-2)]: Using backend LokyBackend with 7 concurrent workers.\n"
     ]
    },
    {
     "name": "stdout",
     "output_type": "stream",
     "text": [
      "Fitting 3 folds for each of 108 candidates, totalling 324 fits\n"
     ]
    },
    {
     "name": "stderr",
     "output_type": "stream",
     "text": [
      "[Parallel(n_jobs=-2)]: Done  36 tasks      | elapsed:  3.1min\n",
      "[Parallel(n_jobs=-2)]: Done 186 tasks      | elapsed: 25.2min\n",
      "[Parallel(n_jobs=-2)]: Done 324 out of 324 | elapsed: 96.0min finished\n"
     ]
    },
    {
     "ename": "AttributeError",
     "evalue": "'GridSearchCV' object has no attribute 'best_params'",
     "output_type": "error",
     "traceback": [
      "\u001b[1;31m---------------------------------------------------------------------------\u001b[0m",
      "\u001b[1;31mAttributeError\u001b[0m                            Traceback (most recent call last)",
      "\u001b[1;32m<ipython-input-12-036b6b4fec6c>\u001b[0m in \u001b[0;36m<module>\u001b[1;34m\u001b[0m\n\u001b[0;32m     10\u001b[0m \u001b[0mGSCV\u001b[0m \u001b[1;33m=\u001b[0m \u001b[0mGSCV\u001b[0m\u001b[1;33m.\u001b[0m\u001b[0mfit\u001b[0m\u001b[1;33m(\u001b[0m\u001b[0mX_train\u001b[0m\u001b[1;33m,\u001b[0m \u001b[0my_train\u001b[0m\u001b[1;33m)\u001b[0m\u001b[1;33m\u001b[0m\u001b[1;33m\u001b[0m\u001b[0m\n\u001b[0;32m     11\u001b[0m \u001b[0mdump\u001b[0m\u001b[1;33m(\u001b[0m\u001b[0mGSCV\u001b[0m\u001b[1;33m.\u001b[0m\u001b[0mbest_params_\u001b[0m\u001b[1;33m,\u001b[0m \u001b[1;34m\"RFR_bestparams\"\u001b[0m\u001b[1;33m)\u001b[0m \u001b[1;31m#save parameters\u001b[0m\u001b[1;33m\u001b[0m\u001b[1;33m\u001b[0m\u001b[0m\n\u001b[1;32m---> 12\u001b[1;33m \u001b[0mprint\u001b[0m\u001b[1;33m(\u001b[0m\u001b[0mGSCV\u001b[0m\u001b[1;33m.\u001b[0m\u001b[0mbest_params\u001b[0m\u001b[1;33m)\u001b[0m\u001b[1;33m\u001b[0m\u001b[1;33m\u001b[0m\u001b[0m\n\u001b[0m",
      "\u001b[1;31mAttributeError\u001b[0m: 'GridSearchCV' object has no attribute 'best_params'"
     ]
    }
   ],
   "source": [
    "parameters = {'n_estimators': [50, 100, 200], \n",
    "              'max_features': ['log2','sqrt','auto'],\n",
    "              'max_depth' : [3, 4, 5, None],\n",
    "              'min_samples_split' : [2, 3, 4]\n",
    "             }\n",
    "#'criterion': ['entropy', 'gini'],\n",
    "scorer = metrics.make_scorer(metrics.r2_score)\n",
    "\n",
    "GSCV = GSCV(regressor, param_grid =parameters, scoring = scorer, n_jobs = -2, verbose = 1)\n",
    "GSCV = GSCV.fit(X_train, y_train)\n",
    "dump(GSCV.best_estimator_, \"Model_Weights\\RFR\\RFR_best_model\") #save model \n",
    "print(GSCV.best_params_)\n"
   ]
  },
  {
   "cell_type": "code",
   "execution_count": 13,
   "metadata": {
    "scrolled": true
   },
   "outputs": [
    {
     "data": {
      "text/plain": [
       "RandomForestRegressor(bootstrap=True, criterion='mse', max_depth=None,\n",
       "           max_features='sqrt', max_leaf_nodes=None,\n",
       "           min_impurity_decrease=0.0, min_impurity_split=None,\n",
       "           min_samples_leaf=1, min_samples_split=4,\n",
       "           min_weight_fraction_leaf=0.0, n_estimators=200, n_jobs=None,\n",
       "           oob_score=False, random_state=None, verbose=0, warm_start=False)"
      ]
     },
     "execution_count": 13,
     "metadata": {},
     "output_type": "execute_result"
    }
   ],
   "source": [
    "regressor = GSCV.best_estimator_\n",
    "regressor.fit(X_train, y_train)"
   ]
  },
  {
   "cell_type": "markdown",
   "metadata": {},
   "source": [
    "Observe Results of CV"
   ]
  },
  {
   "cell_type": "code",
   "execution_count": 28,
   "metadata": {
    "scrolled": true
   },
   "outputs": [
    {
     "name": "stderr",
     "output_type": "stream",
     "text": [
      "C:\\Users\\John Lee\\Anaconda3\\lib\\site-packages\\sklearn\\utils\\deprecation.py:125: FutureWarning: You are accessing a training score ('split0_train_score'), which will not be available by default any more in 0.21. If you need training scores, please set return_train_score=True\n",
      "  warnings.warn(*warn_args, **warn_kwargs)\n",
      "C:\\Users\\John Lee\\Anaconda3\\lib\\site-packages\\sklearn\\utils\\deprecation.py:125: FutureWarning: You are accessing a training score ('split1_train_score'), which will not be available by default any more in 0.21. If you need training scores, please set return_train_score=True\n",
      "  warnings.warn(*warn_args, **warn_kwargs)\n",
      "C:\\Users\\John Lee\\Anaconda3\\lib\\site-packages\\sklearn\\utils\\deprecation.py:125: FutureWarning: You are accessing a training score ('split2_train_score'), which will not be available by default any more in 0.21. If you need training scores, please set return_train_score=True\n",
      "  warnings.warn(*warn_args, **warn_kwargs)\n",
      "C:\\Users\\John Lee\\Anaconda3\\lib\\site-packages\\sklearn\\utils\\deprecation.py:125: FutureWarning: You are accessing a training score ('mean_train_score'), which will not be available by default any more in 0.21. If you need training scores, please set return_train_score=True\n",
      "  warnings.warn(*warn_args, **warn_kwargs)\n",
      "C:\\Users\\John Lee\\Anaconda3\\lib\\site-packages\\sklearn\\utils\\deprecation.py:125: FutureWarning: You are accessing a training score ('std_train_score'), which will not be available by default any more in 0.21. If you need training scores, please set return_train_score=True\n",
      "  warnings.warn(*warn_args, **warn_kwargs)\n"
     ]
    },
    {
     "data": {
      "text/html": [
       "<div>\n",
       "<style scoped>\n",
       "    .dataframe tbody tr th:only-of-type {\n",
       "        vertical-align: middle;\n",
       "    }\n",
       "\n",
       "    .dataframe tbody tr th {\n",
       "        vertical-align: top;\n",
       "    }\n",
       "\n",
       "    .dataframe thead th {\n",
       "        text-align: right;\n",
       "    }\n",
       "</style>\n",
       "<table border=\"1\" class=\"dataframe\">\n",
       "  <thead>\n",
       "    <tr style=\"text-align: right;\">\n",
       "      <th></th>\n",
       "      <th>mean_fit_time</th>\n",
       "      <th>std_fit_time</th>\n",
       "      <th>mean_score_time</th>\n",
       "      <th>std_score_time</th>\n",
       "      <th>param_max_depth</th>\n",
       "      <th>param_max_features</th>\n",
       "      <th>param_min_samples_split</th>\n",
       "      <th>param_n_estimators</th>\n",
       "      <th>params</th>\n",
       "      <th>split0_test_score</th>\n",
       "      <th>split1_test_score</th>\n",
       "      <th>split2_test_score</th>\n",
       "      <th>mean_test_score</th>\n",
       "      <th>std_test_score</th>\n",
       "      <th>rank_test_score</th>\n",
       "      <th>split0_train_score</th>\n",
       "      <th>split1_train_score</th>\n",
       "      <th>split2_train_score</th>\n",
       "      <th>mean_train_score</th>\n",
       "      <th>std_train_score</th>\n",
       "    </tr>\n",
       "  </thead>\n",
       "  <tbody>\n",
       "    <tr>\n",
       "      <th>98</th>\n",
       "      <td>270.401480</td>\n",
       "      <td>0.785593</td>\n",
       "      <td>19.538507</td>\n",
       "      <td>0.454377</td>\n",
       "      <td>None</td>\n",
       "      <td>sqrt</td>\n",
       "      <td>4</td>\n",
       "      <td>200</td>\n",
       "      <td>{'max_depth': None, 'max_features': 'sqrt', 'm...</td>\n",
       "      <td>0.672869</td>\n",
       "      <td>0.672313</td>\n",
       "      <td>0.674482</td>\n",
       "      <td>0.673221</td>\n",
       "      <td>0.000920</td>\n",
       "      <td>1</td>\n",
       "      <td>0.933123</td>\n",
       "      <td>0.933203</td>\n",
       "      <td>0.933007</td>\n",
       "      <td>0.933111</td>\n",
       "      <td>0.000080</td>\n",
       "    </tr>\n",
       "    <tr>\n",
       "      <th>89</th>\n",
       "      <td>275.498150</td>\n",
       "      <td>1.714440</td>\n",
       "      <td>20.542502</td>\n",
       "      <td>0.934604</td>\n",
       "      <td>None</td>\n",
       "      <td>log2</td>\n",
       "      <td>4</td>\n",
       "      <td>200</td>\n",
       "      <td>{'max_depth': None, 'max_features': 'log2', 'm...</td>\n",
       "      <td>0.672812</td>\n",
       "      <td>0.671861</td>\n",
       "      <td>0.673957</td>\n",
       "      <td>0.672877</td>\n",
       "      <td>0.000857</td>\n",
       "      <td>2</td>\n",
       "      <td>0.933104</td>\n",
       "      <td>0.933157</td>\n",
       "      <td>0.932920</td>\n",
       "      <td>0.933060</td>\n",
       "      <td>0.000101</td>\n",
       "    </tr>\n",
       "    <tr>\n",
       "      <th>95</th>\n",
       "      <td>288.911478</td>\n",
       "      <td>5.110046</td>\n",
       "      <td>22.786341</td>\n",
       "      <td>0.572492</td>\n",
       "      <td>None</td>\n",
       "      <td>sqrt</td>\n",
       "      <td>3</td>\n",
       "      <td>200</td>\n",
       "      <td>{'max_depth': None, 'max_features': 'sqrt', 'm...</td>\n",
       "      <td>0.672114</td>\n",
       "      <td>0.671754</td>\n",
       "      <td>0.673890</td>\n",
       "      <td>0.672586</td>\n",
       "      <td>0.000934</td>\n",
       "      <td>3</td>\n",
       "      <td>0.945037</td>\n",
       "      <td>0.945194</td>\n",
       "      <td>0.944915</td>\n",
       "      <td>0.945049</td>\n",
       "      <td>0.000114</td>\n",
       "    </tr>\n",
       "    <tr>\n",
       "      <th>86</th>\n",
       "      <td>305.506694</td>\n",
       "      <td>6.847262</td>\n",
       "      <td>25.553730</td>\n",
       "      <td>1.746380</td>\n",
       "      <td>None</td>\n",
       "      <td>log2</td>\n",
       "      <td>3</td>\n",
       "      <td>200</td>\n",
       "      <td>{'max_depth': None, 'max_features': 'log2', 'm...</td>\n",
       "      <td>0.671731</td>\n",
       "      <td>0.671721</td>\n",
       "      <td>0.673905</td>\n",
       "      <td>0.672452</td>\n",
       "      <td>0.001027</td>\n",
       "      <td>4</td>\n",
       "      <td>0.945155</td>\n",
       "      <td>0.945275</td>\n",
       "      <td>0.944938</td>\n",
       "      <td>0.945123</td>\n",
       "      <td>0.000139</td>\n",
       "    </tr>\n",
       "    <tr>\n",
       "      <th>83</th>\n",
       "      <td>308.039405</td>\n",
       "      <td>4.242206</td>\n",
       "      <td>79.667932</td>\n",
       "      <td>1.169866</td>\n",
       "      <td>None</td>\n",
       "      <td>log2</td>\n",
       "      <td>2</td>\n",
       "      <td>200</td>\n",
       "      <td>{'max_depth': None, 'max_features': 'log2', 'm...</td>\n",
       "      <td>0.671781</td>\n",
       "      <td>0.671360</td>\n",
       "      <td>0.673307</td>\n",
       "      <td>0.672149</td>\n",
       "      <td>0.000836</td>\n",
       "      <td>5</td>\n",
       "      <td>0.954911</td>\n",
       "      <td>0.954869</td>\n",
       "      <td>0.954740</td>\n",
       "      <td>0.954840</td>\n",
       "      <td>0.000073</td>\n",
       "    </tr>\n",
       "  </tbody>\n",
       "</table>\n",
       "</div>"
      ],
      "text/plain": [
       "    mean_fit_time  std_fit_time  mean_score_time  std_score_time  \\\n",
       "98     270.401480      0.785593        19.538507        0.454377   \n",
       "89     275.498150      1.714440        20.542502        0.934604   \n",
       "95     288.911478      5.110046        22.786341        0.572492   \n",
       "86     305.506694      6.847262        25.553730        1.746380   \n",
       "83     308.039405      4.242206        79.667932        1.169866   \n",
       "\n",
       "   param_max_depth param_max_features param_min_samples_split  \\\n",
       "98            None               sqrt                       4   \n",
       "89            None               log2                       4   \n",
       "95            None               sqrt                       3   \n",
       "86            None               log2                       3   \n",
       "83            None               log2                       2   \n",
       "\n",
       "   param_n_estimators                                             params  \\\n",
       "98                200  {'max_depth': None, 'max_features': 'sqrt', 'm...   \n",
       "89                200  {'max_depth': None, 'max_features': 'log2', 'm...   \n",
       "95                200  {'max_depth': None, 'max_features': 'sqrt', 'm...   \n",
       "86                200  {'max_depth': None, 'max_features': 'log2', 'm...   \n",
       "83                200  {'max_depth': None, 'max_features': 'log2', 'm...   \n",
       "\n",
       "    split0_test_score  split1_test_score  split2_test_score  mean_test_score  \\\n",
       "98           0.672869           0.672313           0.674482         0.673221   \n",
       "89           0.672812           0.671861           0.673957         0.672877   \n",
       "95           0.672114           0.671754           0.673890         0.672586   \n",
       "86           0.671731           0.671721           0.673905         0.672452   \n",
       "83           0.671781           0.671360           0.673307         0.672149   \n",
       "\n",
       "    std_test_score  rank_test_score  split0_train_score  split1_train_score  \\\n",
       "98        0.000920                1            0.933123            0.933203   \n",
       "89        0.000857                2            0.933104            0.933157   \n",
       "95        0.000934                3            0.945037            0.945194   \n",
       "86        0.001027                4            0.945155            0.945275   \n",
       "83        0.000836                5            0.954911            0.954869   \n",
       "\n",
       "    split2_train_score  mean_train_score  std_train_score  \n",
       "98            0.933007          0.933111         0.000080  \n",
       "89            0.932920          0.933060         0.000101  \n",
       "95            0.944915          0.945049         0.000114  \n",
       "86            0.944938          0.945123         0.000139  \n",
       "83            0.954740          0.954840         0.000073  "
      ]
     },
     "execution_count": 28,
     "metadata": {},
     "output_type": "execute_result"
    }
   ],
   "source": [
    "CV = pd.DataFrame(GSCV.cv_results_)\n",
    "CV.sort_values(\"rank_test_score\", inplace = True)\n",
    "CV.head()"
   ]
  },
  {
   "cell_type": "markdown",
   "metadata": {},
   "source": [
    "Feature Importances"
   ]
  },
  {
   "cell_type": "code",
   "execution_count": 15,
   "metadata": {},
   "outputs": [
    {
     "name": "stdout",
     "output_type": "stream",
     "text": [
      "[0.25393144 0.05958798 0.13201283 0.33231171 0.10435975 0.11779629]\n"
     ]
    }
   ],
   "source": [
    "print(regressor.feature_importances_)"
   ]
  },
  {
   "cell_type": "code",
   "execution_count": 16,
   "metadata": {
    "scrolled": false
   },
   "outputs": [
    {
     "data": {
      "text/html": [
       "<div>\n",
       "<style scoped>\n",
       "    .dataframe tbody tr th:only-of-type {\n",
       "        vertical-align: middle;\n",
       "    }\n",
       "\n",
       "    .dataframe tbody tr th {\n",
       "        vertical-align: top;\n",
       "    }\n",
       "\n",
       "    .dataframe thead th {\n",
       "        text-align: right;\n",
       "    }\n",
       "</style>\n",
       "<table border=\"1\" class=\"dataframe\">\n",
       "  <thead>\n",
       "    <tr style=\"text-align: right;\">\n",
       "      <th></th>\n",
       "      <th>Importances</th>\n",
       "    </tr>\n",
       "  </thead>\n",
       "  <tbody>\n",
       "    <tr>\n",
       "      <th>total_drug_cost</th>\n",
       "      <td>0.332312</td>\n",
       "    </tr>\n",
       "    <tr>\n",
       "      <th>specialty_description</th>\n",
       "      <td>0.253931</td>\n",
       "    </tr>\n",
       "    <tr>\n",
       "      <th>total_claim_count</th>\n",
       "      <td>0.132013</td>\n",
       "    </tr>\n",
       "    <tr>\n",
       "      <th>total_30_day_fill_count</th>\n",
       "      <td>0.117796</td>\n",
       "    </tr>\n",
       "    <tr>\n",
       "      <th>total_day_supply</th>\n",
       "      <td>0.104360</td>\n",
       "    </tr>\n",
       "    <tr>\n",
       "      <th>nppes_provider_city</th>\n",
       "      <td>0.059588</td>\n",
       "    </tr>\n",
       "  </tbody>\n",
       "</table>\n",
       "</div>"
      ],
      "text/plain": [
       "                         Importances\n",
       "total_drug_cost             0.332312\n",
       "specialty_description       0.253931\n",
       "total_claim_count           0.132013\n",
       "total_30_day_fill_count     0.117796\n",
       "total_day_supply            0.104360\n",
       "nppes_provider_city         0.059588"
      ]
     },
     "execution_count": 16,
     "metadata": {},
     "output_type": "execute_result"
    }
   ],
   "source": [
    "coeff_df = pd.DataFrame( regressor.feature_importances_, Labels, columns=['Importances'])  \n",
    "coeff_df = coeff_df[coeff_df[\"Importances\"] != 0]\n",
    "coeff_df.sort_values(\"Importances\" ,ascending = False)"
   ]
  },
  {
   "cell_type": "markdown",
   "metadata": {},
   "source": [
    "Predictions"
   ]
  },
  {
   "cell_type": "code",
   "execution_count": 17,
   "metadata": {},
   "outputs": [],
   "source": [
    "y_pred = regressor.predict(X_test)"
   ]
  },
  {
   "cell_type": "code",
   "execution_count": 18,
   "metadata": {},
   "outputs": [
    {
     "data": {
      "text/html": [
       "<div>\n",
       "<style scoped>\n",
       "    .dataframe tbody tr th:only-of-type {\n",
       "        vertical-align: middle;\n",
       "    }\n",
       "\n",
       "    .dataframe tbody tr th {\n",
       "        vertical-align: top;\n",
       "    }\n",
       "\n",
       "    .dataframe thead th {\n",
       "        text-align: right;\n",
       "    }\n",
       "</style>\n",
       "<table border=\"1\" class=\"dataframe\">\n",
       "  <thead>\n",
       "    <tr style=\"text-align: right;\">\n",
       "      <th></th>\n",
       "      <th>Actual</th>\n",
       "      <th>Predicted</th>\n",
       "    </tr>\n",
       "  </thead>\n",
       "  <tbody>\n",
       "    <tr>\n",
       "      <th>0</th>\n",
       "      <td>0.516974</td>\n",
       "      <td>0.555694</td>\n",
       "    </tr>\n",
       "    <tr>\n",
       "      <th>1</th>\n",
       "      <td>0.666674</td>\n",
       "      <td>0.723203</td>\n",
       "    </tr>\n",
       "    <tr>\n",
       "      <th>2</th>\n",
       "      <td>0.699018</td>\n",
       "      <td>0.698524</td>\n",
       "    </tr>\n",
       "    <tr>\n",
       "      <th>3</th>\n",
       "      <td>0.883546</td>\n",
       "      <td>0.790975</td>\n",
       "    </tr>\n",
       "    <tr>\n",
       "      <th>4</th>\n",
       "      <td>0.937152</td>\n",
       "      <td>0.909001</td>\n",
       "    </tr>\n",
       "    <tr>\n",
       "      <th>5</th>\n",
       "      <td>0.797528</td>\n",
       "      <td>0.760545</td>\n",
       "    </tr>\n",
       "    <tr>\n",
       "      <th>6</th>\n",
       "      <td>0.680979</td>\n",
       "      <td>0.655433</td>\n",
       "    </tr>\n",
       "    <tr>\n",
       "      <th>7</th>\n",
       "      <td>0.821024</td>\n",
       "      <td>0.858514</td>\n",
       "    </tr>\n",
       "    <tr>\n",
       "      <th>8</th>\n",
       "      <td>0.980754</td>\n",
       "      <td>0.972974</td>\n",
       "    </tr>\n",
       "    <tr>\n",
       "      <th>9</th>\n",
       "      <td>0.639447</td>\n",
       "      <td>0.755234</td>\n",
       "    </tr>\n",
       "    <tr>\n",
       "      <th>10</th>\n",
       "      <td>0.780805</td>\n",
       "      <td>0.751479</td>\n",
       "    </tr>\n",
       "    <tr>\n",
       "      <th>11</th>\n",
       "      <td>0.689270</td>\n",
       "      <td>0.663316</td>\n",
       "    </tr>\n",
       "    <tr>\n",
       "      <th>12</th>\n",
       "      <td>0.479163</td>\n",
       "      <td>0.587709</td>\n",
       "    </tr>\n",
       "    <tr>\n",
       "      <th>13</th>\n",
       "      <td>0.257725</td>\n",
       "      <td>0.575816</td>\n",
       "    </tr>\n",
       "    <tr>\n",
       "      <th>14</th>\n",
       "      <td>0.715131</td>\n",
       "      <td>0.710351</td>\n",
       "    </tr>\n",
       "    <tr>\n",
       "      <th>15</th>\n",
       "      <td>0.925492</td>\n",
       "      <td>0.888120</td>\n",
       "    </tr>\n",
       "    <tr>\n",
       "      <th>16</th>\n",
       "      <td>0.545398</td>\n",
       "      <td>0.537308</td>\n",
       "    </tr>\n",
       "    <tr>\n",
       "      <th>17</th>\n",
       "      <td>0.598867</td>\n",
       "      <td>0.635956</td>\n",
       "    </tr>\n",
       "    <tr>\n",
       "      <th>18</th>\n",
       "      <td>0.730502</td>\n",
       "      <td>0.730101</td>\n",
       "    </tr>\n",
       "    <tr>\n",
       "      <th>19</th>\n",
       "      <td>0.164907</td>\n",
       "      <td>0.355085</td>\n",
       "    </tr>\n",
       "    <tr>\n",
       "      <th>20</th>\n",
       "      <td>0.980783</td>\n",
       "      <td>0.908428</td>\n",
       "    </tr>\n",
       "    <tr>\n",
       "      <th>21</th>\n",
       "      <td>0.666907</td>\n",
       "      <td>0.648937</td>\n",
       "    </tr>\n",
       "    <tr>\n",
       "      <th>22</th>\n",
       "      <td>0.654809</td>\n",
       "      <td>0.702880</td>\n",
       "    </tr>\n",
       "    <tr>\n",
       "      <th>23</th>\n",
       "      <td>0.797872</td>\n",
       "      <td>0.706601</td>\n",
       "    </tr>\n",
       "    <tr>\n",
       "      <th>24</th>\n",
       "      <td>0.771099</td>\n",
       "      <td>0.754673</td>\n",
       "    </tr>\n",
       "  </tbody>\n",
       "</table>\n",
       "</div>"
      ],
      "text/plain": [
       "      Actual  Predicted\n",
       "0   0.516974   0.555694\n",
       "1   0.666674   0.723203\n",
       "2   0.699018   0.698524\n",
       "3   0.883546   0.790975\n",
       "4   0.937152   0.909001\n",
       "5   0.797528   0.760545\n",
       "6   0.680979   0.655433\n",
       "7   0.821024   0.858514\n",
       "8   0.980754   0.972974\n",
       "9   0.639447   0.755234\n",
       "10  0.780805   0.751479\n",
       "11  0.689270   0.663316\n",
       "12  0.479163   0.587709\n",
       "13  0.257725   0.575816\n",
       "14  0.715131   0.710351\n",
       "15  0.925492   0.888120\n",
       "16  0.545398   0.537308\n",
       "17  0.598867   0.635956\n",
       "18  0.730502   0.730101\n",
       "19  0.164907   0.355085\n",
       "20  0.980783   0.908428\n",
       "21  0.666907   0.648937\n",
       "22  0.654809   0.702880\n",
       "23  0.797872   0.706601\n",
       "24  0.771099   0.754673"
      ]
     },
     "execution_count": 18,
     "metadata": {},
     "output_type": "execute_result"
    }
   ],
   "source": [
    "comparison_df = pd.DataFrame({'Actual': y_test, 'Predicted': y_pred})\n",
    "comparison_df.head(25)\n"
   ]
  },
  {
   "cell_type": "code",
   "execution_count": 19,
   "metadata": {
    "scrolled": true
   },
   "outputs": [
    {
     "data": {
      "image/png": "[encoded data removed]",
      "text/plain": [
       "<Figure size 720x576 with 1 Axes>"
      ]
     },
     "metadata": {
      "needs_background": "light"
     },
     "output_type": "display_data"
    }
   ],
   "source": [
    "comparison_df.iloc[0:25].plot(kind='bar',figsize=(10,8))\n",
    "plt.grid(which='major', linestyle='-', linewidth='0.5', color='green')\n",
    "plt.grid(which='minor', linestyle=':', linewidth='0.5', color='black')\n",
    "plt.show()"
   ]
  },
  {
   "cell_type": "code",
   "execution_count": 20,
   "metadata": {},
   "outputs": [
    {
     "data": {
      "text/plain": [
       "Text(0, 0.5, 'Predicted')"
      ]
     },
     "execution_count": 20,
     "metadata": {},
     "output_type": "execute_result"
    },
    {
     "data": {
      "image/png": "[encoded data removed]",
      "text/plain": [
       "<Figure size 432x288 with 1 Axes>"
      ]
     },
     "metadata": {
      "needs_background": "light"
     },
     "output_type": "display_data"
    }
   ],
   "source": [
    "plt.scatter(comparison_df.iloc[0:1000][\"Actual\"], comparison_df.iloc[0:1000][\"Predicted\"], alpha = .25)\n",
    "plt.xlabel(\"Actual\", fontsize = 16) #scatter plot of specialty combined data\n",
    "plt.ylabel(\"Predicted\",  fontsize = 16)"
   ]
  },
  {
   "cell_type": "markdown",
   "metadata": {},
   "source": [
    "Statistics"
   ]
  },
  {
   "cell_type": "code",
   "execution_count": 21,
   "metadata": {
    "scrolled": false
   },
   "outputs": [
    {
     "name": "stdout",
     "output_type": "stream",
     "text": [
      "r Squared: 0.681780802691228\n"
     ]
    }
   ],
   "source": [
    "print(\"r Squared:\", metrics.r2_score(y_test, y_pred))\n",
    "rsq = metrics.r2_score(y_test, y_pred)"
   ]
  },
  {
   "cell_type": "code",
   "execution_count": 22,
   "metadata": {
    "scrolled": true
   },
   "outputs": [
    {
     "name": "stdout",
     "output_type": "stream",
     "text": [
      "Mean Absolute Error: 0.07894604796889222\n",
      "Mean Squared Error: 0.013033911084408338\n"
     ]
    }
   ],
   "source": [
    "print('Mean Absolute Error:', metrics.mean_absolute_error(y_test, y_pred)) \n",
    "mae = metrics.mean_absolute_error(y_test, y_pred)\n",
    "print('Mean Squared Error:', metrics.mean_squared_error(y_test, y_pred))\n",
    "mse = metrics.mean_squared_error(y_test, y_pred)"
   ]
  },
  {
   "cell_type": "code",
   "execution_count": 23,
   "metadata": {},
   "outputs": [],
   "source": [
    "metrics_df = pd.read_csv(\"data\\metrics_df.csv\")"
   ]
  },
  {
   "cell_type": "code",
   "execution_count": 24,
   "metadata": {
    "scrolled": true
   },
   "outputs": [],
   "source": [
    "metrics_df = metrics_df.append({\"Input\": Labels, \"R Squared\": rsq, \"Mean Absolute Error\": mae, \"Mean Squared Error\": mse, \"Model\": \"Random Forest\"}, ignore_index=True)"
   ]
  },
  {
   "cell_type": "code",
   "execution_count": 41,
   "metadata": {
    "scrolled": true
   },
   "outputs": [
    {
     "data": {
      "text/html": [
       "<div>\n",
       "<style scoped>\n",
       "    .dataframe tbody tr th:only-of-type {\n",
       "        vertical-align: middle;\n",
       "    }\n",
       "\n",
       "    .dataframe tbody tr th {\n",
       "        vertical-align: top;\n",
       "    }\n",
       "\n",
       "    .dataframe thead th {\n",
       "        text-align: right;\n",
       "    }\n",
       "</style>\n",
       "<table border=\"1\" class=\"dataframe\">\n",
       "  <thead>\n",
       "    <tr style=\"text-align: right;\">\n",
       "      <th></th>\n",
       "      <th>Input</th>\n",
       "      <th>R Squared</th>\n",
       "      <th>Mean Absolute Error</th>\n",
       "      <th>Mean Squared Error</th>\n",
       "      <th>Model</th>\n",
       "    </tr>\n",
       "  </thead>\n",
       "  <tbody>\n",
       "    <tr>\n",
       "      <th>24</th>\n",
       "      <td>['specialty_description', 'nppes_provider_city...</td>\n",
       "      <td>0.684378</td>\n",
       "      <td>0.076955</td>\n",
       "      <td>0.012896</td>\n",
       "      <td>Random Forest</td>\n",
       "    </tr>\n",
       "    <tr>\n",
       "      <th>25</th>\n",
       "      <td>['specialty_description', 'nppes_provider_city...</td>\n",
       "      <td>0.688137</td>\n",
       "      <td>0.076948</td>\n",
       "      <td>0.012803</td>\n",
       "      <td>Random Forest</td>\n",
       "    </tr>\n",
       "    <tr>\n",
       "      <th>26</th>\n",
       "      <td>['specialty_description', 'nppes_provider_city...</td>\n",
       "      <td>0.688083</td>\n",
       "      <td>0.076709</td>\n",
       "      <td>0.012777</td>\n",
       "      <td>Random Forest</td>\n",
       "    </tr>\n",
       "    <tr>\n",
       "      <th>27</th>\n",
       "      <td>['specialty_description', 'nppes_provider_city...</td>\n",
       "      <td>0.674364</td>\n",
       "      <td>0.079523</td>\n",
       "      <td>0.013374</td>\n",
       "      <td>Random Forest</td>\n",
       "    </tr>\n",
       "    <tr>\n",
       "      <th>28</th>\n",
       "      <td>[specialty_description, nppes_provider_city, t...</td>\n",
       "      <td>0.681781</td>\n",
       "      <td>0.078946</td>\n",
       "      <td>0.013034</td>\n",
       "      <td>Random Forest</td>\n",
       "    </tr>\n",
       "  </tbody>\n",
       "</table>\n",
       "</div>"
      ],
      "text/plain": [
       "                                                Input  R Squared  \\\n",
       "24  ['specialty_description', 'nppes_provider_city...   0.684378   \n",
       "25  ['specialty_description', 'nppes_provider_city...   0.688137   \n",
       "26  ['specialty_description', 'nppes_provider_city...   0.688083   \n",
       "27  ['specialty_description', 'nppes_provider_city...   0.674364   \n",
       "28  [specialty_description, nppes_provider_city, t...   0.681781   \n",
       "\n",
       "    Mean Absolute Error  Mean Squared Error          Model  \n",
       "24             0.076955            0.012896  Random Forest  \n",
       "25             0.076948            0.012803  Random Forest  \n",
       "26             0.076709            0.012777  Random Forest  \n",
       "27             0.079523            0.013374  Random Forest  \n",
       "28             0.078946            0.013034  Random Forest  "
      ]
     },
     "execution_count": 41,
     "metadata": {},
     "output_type": "execute_result"
    }
   ],
   "source": [
    "metrics_df.tail()"
   ]
  },
  {
   "cell_type": "code",
   "execution_count": 38,
   "metadata": {},
   "outputs": [],
   "source": [
    "metrics_df.to_csv(\"data\\metrics_df.csv\", index = False)"
   ]
  },
  {
   "cell_type": "markdown",
   "metadata": {},
   "source": [
    "Save the Trained Model"
   ]
  },
  {
   "cell_type": "code",
   "execution_count": 45,
   "metadata": {},
   "outputs": [
    {
     "data": {
      "text/plain": [
       "['Model_Weights\\\\RFR\\\\RFR_trainedModel']"
      ]
     },
     "execution_count": 45,
     "metadata": {},
     "output_type": "execute_result"
    }
   ],
   "source": [
    "dump(regressor, \"Model_Weights\\RFR\\RFR_trainedModel\") "
   ]
  },
  {
   "cell_type": "code",
   "execution_count": null,
   "metadata": {},
   "outputs": [],
   "source": []
  }
 ],
 "metadata": {
  "kernelspec": {
   "display_name": "Python 3",
   "language": "python",
   "name": "python3"
  },
  "language_info": {
   "codemirror_mode": {
    "name": "ipython",
    "version": 3
   },
   "file_extension": ".py",
   "mimetype": "text/x-python",
   "name": "python",
   "nbconvert_exporter": "python",
   "pygments_lexer": "ipython3",
   "version": "3.7.3"
  }
 },
 "nbformat": 4,
 "nbformat_minor": 2
}
