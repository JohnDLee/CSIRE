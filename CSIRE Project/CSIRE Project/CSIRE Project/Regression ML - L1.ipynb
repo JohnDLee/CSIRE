{
 "cells": [
  {
   "cell_type": "markdown",
   "metadata": {},
   "source": [
    "    Beginning the Regression Preparation"
   ]
  },
  {
   "cell_type": "code",
   "execution_count": 1,
   "metadata": {},
   "outputs": [],
   "source": [
    "\n",
    "import pandas as pd"
   ]
  },
  {
   "cell_type": "markdown",
   "metadata": {},
   "source": [
    "Building a MultiVariate Regression Model taking in Drug Claim Counts"
   ]
  },
  {
   "cell_type": "code",
   "execution_count": 2,
   "metadata": {},
   "outputs": [],
   "source": [
    "import numpy as np  \n",
    "import matplotlib.pyplot as plt  \n",
    "import seaborn as seabornInstance \n",
    "from sklearn.model_selection import train_test_split \n",
    "from sklearn.linear_model import Lasso, LassoCV\n",
    "from sklearn import metrics\n",
    "from sklearn.decomposition import PCA\n",
    "from sklearn.preprocessing import StandardScaler\n",
    "%matplotlib inline\n",
    "pd.set_option(\"display.max_columns\", 150) #increase column options"
   ]
  },
  {
   "cell_type": "code",
   "execution_count": 3,
   "metadata": {},
   "outputs": [],
   "source": [
    "ML_dataset = pd.read_csv(\"data\\ML_dataset.csv\")"
   ]
  },
  {
   "cell_type": "code",
   "execution_count": 4,
   "metadata": {
    "scrolled": false
   },
   "outputs": [
    {
     "data": {
      "text/html": [
       "<div>\n",
       "<style scoped>\n",
       "    .dataframe tbody tr th:only-of-type {\n",
       "        vertical-align: middle;\n",
       "    }\n",
       "\n",
       "    .dataframe tbody tr th {\n",
       "        vertical-align: top;\n",
       "    }\n",
       "\n",
       "    .dataframe thead th {\n",
       "        text-align: right;\n",
       "    }\n",
       "</style>\n",
       "<table border=\"1\" class=\"dataframe\">\n",
       "  <thead>\n",
       "    <tr style=\"text-align: right;\">\n",
       "      <th></th>\n",
       "      <th>specialty_description</th>\n",
       "      <th>nppes_provider_city</th>\n",
       "      <th>total_claim_count</th>\n",
       "      <th>total_drug_cost</th>\n",
       "      <th>total_day_supply</th>\n",
       "      <th>total_30_day_fill_count</th>\n",
       "      <th>bene_count</th>\n",
       "      <th>brand_percent_spending</th>\n",
       "    </tr>\n",
       "  </thead>\n",
       "  <tbody>\n",
       "    <tr>\n",
       "      <th>0</th>\n",
       "      <td>39</td>\n",
       "      <td>9174</td>\n",
       "      <td>1946</td>\n",
       "      <td>140189.01</td>\n",
       "      <td>58605</td>\n",
       "      <td>2054.8</td>\n",
       "      <td>276.0</td>\n",
       "      <td>0.756466</td>\n",
       "    </tr>\n",
       "    <tr>\n",
       "      <th>1</th>\n",
       "      <td>108</td>\n",
       "      <td>9331</td>\n",
       "      <td>90</td>\n",
       "      <td>7561.21</td>\n",
       "      <td>2681</td>\n",
       "      <td>110.0</td>\n",
       "      <td>11.0</td>\n",
       "      <td>0.869739</td>\n",
       "    </tr>\n",
       "    <tr>\n",
       "      <th>2</th>\n",
       "      <td>32</td>\n",
       "      <td>8930</td>\n",
       "      <td>200</td>\n",
       "      <td>14549.85</td>\n",
       "      <td>7587</td>\n",
       "      <td>307.2</td>\n",
       "      <td>65.0</td>\n",
       "      <td>0.535970</td>\n",
       "    </tr>\n",
       "    <tr>\n",
       "      <th>3</th>\n",
       "      <td>70</td>\n",
       "      <td>3003</td>\n",
       "      <td>4981</td>\n",
       "      <td>258258.70</td>\n",
       "      <td>337309</td>\n",
       "      <td>11494.1</td>\n",
       "      <td>459.0</td>\n",
       "      <td>0.567573</td>\n",
       "    </tr>\n",
       "    <tr>\n",
       "      <th>4</th>\n",
       "      <td>88</td>\n",
       "      <td>7343</td>\n",
       "      <td>7165</td>\n",
       "      <td>379661.02</td>\n",
       "      <td>333309</td>\n",
       "      <td>11406.5</td>\n",
       "      <td>461.0</td>\n",
       "      <td>0.724479</td>\n",
       "    </tr>\n",
       "  </tbody>\n",
       "</table>\n",
       "</div>"
      ],
      "text/plain": [
       "   specialty_description  nppes_provider_city  total_claim_count  \\\n",
       "0                     39                 9174               1946   \n",
       "1                    108                 9331                 90   \n",
       "2                     32                 8930                200   \n",
       "3                     70                 3003               4981   \n",
       "4                     88                 7343               7165   \n",
       "\n",
       "   total_drug_cost  total_day_supply  total_30_day_fill_count  bene_count  \\\n",
       "0        140189.01             58605                   2054.8       276.0   \n",
       "1          7561.21              2681                    110.0        11.0   \n",
       "2         14549.85              7587                    307.2        65.0   \n",
       "3        258258.70            337309                  11494.1       459.0   \n",
       "4        379661.02            333309                  11406.5       461.0   \n",
       "\n",
       "   brand_percent_spending  \n",
       "0                0.756466  \n",
       "1                0.869739  \n",
       "2                0.535970  \n",
       "3                0.567573  \n",
       "4                0.724479  "
      ]
     },
     "execution_count": 4,
     "metadata": {},
     "output_type": "execute_result"
    }
   ],
   "source": [
    "ML_dataset.head()"
   ]
  },
  {
   "cell_type": "markdown",
   "metadata": {},
   "source": [
    "\n",
    "\n",
    "Begin Model Building and Fitting"
   ]
  },
  {
   "cell_type": "markdown",
   "metadata": {},
   "source": [
    "Input and Output"
   ]
  },
  {
   "cell_type": "code",
   "execution_count": 5,
   "metadata": {},
   "outputs": [
    {
     "name": "stdout",
     "output_type": "stream",
     "text": [
      "['specialty_description', 'nppes_provider_city', 'total_claim_count', 'total_drug_cost', 'total_day_supply', 'total_30_day_fill_count', 'bene_count']\n"
     ]
    }
   ],
   "source": [
    "Labels = ML_dataset.drop(\"brand_percent_spending\", axis=1).columns.tolist() #columns of drugs\n",
    "print(Labels)"
   ]
  },
  {
   "cell_type": "code",
   "execution_count": 6,
   "metadata": {
    "scrolled": true
   },
   "outputs": [],
   "source": [
    "X = ML_dataset[Labels]\n",
    "y = ML_dataset[\"brand_percent_spending\"]\n"
   ]
  },
  {
   "cell_type": "markdown",
   "metadata": {},
   "source": [
    "PCA Feature Selection with Scaling"
   ]
  },
  {
   "cell_type": "code",
   "execution_count": 7,
   "metadata": {
    "scrolled": true
   },
   "outputs": [
    {
     "name": "stderr",
     "output_type": "stream",
     "text": [
      "C:\\Users\\John Lee\\Anaconda3\\lib\\site-packages\\sklearn\\preprocessing\\data.py:645: DataConversionWarning: Data with input dtype int64, float64 were all converted to float64 by StandardScaler.\n",
      "  return self.partial_fit(X, y)\n",
      "C:\\Users\\John Lee\\Anaconda3\\lib\\site-packages\\sklearn\\base.py:464: DataConversionWarning: Data with input dtype int64, float64 were all converted to float64 by StandardScaler.\n",
      "  return self.fit(X, **fit_params).transform(X)\n"
     ]
    }
   ],
   "source": [
    "#X = StandardScaler().fit_transform(X)"
   ]
  },
  {
   "cell_type": "code",
   "execution_count": 8,
   "metadata": {},
   "outputs": [],
   "source": [
    "PCA = PCA(n_components = 'mle')\n",
    "X = PCA.fit_transform(X)"
   ]
  },
  {
   "cell_type": "code",
   "execution_count": 9,
   "metadata": {
    "scrolled": false
   },
   "outputs": [
    {
     "name": "stdout",
     "output_type": "stream",
     "text": [
      "[3.98344151 1.11966348 0.95046821 0.5165188  0.35340836 0.07321407]\n"
     ]
    }
   ],
   "source": [
    "print(PCA.explained_variance_ratio_)  "
   ]
  },
  {
   "cell_type": "code",
   "execution_count": 13,
   "metadata": {},
   "outputs": [
    {
     "data": {
      "text/plain": [
       "['total_30_day_fill_count',\n",
       " 'specialty_description',\n",
       " 'nppes_provider_city',\n",
       " 'total_drug_cost',\n",
       " 'bene_count',\n",
       " 'total_claim_count']"
      ]
     },
     "execution_count": 13,
     "metadata": {},
     "output_type": "execute_result"
    }
   ],
   "source": [
    "most_important = [np.abs(PCA.components_[i]).argmax() for i in range(len(PCA.components_))]\n",
    "most_important_names = [Labels[most_important[i]] for i in range(len(PCA.components_))]\n",
    "dic = {'PC{}'.format(i+1): most_important_names[i] for i in range(len(PCA.components_))}\n",
    "newLabels = list(dic.values())\n",
    "newLabels"
   ]
  },
  {
   "cell_type": "markdown",
   "metadata": {},
   "source": [
    "Splitting Data into Test and Train"
   ]
  },
  {
   "cell_type": "code",
   "execution_count": 14,
   "metadata": {
    "scrolled": true
   },
   "outputs": [],
   "source": [
    "X_train, X_test, y_train, y_test = train_test_split(X, y, test_size=0.25)\n",
    "#Split into Test and Train\n"
   ]
  },
  {
   "cell_type": "markdown",
   "metadata": {},
   "source": [
    "Fit data into Lasso/L1 Model"
   ]
  },
  {
   "cell_type": "code",
   "execution_count": 15,
   "metadata": {
    "scrolled": true
   },
   "outputs": [
    {
     "name": "stderr",
     "output_type": "stream",
     "text": [
      "C:\\Users\\John Lee\\Anaconda3\\lib\\site-packages\\sklearn\\model_selection\\_split.py:2053: FutureWarning: You should specify a value for 'cv' instead of relying on the default value. The default value will change from 3 to 5 in version 0.22.\n",
      "  warnings.warn(CV_WARNING, FutureWarning)\n",
      "C:\\Users\\John Lee\\Anaconda3\\lib\\site-packages\\sklearn\\linear_model\\coordinate_descent.py:474: UserWarning: Coordinate descent with alpha=0 may lead to unexpected results and is discouraged.\n",
      "  tol, rng, random, positive)\n",
      "C:\\Users\\John Lee\\Anaconda3\\lib\\site-packages\\sklearn\\linear_model\\coordinate_descent.py:474: UserWarning: Coordinate descent with alpha=0 may lead to unexpected results and is discouraged.\n",
      "  tol, rng, random, positive)\n",
      "C:\\Users\\John Lee\\Anaconda3\\lib\\site-packages\\sklearn\\linear_model\\coordinate_descent.py:474: UserWarning: Coordinate descent with alpha=0 may lead to unexpected results and is discouraged.\n",
      "  tol, rng, random, positive)\n",
      "C:\\Users\\John Lee\\Anaconda3\\lib\\site-packages\\sklearn\\linear_model\\coordinate_descent.py:1239: UserWarning: With alpha=0, this algorithm does not converge well. You are advised to use the LinearRegression estimator\n",
      "  model.fit(X, y)\n",
      "C:\\Users\\John Lee\\Anaconda3\\lib\\site-packages\\sklearn\\linear_model\\coordinate_descent.py:478: UserWarning: Coordinate descent with no regularization may lead to unexpected results and is discouraged.\n",
      "  positive)\n",
      "C:\\Users\\John Lee\\Anaconda3\\lib\\site-packages\\sklearn\\linear_model\\coordinate_descent.py:492: ConvergenceWarning: Objective did not converge. You might want to increase the number of iterations. Fitting data with very small alpha may cause precision problems.\n",
      "  ConvergenceWarning)\n"
     ]
    },
    {
     "data": {
      "text/plain": [
       "LassoCV(alphas=[1, 0.5, 0.1, 0], copy_X=True, cv='warn', eps=0.001,\n",
       "    fit_intercept=True, max_iter=1000, n_alphas=100, n_jobs=None,\n",
       "    normalize=False, positive=True, precompute='auto', random_state=None,\n",
       "    selection='cyclic', tol=0.0001, verbose=False)"
      ]
     },
     "execution_count": 15,
     "metadata": {},
     "output_type": "execute_result"
    }
   ],
   "source": [
    "\n",
    "regressor = LassoCV(alphas=[1,.5,.1,0], precompute = 'auto', positive= True,tol = 1e-4)\n",
    "regressor.fit(X_train, y_train)"
   ]
  },
  {
   "cell_type": "markdown",
   "metadata": {},
   "source": [
    "Coefficients of Model"
   ]
  },
  {
   "cell_type": "code",
   "execution_count": 16,
   "metadata": {},
   "outputs": [
    {
     "data": {
      "text/plain": [
       "0.0"
      ]
     },
     "execution_count": 16,
     "metadata": {},
     "output_type": "execute_result"
    }
   ],
   "source": [
    "regressor.alpha_"
   ]
  },
  {
   "cell_type": "code",
   "execution_count": 17,
   "metadata": {},
   "outputs": [
    {
     "name": "stdout",
     "output_type": "stream",
     "text": [
      "6\n"
     ]
    }
   ],
   "source": [
    "print(len(regressor.coef_))"
   ]
  },
  {
   "cell_type": "code",
   "execution_count": 18,
   "metadata": {
    "scrolled": true
   },
   "outputs": [
    {
     "data": {
      "text/html": [
       "<div>\n",
       "<style scoped>\n",
       "    .dataframe tbody tr th:only-of-type {\n",
       "        vertical-align: middle;\n",
       "    }\n",
       "\n",
       "    .dataframe tbody tr th {\n",
       "        vertical-align: top;\n",
       "    }\n",
       "\n",
       "    .dataframe thead th {\n",
       "        text-align: right;\n",
       "    }\n",
       "</style>\n",
       "<table border=\"1\" class=\"dataframe\">\n",
       "  <thead>\n",
       "    <tr style=\"text-align: right;\">\n",
       "      <th></th>\n",
       "      <th>Coefficient</th>\n",
       "    </tr>\n",
       "  </thead>\n",
       "  <tbody>\n",
       "    <tr>\n",
       "      <th>specialty_description</th>\n",
       "      <td>0.087766</td>\n",
       "    </tr>\n",
       "    <tr>\n",
       "      <th>total_drug_cost</th>\n",
       "      <td>0.018874</td>\n",
       "    </tr>\n",
       "    <tr>\n",
       "      <th>total_30_day_fill_count</th>\n",
       "      <td>0.009951</td>\n",
       "    </tr>\n",
       "    <tr>\n",
       "      <th>nppes_provider_city</th>\n",
       "      <td>0.000000</td>\n",
       "    </tr>\n",
       "    <tr>\n",
       "      <th>bene_count</th>\n",
       "      <td>0.000000</td>\n",
       "    </tr>\n",
       "    <tr>\n",
       "      <th>total_claim_count</th>\n",
       "      <td>0.000000</td>\n",
       "    </tr>\n",
       "  </tbody>\n",
       "</table>\n",
       "</div>"
      ],
      "text/plain": [
       "                         Coefficient\n",
       "specialty_description       0.087766\n",
       "total_drug_cost             0.018874\n",
       "total_30_day_fill_count     0.009951\n",
       "nppes_provider_city         0.000000\n",
       "bene_count                  0.000000\n",
       "total_claim_count           0.000000"
      ]
     },
     "execution_count": 18,
     "metadata": {},
     "output_type": "execute_result"
    }
   ],
   "source": [
    "coeff_df = pd.DataFrame( regressor.coef_ , newLabels, columns=['Coefficient'])  \n",
    "#coeff_df = coeff_df[coeff_df[\"Coefficient\"] != 0]\n",
    "coeff_df.sort_values(\"Coefficient\" ,ascending = False) #Coefficients for each feature used"
   ]
  },
  {
   "cell_type": "markdown",
   "metadata": {},
   "source": [
    "Predictions"
   ]
  },
  {
   "cell_type": "code",
   "execution_count": 19,
   "metadata": {},
   "outputs": [],
   "source": [
    "y_pred = regressor.predict(X_test)"
   ]
  },
  {
   "cell_type": "code",
   "execution_count": 32,
   "metadata": {},
   "outputs": [
    {
     "data": {
      "text/plain": [
       "137361"
      ]
     },
     "execution_count": 32,
     "metadata": {},
     "output_type": "execute_result"
    }
   ],
   "source": [
    "len(y_pred)"
   ]
  },
  {
   "cell_type": "code",
   "execution_count": 33,
   "metadata": {},
   "outputs": [
    {
     "data": {
      "text/plain": [
       "137361"
      ]
     },
     "execution_count": 33,
     "metadata": {},
     "output_type": "execute_result"
    }
   ],
   "source": [
    "len(y_test)"
   ]
  },
  {
   "cell_type": "code",
   "execution_count": 20,
   "metadata": {},
   "outputs": [
    {
     "data": {
      "text/html": [
       "<div>\n",
       "<style scoped>\n",
       "    .dataframe tbody tr th:only-of-type {\n",
       "        vertical-align: middle;\n",
       "    }\n",
       "\n",
       "    .dataframe tbody tr th {\n",
       "        vertical-align: top;\n",
       "    }\n",
       "\n",
       "    .dataframe thead th {\n",
       "        text-align: right;\n",
       "    }\n",
       "</style>\n",
       "<table border=\"1\" class=\"dataframe\">\n",
       "  <thead>\n",
       "    <tr style=\"text-align: right;\">\n",
       "      <th></th>\n",
       "      <th>Actual</th>\n",
       "      <th>Predicted</th>\n",
       "    </tr>\n",
       "  </thead>\n",
       "  <tbody>\n",
       "    <tr>\n",
       "      <th>308724</th>\n",
       "      <td>0.624626</td>\n",
       "      <td>0.678265</td>\n",
       "    </tr>\n",
       "    <tr>\n",
       "      <th>511010</th>\n",
       "      <td>0.877905</td>\n",
       "      <td>0.553508</td>\n",
       "    </tr>\n",
       "    <tr>\n",
       "      <th>415212</th>\n",
       "      <td>0.511209</td>\n",
       "      <td>0.623119</td>\n",
       "    </tr>\n",
       "    <tr>\n",
       "      <th>21567</th>\n",
       "      <td>0.894008</td>\n",
       "      <td>0.713779</td>\n",
       "    </tr>\n",
       "    <tr>\n",
       "      <th>17190</th>\n",
       "      <td>0.754700</td>\n",
       "      <td>0.678799</td>\n",
       "    </tr>\n",
       "    <tr>\n",
       "      <th>181166</th>\n",
       "      <td>0.976848</td>\n",
       "      <td>0.813991</td>\n",
       "    </tr>\n",
       "    <tr>\n",
       "      <th>281422</th>\n",
       "      <td>0.764431</td>\n",
       "      <td>0.795377</td>\n",
       "    </tr>\n",
       "    <tr>\n",
       "      <th>279589</th>\n",
       "      <td>0.805266</td>\n",
       "      <td>0.524964</td>\n",
       "    </tr>\n",
       "    <tr>\n",
       "      <th>344681</th>\n",
       "      <td>0.835780</td>\n",
       "      <td>0.696111</td>\n",
       "    </tr>\n",
       "    <tr>\n",
       "      <th>447188</th>\n",
       "      <td>0.576460</td>\n",
       "      <td>0.502204</td>\n",
       "    </tr>\n",
       "    <tr>\n",
       "      <th>203046</th>\n",
       "      <td>0.737360</td>\n",
       "      <td>0.652509</td>\n",
       "    </tr>\n",
       "    <tr>\n",
       "      <th>390798</th>\n",
       "      <td>0.732918</td>\n",
       "      <td>0.665172</td>\n",
       "    </tr>\n",
       "    <tr>\n",
       "      <th>196911</th>\n",
       "      <td>0.619629</td>\n",
       "      <td>0.605272</td>\n",
       "    </tr>\n",
       "    <tr>\n",
       "      <th>539714</th>\n",
       "      <td>0.756429</td>\n",
       "      <td>0.782652</td>\n",
       "    </tr>\n",
       "    <tr>\n",
       "      <th>424142</th>\n",
       "      <td>0.908484</td>\n",
       "      <td>0.796329</td>\n",
       "    </tr>\n",
       "    <tr>\n",
       "      <th>440542</th>\n",
       "      <td>0.706571</td>\n",
       "      <td>0.696737</td>\n",
       "    </tr>\n",
       "    <tr>\n",
       "      <th>276491</th>\n",
       "      <td>0.549222</td>\n",
       "      <td>0.549786</td>\n",
       "    </tr>\n",
       "    <tr>\n",
       "      <th>294528</th>\n",
       "      <td>0.272557</td>\n",
       "      <td>0.645254</td>\n",
       "    </tr>\n",
       "    <tr>\n",
       "      <th>217086</th>\n",
       "      <td>0.906177</td>\n",
       "      <td>0.744066</td>\n",
       "    </tr>\n",
       "    <tr>\n",
       "      <th>129155</th>\n",
       "      <td>0.963463</td>\n",
       "      <td>0.818254</td>\n",
       "    </tr>\n",
       "    <tr>\n",
       "      <th>100636</th>\n",
       "      <td>0.738493</td>\n",
       "      <td>0.584220</td>\n",
       "    </tr>\n",
       "    <tr>\n",
       "      <th>316897</th>\n",
       "      <td>0.872424</td>\n",
       "      <td>0.663273</td>\n",
       "    </tr>\n",
       "    <tr>\n",
       "      <th>411572</th>\n",
       "      <td>0.386426</td>\n",
       "      <td>0.663545</td>\n",
       "    </tr>\n",
       "    <tr>\n",
       "      <th>219107</th>\n",
       "      <td>0.777058</td>\n",
       "      <td>0.683178</td>\n",
       "    </tr>\n",
       "    <tr>\n",
       "      <th>181663</th>\n",
       "      <td>0.338799</td>\n",
       "      <td>0.722816</td>\n",
       "    </tr>\n",
       "  </tbody>\n",
       "</table>\n",
       "</div>"
      ],
      "text/plain": [
       "          Actual  Predicted\n",
       "308724  0.624626   0.678265\n",
       "511010  0.877905   0.553508\n",
       "415212  0.511209   0.623119\n",
       "21567   0.894008   0.713779\n",
       "17190   0.754700   0.678799\n",
       "181166  0.976848   0.813991\n",
       "281422  0.764431   0.795377\n",
       "279589  0.805266   0.524964\n",
       "344681  0.835780   0.696111\n",
       "447188  0.576460   0.502204\n",
       "203046  0.737360   0.652509\n",
       "390798  0.732918   0.665172\n",
       "196911  0.619629   0.605272\n",
       "539714  0.756429   0.782652\n",
       "424142  0.908484   0.796329\n",
       "440542  0.706571   0.696737\n",
       "276491  0.549222   0.549786\n",
       "294528  0.272557   0.645254\n",
       "217086  0.906177   0.744066\n",
       "129155  0.963463   0.818254\n",
       "100636  0.738493   0.584220\n",
       "316897  0.872424   0.663273\n",
       "411572  0.386426   0.663545\n",
       "219107  0.777058   0.683178\n",
       "181663  0.338799   0.722816"
      ]
     },
     "execution_count": 20,
     "metadata": {},
     "output_type": "execute_result"
    }
   ],
   "source": [
    "comparison_df = pd.DataFrame({'Actual': y_test, 'Predicted': y_pred})\n",
    "comparison_df.head(25) #Actual Vs Predicted Dataframe"
   ]
  },
  {
   "cell_type": "code",
   "execution_count": 21,
   "metadata": {
    "scrolled": true
   },
   "outputs": [
    {
     "data": {
      "image/png": "[encoded data removed]",
      "text/plain": [
       "<Figure size 720x576 with 1 Axes>"
      ]
     },
     "metadata": {
      "needs_background": "light"
     },
     "output_type": "display_data"
    }
   ],
   "source": [
    "comparison_df.iloc[0:25].plot(kind='bar',figsize=(10,8))\n",
    "plt.grid(which='major', linestyle='-', linewidth='0.5', color='green')\n",
    "plt.grid(which='minor', linestyle=':', linewidth='0.5', color='black')\n",
    "plt.show()"
   ]
  },
  {
   "cell_type": "code",
   "execution_count": 22,
   "metadata": {},
   "outputs": [
    {
     "data": {
      "text/plain": [
       "Text(0, 0.5, 'Predicted')"
      ]
     },
     "execution_count": 22,
     "metadata": {},
     "output_type": "execute_result"
    },
    {
     "data": {
      "image/png": "[encoded data removed]",
      "text/plain": [
       "<Figure size 432x288 with 1 Axes>"
      ]
     },
     "metadata": {
      "needs_background": "light"
     },
     "output_type": "display_data"
    }
   ],
   "source": [
    "plt.scatter(comparison_df.iloc[0:1000][\"Actual\"], comparison_df.iloc[0:1000][\"Predicted\"], alpha = .25)\n",
    "plt.xlabel(\"Actual\", fontsize = 16) #scatter plot of specialty combined data\n",
    "plt.ylabel(\"Predicted\",  fontsize = 16)"
   ]
  },
  {
   "cell_type": "markdown",
   "metadata": {},
   "source": [
    "Statistics"
   ]
  },
  {
   "cell_type": "code",
   "execution_count": 23,
   "metadata": {},
   "outputs": [
    {
     "name": "stdout",
     "output_type": "stream",
     "text": [
      "Mean Absolute Error: 0.13690676033320376\n",
      "Mean Squared Error: 0.031615464456709964\n"
     ]
    }
   ],
   "source": [
    "print('Mean Absolute Error:', metrics.mean_absolute_error(y_test, y_pred)) \n",
    "mae = metrics.mean_absolute_error(y_test, y_pred)\n",
    "print('Mean Squared Error:', metrics.mean_squared_error(y_test, y_pred))\n",
    "mse = metrics.mean_squared_error(y_test, y_pred)"
   ]
  },
  {
   "cell_type": "code",
   "execution_count": 24,
   "metadata": {
    "scrolled": false
   },
   "outputs": [
    {
     "name": "stdout",
     "output_type": "stream",
     "text": [
      "r Squared: 0.2251647629710185\n"
     ]
    }
   ],
   "source": [
    "print(\"r Squared:\", metrics.r2_score(y_test, y_pred))\n",
    "rsq = metrics.r2_score(y_test, y_pred)"
   ]
  },
  {
   "cell_type": "code",
   "execution_count": 25,
   "metadata": {},
   "outputs": [],
   "source": [
    "metrics_df = pd.read_csv(\"data\\metrics_df.csv\")"
   ]
  },
  {
   "cell_type": "code",
   "execution_count": 26,
   "metadata": {},
   "outputs": [],
   "source": [
    "metrics_df = metrics_df.append({\"Input\": Labels, \"R Squared\": rsq, \"Mean Absolute Error\": mae, \"Mean Squared Error\": mse, \"Model\": \"Lasso Linear\"}, ignore_index=True)"
   ]
  },
  {
   "cell_type": "code",
   "execution_count": 27,
   "metadata": {},
   "outputs": [
    {
     "data": {
      "text/html": [
       "<div>\n",
       "<style scoped>\n",
       "    .dataframe tbody tr th:only-of-type {\n",
       "        vertical-align: middle;\n",
       "    }\n",
       "\n",
       "    .dataframe tbody tr th {\n",
       "        vertical-align: top;\n",
       "    }\n",
       "\n",
       "    .dataframe thead th {\n",
       "        text-align: right;\n",
       "    }\n",
       "</style>\n",
       "<table border=\"1\" class=\"dataframe\">\n",
       "  <thead>\n",
       "    <tr style=\"text-align: right;\">\n",
       "      <th></th>\n",
       "      <th>Input</th>\n",
       "      <th>R Squared</th>\n",
       "      <th>Mean Absolute Error</th>\n",
       "      <th>Mean Squared Error</th>\n",
       "      <th>Model</th>\n",
       "    </tr>\n",
       "  </thead>\n",
       "  <tbody>\n",
       "    <tr>\n",
       "      <th>30</th>\n",
       "      <td>['specialty_description', 'nppes_provider_city...</td>\n",
       "      <td>0.492590</td>\n",
       "      <td>0.107130</td>\n",
       "      <td>0.020644</td>\n",
       "      <td>Neural Network</td>\n",
       "    </tr>\n",
       "    <tr>\n",
       "      <th>31</th>\n",
       "      <td>['specialty_description', 'nppes_provider_city...</td>\n",
       "      <td>0.679706</td>\n",
       "      <td>0.079021</td>\n",
       "      <td>0.013095</td>\n",
       "      <td>Random Forest</td>\n",
       "    </tr>\n",
       "    <tr>\n",
       "      <th>32</th>\n",
       "      <td>['specialty_description', 'nppes_provider_city...</td>\n",
       "      <td>0.259210</td>\n",
       "      <td>0.132228</td>\n",
       "      <td>0.030270</td>\n",
       "      <td>Lasso Linear</td>\n",
       "    </tr>\n",
       "    <tr>\n",
       "      <th>33</th>\n",
       "      <td>['specialty_description', 'nppes_provider_city...</td>\n",
       "      <td>0.256006</td>\n",
       "      <td>0.132379</td>\n",
       "      <td>0.030284</td>\n",
       "      <td>Lasso Linear</td>\n",
       "    </tr>\n",
       "    <tr>\n",
       "      <th>34</th>\n",
       "      <td>[specialty_description, nppes_provider_city, t...</td>\n",
       "      <td>0.225165</td>\n",
       "      <td>0.136907</td>\n",
       "      <td>0.031615</td>\n",
       "      <td>Lasso Linear</td>\n",
       "    </tr>\n",
       "  </tbody>\n",
       "</table>\n",
       "</div>"
      ],
      "text/plain": [
       "                                                Input  R Squared  \\\n",
       "30  ['specialty_description', 'nppes_provider_city...   0.492590   \n",
       "31  ['specialty_description', 'nppes_provider_city...   0.679706   \n",
       "32  ['specialty_description', 'nppes_provider_city...   0.259210   \n",
       "33  ['specialty_description', 'nppes_provider_city...   0.256006   \n",
       "34  [specialty_description, nppes_provider_city, t...   0.225165   \n",
       "\n",
       "    Mean Absolute Error  Mean Squared Error           Model  \n",
       "30             0.107130            0.020644  Neural Network  \n",
       "31             0.079021            0.013095   Random Forest  \n",
       "32             0.132228            0.030270    Lasso Linear  \n",
       "33             0.132379            0.030284    Lasso Linear  \n",
       "34             0.136907            0.031615    Lasso Linear  "
      ]
     },
     "execution_count": 27,
     "metadata": {},
     "output_type": "execute_result"
    }
   ],
   "source": [
    "metrics_df.tail()"
   ]
  },
  {
   "cell_type": "code",
   "execution_count": 28,
   "metadata": {},
   "outputs": [],
   "source": [
    "metrics_df.to_csv(\"data\\metrics_df.csv\", index = False)"
   ]
  },
  {
   "cell_type": "markdown",
   "metadata": {},
   "source": [
    "Save Weights"
   ]
  },
  {
   "cell_type": "code",
   "execution_count": 29,
   "metadata": {},
   "outputs": [],
   "source": [
    "from sklearn.externals.joblib import dump,load"
   ]
  },
  {
   "cell_type": "code",
   "execution_count": 30,
   "metadata": {},
   "outputs": [
    {
     "data": {
      "text/plain": [
       "['Model_Weights\\\\L1\\\\Lasso_trainedModel']"
      ]
     },
     "execution_count": 30,
     "metadata": {},
     "output_type": "execute_result"
    }
   ],
   "source": [
    "dump(regressor, \"Model_Weights\\L1\\Lasso_trainedModel\") "
   ]
  },
  {
   "cell_type": "code",
   "execution_count": null,
   "metadata": {},
   "outputs": [],
   "source": []
  }
 ],
 "metadata": {
  "kernelspec": {
   "display_name": "Python 3",
   "language": "python",
   "name": "python3"
  },
  "language_info": {
   "codemirror_mode": {
    "name": "ipython",
    "version": 3
   },
   "file_extension": ".py",
   "mimetype": "text/x-python",
   "name": "python",
   "nbconvert_exporter": "python",
   "pygments_lexer": "ipython3",
   "version": "3.7.3"
  }
 },
 "nbformat": 4,
 "nbformat_minor": 2
}
